{
  "nbformat": 4,
  "nbformat_minor": 0,
  "metadata": {
    "colab": {
      "name": "Copy of Into The Future.ipynb",
      "provenance": [],
      "collapsed_sections": [],
      "authorship_tag": "ABX9TyOpAdRLvCnlDqTVHpJQ5viZ",
      "include_colab_link": true
    },
    "kernelspec": {
      "name": "python3",
      "display_name": "Python 3"
    }
  },
  "cells": [
    {
      "cell_type": "markdown",
      "metadata": {
        "id": "view-in-github",
        "colab_type": "text"
      },
      "source": [
        "<a href=\"https://colab.research.google.com/github/Nehaasati/DSA_1/blob/master/Copy_of_Into_The_Future.ipynb\" target=\"_parent\"><img src=\"https://colab.research.google.com/assets/colab-badge.svg\" alt=\"Open In Colab\"/></a>"
      ]
    },
    {
      "cell_type": "code",
      "metadata": {
        "id": "UCUnWlfVgAF0",
        "colab_type": "code",
        "colab": {
          "base_uri": "https://localhost:8080/",
          "height": 74
        },
        "outputId": "92ab3885-2ae5-4e84-8258-6a30c64e45c2"
      },
      "source": [
        "## Import basic libraries that will be used.\n",
        "\n",
        "import numpy as np\n",
        "import pandas as pd\n",
        "import matplotlib.pyplot as plt\n",
        "from sklearn import preprocessing\n",
        "from scipy import stats\n",
        "import statsmodels.api as sm\n",
        "import matplotlib.pyplot as plt\n",
        "from fbprophet import Prophet\n",
        "\n"
      ],
      "execution_count": null,
      "outputs": [
        {
          "output_type": "stream",
          "text": [
            "/usr/local/lib/python3.6/dist-packages/statsmodels/tools/_testing.py:19: FutureWarning: pandas.util.testing is deprecated. Use the functions in the public API at pandas.testing instead.\n",
            "  import pandas.util.testing as tm\n"
          ],
          "name": "stderr"
        }
      ]
    },
    {
      "cell_type": "code",
      "metadata": {
        "id": "3hQwgoHigPyt",
        "colab_type": "code",
        "colab": {
          "base_uri": "https://localhost:8080/",
          "height": 36
        },
        "outputId": "fc84db6b-6e8c-4b36-d431-aa3ec1a7ce67"
      },
      "source": [
        "## Import data from google drive\n",
        "from google.colab import drive\n",
        "drive.mount('/content/drive/')"
      ],
      "execution_count": null,
      "outputs": [
        {
          "output_type": "stream",
          "text": [
            "Drive already mounted at /content/drive/; to attempt to forcibly remount, call drive.mount(\"/content/drive/\", force_remount=True).\n"
          ],
          "name": "stdout"
        }
      ]
    },
    {
      "cell_type": "code",
      "metadata": {
        "id": "m8jS__PIgP1z",
        "colab_type": "code",
        "colab": {
          "base_uri": "https://localhost:8080/",
          "height": 363
        },
        "outputId": "2669e6c3-34c3-477d-9c81-8e7126aab839"
      },
      "source": [
        "## load CSV files in dataframe and check for data in file.\n",
        "train=pd.read_csv('/content/drive/My Drive/train.csv')\n",
        "train.head(10)"
      ],
      "execution_count": null,
      "outputs": [
        {
          "output_type": "execute_result",
          "data": {
            "text/html": [
              "<div>\n",
              "<style scoped>\n",
              "    .dataframe tbody tr th:only-of-type {\n",
              "        vertical-align: middle;\n",
              "    }\n",
              "\n",
              "    .dataframe tbody tr th {\n",
              "        vertical-align: top;\n",
              "    }\n",
              "\n",
              "    .dataframe thead th {\n",
              "        text-align: right;\n",
              "    }\n",
              "</style>\n",
              "<table border=\"1\" class=\"dataframe\">\n",
              "  <thead>\n",
              "    <tr style=\"text-align: right;\">\n",
              "      <th></th>\n",
              "      <th>id</th>\n",
              "      <th>time</th>\n",
              "      <th>feature_1</th>\n",
              "      <th>feature_2</th>\n",
              "    </tr>\n",
              "  </thead>\n",
              "  <tbody>\n",
              "    <tr>\n",
              "      <th>0</th>\n",
              "      <td>0</td>\n",
              "      <td>2019-03-19 00:00:00</td>\n",
              "      <td>735.740043</td>\n",
              "      <td>54479.540513</td>\n",
              "    </tr>\n",
              "    <tr>\n",
              "      <th>1</th>\n",
              "      <td>1</td>\n",
              "      <td>2019-03-19 00:00:10</td>\n",
              "      <td>734.102947</td>\n",
              "      <td>47888.033714</td>\n",
              "    </tr>\n",
              "    <tr>\n",
              "      <th>2</th>\n",
              "      <td>2</td>\n",
              "      <td>2019-03-19 00:00:20</td>\n",
              "      <td>730.060336</td>\n",
              "      <td>47700.882325</td>\n",
              "    </tr>\n",
              "    <tr>\n",
              "      <th>3</th>\n",
              "      <td>3</td>\n",
              "      <td>2019-03-19 00:00:30</td>\n",
              "      <td>725.609742</td>\n",
              "      <td>47790.094648</td>\n",
              "    </tr>\n",
              "    <tr>\n",
              "      <th>4</th>\n",
              "      <td>4</td>\n",
              "      <td>2019-03-19 00:00:40</td>\n",
              "      <td>724.328480</td>\n",
              "      <td>47808.402381</td>\n",
              "    </tr>\n",
              "    <tr>\n",
              "      <th>5</th>\n",
              "      <td>5</td>\n",
              "      <td>2019-03-19 00:00:50</td>\n",
              "      <td>723.715893</td>\n",
              "      <td>47810.517411</td>\n",
              "    </tr>\n",
              "    <tr>\n",
              "      <th>6</th>\n",
              "      <td>6</td>\n",
              "      <td>2019-03-19 00:01:00</td>\n",
              "      <td>720.406875</td>\n",
              "      <td>47835.758121</td>\n",
              "    </tr>\n",
              "    <tr>\n",
              "      <th>7</th>\n",
              "      <td>7</td>\n",
              "      <td>2019-03-19 00:01:10</td>\n",
              "      <td>712.682269</td>\n",
              "      <td>47806.938481</td>\n",
              "    </tr>\n",
              "    <tr>\n",
              "      <th>8</th>\n",
              "      <td>8</td>\n",
              "      <td>2019-03-19 00:01:20</td>\n",
              "      <td>711.509741</td>\n",
              "      <td>47812.099044</td>\n",
              "    </tr>\n",
              "    <tr>\n",
              "      <th>9</th>\n",
              "      <td>9</td>\n",
              "      <td>2019-03-19 00:01:30</td>\n",
              "      <td>707.025594</td>\n",
              "      <td>47821.540514</td>\n",
              "    </tr>\n",
              "  </tbody>\n",
              "</table>\n",
              "</div>"
            ],
            "text/plain": [
              "   id                 time   feature_1     feature_2\n",
              "0   0  2019-03-19 00:00:00  735.740043  54479.540513\n",
              "1   1  2019-03-19 00:00:10  734.102947  47888.033714\n",
              "2   2  2019-03-19 00:00:20  730.060336  47700.882325\n",
              "3   3  2019-03-19 00:00:30  725.609742  47790.094648\n",
              "4   4  2019-03-19 00:00:40  724.328480  47808.402381\n",
              "5   5  2019-03-19 00:00:50  723.715893  47810.517411\n",
              "6   6  2019-03-19 00:01:00  720.406875  47835.758121\n",
              "7   7  2019-03-19 00:01:10  712.682269  47806.938481\n",
              "8   8  2019-03-19 00:01:20  711.509741  47812.099044\n",
              "9   9  2019-03-19 00:01:30  707.025594  47821.540514"
            ]
          },
          "metadata": {
            "tags": []
          },
          "execution_count": 3
        }
      ]
    },
    {
      "cell_type": "code",
      "metadata": {
        "id": "5lKBDZP-gP5r",
        "colab_type": "code",
        "colab": {
          "base_uri": "https://localhost:8080/",
          "height": 36
        },
        "outputId": "12514638-7902-4241-c040-23748763508b"
      },
      "source": [
        "## load CSV files in dataframe and check for data in file.\n",
        "test=pd.read_csv('/content/drive/My Drive/test(1).csv')\n",
        "test.head(10)\n",
        "print(len(test))"
      ],
      "execution_count": null,
      "outputs": [
        {
          "output_type": "stream",
          "text": [
            "375\n"
          ],
          "name": "stdout"
        }
      ]
    },
    {
      "cell_type": "code",
      "metadata": {
        "id": "TLzFO4QrgtZK",
        "colab_type": "code",
        "colab": {
          "base_uri": "https://localhost:8080/",
          "height": 287
        },
        "outputId": "e03e41e1-22f0-4a8c-c43c-466170b97034"
      },
      "source": [
        "##  Plot feature_1 to check for value range and distribution\n",
        "plt.plot(train['feature_1'])"
      ],
      "execution_count": null,
      "outputs": [
        {
          "output_type": "execute_result",
          "data": {
            "text/plain": [
              "[<matplotlib.lines.Line2D at 0x7f4765d56c88>]"
            ]
          },
          "metadata": {
            "tags": []
          },
          "execution_count": 5
        },
        {
          "output_type": "display_data",
          "data": {
            "image/png": "[encoded data removed]",
            "text/plain": [
              "<Figure size 432x288 with 1 Axes>"
            ]
          },
          "metadata": {
            "tags": [],
            "needs_background": "light"
          }
        }
      ]
    },
    {
      "cell_type": "code",
      "metadata": {
        "id": "wNvQ-67xgtjm",
        "colab_type": "code",
        "colab": {
          "base_uri": "https://localhost:8080/",
          "height": 284
        },
        "outputId": "5a2145e1-ac06-4371-8211-d0b4a9289558"
      },
      "source": [
        "##  Plot feature_2 to check for value range and distribution\n",
        "plt.plot(train['feature_2'])"
      ],
      "execution_count": null,
      "outputs": [
        {
          "output_type": "execute_result",
          "data": {
            "text/plain": [
              "[<matplotlib.lines.Line2D at 0x7f4765829c18>]"
            ]
          },
          "metadata": {
            "tags": []
          },
          "execution_count": 6
        },
        {
          "output_type": "display_data",
          "data": {
            "image/png": "[encoded data removed]",
            "text/plain": [
              "<Figure size 432x288 with 1 Axes>"
            ]
          },
          "metadata": {
            "tags": [],
            "needs_background": "light"
          }
        }
      ]
    },
    {
      "cell_type": "code",
      "metadata": {
        "id": "6CTeqgWJgtq7",
        "colab_type": "code",
        "colab": {}
      },
      "source": [
        "## Store required driving feature in local variable\n",
        "X = train.feature_1"
      ],
      "execution_count": null,
      "outputs": []
    },
    {
      "cell_type": "code",
      "metadata": {
        "id": "WXKfFz6NgP8X",
        "colab_type": "code",
        "colab": {}
      },
      "source": [
        "## Store required target feature in local variable\n",
        "Y=train.feature_2"
      ],
      "execution_count": null,
      "outputs": []
    },
    {
      "cell_type": "code",
      "metadata": {
        "id": "L_sgRxsmkj2M",
        "colab_type": "code",
        "colab": {}
      },
      "source": [
        "## Check for Ordinary Least Squares regression  between F_1 and F_2 without adding any time as input.\n",
        "## https://www.statsmodels.org/devel/generated/statsmodels.regression.linear_model.OLS.html\n",
        "results = sm.OLS(Y, X).fit()\n"
      ],
      "execution_count": null,
      "outputs": []
    },
    {
      "cell_type": "code",
      "metadata": {
        "id": "_Lic4RCckkCz",
        "colab_type": "code",
        "colab": {
          "base_uri": "https://localhost:8080/",
          "height": 461
        },
        "outputId": "c29ed5a9-a86b-4bf7-f46f-284fd8da01c2"
      },
      "source": [
        "print(results.summary())"
      ],
      "execution_count": null,
      "outputs": [
        {
          "output_type": "stream",
          "text": [
            "                                 OLS Regression Results                                \n",
            "=======================================================================================\n",
            "Dep. Variable:              feature_2   R-squared (uncentered):                   0.974\n",
            "Model:                            OLS   Adj. R-squared (uncentered):              0.974\n",
            "Method:                 Least Squares   F-statistic:                          2.101e+04\n",
            "Date:                Fri, 17 Jul 2020   Prob (F-statistic):                        0.00\n",
            "Time:                        18:12:00   Log-Likelihood:                         -5902.1\n",
            "No. Observations:                 564   AIC:                                  1.181e+04\n",
            "Df Residuals:                     563   BIC:                                  1.181e+04\n",
            "Df Model:                           1                                                  \n",
            "Covariance Type:            nonrobust                                                  \n",
            "==============================================================================\n",
            "                 coef    std err          t      P>|t|      [0.025      0.975]\n",
            "------------------------------------------------------------------------------\n",
            "feature_1     98.0595      0.676    144.963      0.000      96.731      99.388\n",
            "==============================================================================\n",
            "Omnibus:                       62.943   Durbin-Watson:                   0.002\n",
            "Prob(Omnibus):                  0.000   Jarque-Bera (JB):               82.340\n",
            "Skew:                          -0.932   Prob(JB):                     1.32e-18\n",
            "Kurtosis:                       3.181   Cond. No.                         1.00\n",
            "==============================================================================\n",
            "\n",
            "Warnings:\n",
            "[1] Standard Errors assume that the covariance matrix of the errors is correctly specified.\n"
          ],
          "name": "stdout"
        }
      ]
    },
    {
      "cell_type": "code",
      "metadata": {
        "id": "l8SVT5Tqk2TL",
        "colab_type": "code",
        "colab": {}
      },
      "source": [
        "## change time stamp colum as time datatype, so that time series model can be used.\n",
        "train['time'] = pd.to_datetime(train['time'])\n",
        "train.drop('id',axis=1,inplace=True)\n",
        "train.set_index('time',inplace=True)"
      ],
      "execution_count": null,
      "outputs": []
    },
    {
      "cell_type": "code",
      "metadata": {
        "id": "9R3qnRZ5nNiS",
        "colab_type": "code",
        "colab": {
          "base_uri": "https://localhost:8080/",
          "height": 206
        },
        "outputId": "4f20e604-f686-40d4-dea5-cdc23c98d6d3"
      },
      "source": [
        "## reset index for test data and check for last rows in data\n",
        "data = train.reset_index()\n",
        "data.tail()"
      ],
      "execution_count": null,
      "outputs": [
        {
          "output_type": "execute_result",
          "data": {
            "text/html": [
              "<div>\n",
              "<style scoped>\n",
              "    .dataframe tbody tr th:only-of-type {\n",
              "        vertical-align: middle;\n",
              "    }\n",
              "\n",
              "    .dataframe tbody tr th {\n",
              "        vertical-align: top;\n",
              "    }\n",
              "\n",
              "    .dataframe thead th {\n",
              "        text-align: right;\n",
              "    }\n",
              "</style>\n",
              "<table border=\"1\" class=\"dataframe\">\n",
              "  <thead>\n",
              "    <tr style=\"text-align: right;\">\n",
              "      <th></th>\n",
              "      <th>time</th>\n",
              "      <th>feature_1</th>\n",
              "      <th>feature_2</th>\n",
              "    </tr>\n",
              "  </thead>\n",
              "  <tbody>\n",
              "    <tr>\n",
              "      <th>559</th>\n",
              "      <td>2019-03-19 01:33:10</td>\n",
              "      <td>423.726707</td>\n",
              "      <td>54115.388787</td>\n",
              "    </tr>\n",
              "    <tr>\n",
              "      <th>560</th>\n",
              "      <td>2019-03-19 01:33:20</td>\n",
              "      <td>424.278568</td>\n",
              "      <td>54127.830664</td>\n",
              "    </tr>\n",
              "    <tr>\n",
              "      <th>561</th>\n",
              "      <td>2019-03-19 01:33:30</td>\n",
              "      <td>420.127639</td>\n",
              "      <td>54092.561194</td>\n",
              "    </tr>\n",
              "    <tr>\n",
              "      <th>562</th>\n",
              "      <td>2019-03-19 01:33:40</td>\n",
              "      <td>421.291993</td>\n",
              "      <td>53994.714950</td>\n",
              "    </tr>\n",
              "    <tr>\n",
              "      <th>563</th>\n",
              "      <td>2019-03-19 01:33:50</td>\n",
              "      <td>423.257581</td>\n",
              "      <td>53863.615475</td>\n",
              "    </tr>\n",
              "  </tbody>\n",
              "</table>\n",
              "</div>"
            ],
            "text/plain": [
              "                   time   feature_1     feature_2\n",
              "559 2019-03-19 01:33:10  423.726707  54115.388787\n",
              "560 2019-03-19 01:33:20  424.278568  54127.830664\n",
              "561 2019-03-19 01:33:30  420.127639  54092.561194\n",
              "562 2019-03-19 01:33:40  421.291993  53994.714950\n",
              "563 2019-03-19 01:33:50  423.257581  53863.615475"
            ]
          },
          "metadata": {
            "tags": []
          },
          "execution_count": 12
        }
      ]
    },
    {
      "cell_type": "code",
      "metadata": {
        "id": "Cmvn_G72oHXe",
        "colab_type": "code",
        "colab": {}
      },
      "source": [
        "## Create a DF which has direct relation between time and target value\n",
        "data2 = data[['time','feature_2']].reset_index()\n",
        "data2.drop('index',axis=1,inplace=True)\n",
        "data2.columns = ['ds', 'y']"
      ],
      "execution_count": null,
      "outputs": []
    },
    {
      "cell_type": "code",
      "metadata": {
        "id": "M0bT3pMqoHkA",
        "colab_type": "code",
        "colab": {
          "base_uri": "https://localhost:8080/",
          "height": 206
        },
        "outputId": "ddc41340-788b-4c15-c028-5614ae1b8258"
      },
      "source": [
        "## Split train data in 2 parts, 1 to train model and 2nd to check for performance of model\n",
        "prediction_size = 50\n",
        "train_df2 = data2[:-prediction_size]\n",
        "train_df2.tail()"
      ],
      "execution_count": null,
      "outputs": [
        {
          "output_type": "execute_result",
          "data": {
            "text/html": [
              "<div>\n",
              "<style scoped>\n",
              "    .dataframe tbody tr th:only-of-type {\n",
              "        vertical-align: middle;\n",
              "    }\n",
              "\n",
              "    .dataframe tbody tr th {\n",
              "        vertical-align: top;\n",
              "    }\n",
              "\n",
              "    .dataframe thead th {\n",
              "        text-align: right;\n",
              "    }\n",
              "</style>\n",
              "<table border=\"1\" class=\"dataframe\">\n",
              "  <thead>\n",
              "    <tr style=\"text-align: right;\">\n",
              "      <th></th>\n",
              "      <th>ds</th>\n",
              "      <th>y</th>\n",
              "    </tr>\n",
              "  </thead>\n",
              "  <tbody>\n",
              "    <tr>\n",
              "      <th>509</th>\n",
              "      <td>2019-03-19 01:24:50</td>\n",
              "      <td>53943.845895</td>\n",
              "    </tr>\n",
              "    <tr>\n",
              "      <th>510</th>\n",
              "      <td>2019-03-19 01:25:00</td>\n",
              "      <td>53921.971983</td>\n",
              "    </tr>\n",
              "    <tr>\n",
              "      <th>511</th>\n",
              "      <td>2019-03-19 01:25:10</td>\n",
              "      <td>53921.542656</td>\n",
              "    </tr>\n",
              "    <tr>\n",
              "      <th>512</th>\n",
              "      <td>2019-03-19 01:25:20</td>\n",
              "      <td>53894.271784</td>\n",
              "    </tr>\n",
              "    <tr>\n",
              "      <th>513</th>\n",
              "      <td>2019-03-19 01:25:30</td>\n",
              "      <td>53882.826471</td>\n",
              "    </tr>\n",
              "  </tbody>\n",
              "</table>\n",
              "</div>"
            ],
            "text/plain": [
              "                     ds             y\n",
              "509 2019-03-19 01:24:50  53943.845895\n",
              "510 2019-03-19 01:25:00  53921.971983\n",
              "511 2019-03-19 01:25:10  53921.542656\n",
              "512 2019-03-19 01:25:20  53894.271784\n",
              "513 2019-03-19 01:25:30  53882.826471"
            ]
          },
          "metadata": {
            "tags": []
          },
          "execution_count": 14
        }
      ]
    },
    {
      "cell_type": "code",
      "metadata": {
        "id": "zzIp36f7pfQ5",
        "colab_type": "code",
        "colab": {
          "base_uri": "https://localhost:8080/",
          "height": 91
        },
        "outputId": "0c6c1211-cece-4031-99ee-388642a9a2cc"
      },
      "source": [
        "## Use Prophet model for timseries. Based on sklearn API's and has good wrapper fucntionality.\n",
        "##https://facebook.github.io/prophet/docs/quick_start.html\n",
        "n = Prophet()\n",
        "n.fit(train_df2)"
      ],
      "execution_count": null,
      "outputs": [
        {
          "output_type": "stream",
          "text": [
            "INFO:fbprophet:Disabling yearly seasonality. Run prophet with yearly_seasonality=True to override this.\n",
            "INFO:fbprophet:Disabling weekly seasonality. Run prophet with weekly_seasonality=True to override this.\n",
            "INFO:fbprophet:Disabling daily seasonality. Run prophet with daily_seasonality=True to override this.\n"
          ],
          "name": "stderr"
        },
        {
          "output_type": "execute_result",
          "data": {
            "text/plain": [
              "<fbprophet.forecaster.Prophet at 0x7f4763ed7518>"
            ]
          },
          "metadata": {
            "tags": []
          },
          "execution_count": 16
        }
      ]
    },
    {
      "cell_type": "code",
      "metadata": {
        "id": "IftqSRfbpfaQ",
        "colab_type": "code",
        "colab": {
          "base_uri": "https://localhost:8080/",
          "height": 143
        },
        "outputId": "6b02452c-eb77-4fd4-a85e-01211e9a5a2b"
      },
      "source": [
        "## make Timestamps for new final predict data frames.\n",
        "future = n.make_future_dataframe(periods=435, freq='10S')\n",
        "future.tail(n=3)"
      ],
      "execution_count": null,
      "outputs": [
        {
          "output_type": "execute_result",
          "data": {
            "text/html": [
              "<div>\n",
              "<style scoped>\n",
              "    .dataframe tbody tr th:only-of-type {\n",
              "        vertical-align: middle;\n",
              "    }\n",
              "\n",
              "    .dataframe tbody tr th {\n",
              "        vertical-align: top;\n",
              "    }\n",
              "\n",
              "    .dataframe thead th {\n",
              "        text-align: right;\n",
              "    }\n",
              "</style>\n",
              "<table border=\"1\" class=\"dataframe\">\n",
              "  <thead>\n",
              "    <tr style=\"text-align: right;\">\n",
              "      <th></th>\n",
              "      <th>ds</th>\n",
              "    </tr>\n",
              "  </thead>\n",
              "  <tbody>\n",
              "    <tr>\n",
              "      <th>946</th>\n",
              "      <td>2019-03-19 02:37:40</td>\n",
              "    </tr>\n",
              "    <tr>\n",
              "      <th>947</th>\n",
              "      <td>2019-03-19 02:37:50</td>\n",
              "    </tr>\n",
              "    <tr>\n",
              "      <th>948</th>\n",
              "      <td>2019-03-19 02:38:00</td>\n",
              "    </tr>\n",
              "  </tbody>\n",
              "</table>\n",
              "</div>"
            ],
            "text/plain": [
              "                     ds\n",
              "946 2019-03-19 02:37:40\n",
              "947 2019-03-19 02:37:50\n",
              "948 2019-03-19 02:38:00"
            ]
          },
          "metadata": {
            "tags": []
          },
          "execution_count": 17
        }
      ]
    },
    {
      "cell_type": "code",
      "metadata": {
        "id": "pzINWyf8pfjB",
        "colab_type": "code",
        "colab": {
          "base_uri": "https://localhost:8080/",
          "height": 215
        },
        "outputId": "f16366d3-87a3-4833-c758-f1e70d2617b5"
      },
      "source": [
        "## predict values for final test data\n",
        "forecast = n.predict(future)\n",
        "forecast.tail(n=3)\n",
        "forecast.head(n=3)"
      ],
      "execution_count": null,
      "outputs": [
        {
          "output_type": "execute_result",
          "data": {
            "text/html": [
              "<div>\n",
              "<style scoped>\n",
              "    .dataframe tbody tr th:only-of-type {\n",
              "        vertical-align: middle;\n",
              "    }\n",
              "\n",
              "    .dataframe tbody tr th {\n",
              "        vertical-align: top;\n",
              "    }\n",
              "\n",
              "    .dataframe thead th {\n",
              "        text-align: right;\n",
              "    }\n",
              "</style>\n",
              "<table border=\"1\" class=\"dataframe\">\n",
              "  <thead>\n",
              "    <tr style=\"text-align: right;\">\n",
              "      <th></th>\n",
              "      <th>ds</th>\n",
              "      <th>trend</th>\n",
              "      <th>yhat_lower</th>\n",
              "      <th>yhat_upper</th>\n",
              "      <th>trend_lower</th>\n",
              "      <th>trend_upper</th>\n",
              "      <th>additive_terms</th>\n",
              "      <th>additive_terms_lower</th>\n",
              "      <th>additive_terms_upper</th>\n",
              "      <th>multiplicative_terms</th>\n",
              "      <th>multiplicative_terms_lower</th>\n",
              "      <th>multiplicative_terms_upper</th>\n",
              "      <th>yhat</th>\n",
              "    </tr>\n",
              "  </thead>\n",
              "  <tbody>\n",
              "    <tr>\n",
              "      <th>0</th>\n",
              "      <td>2019-03-19 00:00:00</td>\n",
              "      <td>48480.484673</td>\n",
              "      <td>48072.658990</td>\n",
              "      <td>48888.708442</td>\n",
              "      <td>48480.484673</td>\n",
              "      <td>48480.484673</td>\n",
              "      <td>0.0</td>\n",
              "      <td>0.0</td>\n",
              "      <td>0.0</td>\n",
              "      <td>0.0</td>\n",
              "      <td>0.0</td>\n",
              "      <td>0.0</td>\n",
              "      <td>48480.484673</td>\n",
              "    </tr>\n",
              "    <tr>\n",
              "      <th>1</th>\n",
              "      <td>2019-03-19 00:00:10</td>\n",
              "      <td>48472.380890</td>\n",
              "      <td>48056.099943</td>\n",
              "      <td>48884.716636</td>\n",
              "      <td>48472.380890</td>\n",
              "      <td>48472.380890</td>\n",
              "      <td>0.0</td>\n",
              "      <td>0.0</td>\n",
              "      <td>0.0</td>\n",
              "      <td>0.0</td>\n",
              "      <td>0.0</td>\n",
              "      <td>0.0</td>\n",
              "      <td>48472.380890</td>\n",
              "    </tr>\n",
              "    <tr>\n",
              "      <th>2</th>\n",
              "      <td>2019-03-19 00:00:20</td>\n",
              "      <td>48464.277106</td>\n",
              "      <td>48064.399572</td>\n",
              "      <td>48904.875866</td>\n",
              "      <td>48464.277106</td>\n",
              "      <td>48464.277106</td>\n",
              "      <td>0.0</td>\n",
              "      <td>0.0</td>\n",
              "      <td>0.0</td>\n",
              "      <td>0.0</td>\n",
              "      <td>0.0</td>\n",
              "      <td>0.0</td>\n",
              "      <td>48464.277106</td>\n",
              "    </tr>\n",
              "  </tbody>\n",
              "</table>\n",
              "</div>"
            ],
            "text/plain": [
              "                   ds         trend  ...  multiplicative_terms_upper          yhat\n",
              "0 2019-03-19 00:00:00  48480.484673  ...                         0.0  48480.484673\n",
              "1 2019-03-19 00:00:10  48472.380890  ...                         0.0  48472.380890\n",
              "2 2019-03-19 00:00:20  48464.277106  ...                         0.0  48464.277106\n",
              "\n",
              "[3 rows x 13 columns]"
            ]
          },
          "metadata": {
            "tags": []
          },
          "execution_count": 18
        }
      ]
    },
    {
      "cell_type": "code",
      "metadata": {
        "id": "RQku1icGpfuO",
        "colab_type": "code",
        "colab": {
          "base_uri": "https://localhost:8080/",
          "height": 433
        },
        "outputId": "88764821-cfea-49bc-d5ad-eabb94bdf143"
      },
      "source": [
        "## plot predicted values vs time stamp\n",
        "n.plot_components(forecast)\n",
        "\n"
      ],
      "execution_count": null,
      "outputs": [
        {
          "output_type": "execute_result",
          "data": {
            "image/png": "[encoded data removed]",
            "text/plain": [
              "<Figure size 648x216 with 1 Axes>"
            ]
          },
          "metadata": {
            "tags": []
          },
          "execution_count": 19
        },
        {
          "output_type": "display_data",
          "data": {
            "image/png": "[encoded data removed]",
            "text/plain": [
              "<Figure size 648x216 with 1 Axes>"
            ]
          },
          "metadata": {
            "tags": []
          }
        }
      ]
    },
    {
      "cell_type": "code",
      "metadata": {
        "id": "XXpMDtTYrvlE",
        "colab_type": "code",
        "colab": {}
      },
      "source": [
        "## define a function to check for MAPE and MAP errors.\n",
        "def score(df, fcast):\n",
        "    \n",
        "    df = pd.DataFrame()\n",
        "    df['error'] = data2[514:563]['y'] - fcast\n",
        "    df['relative_error'] = 100*df['error']/data2[514:563]['y']\n",
        "    error_mean = lambda error_name: np.mean(np.abs(df[error_name]))\n",
        "    \n",
        "    return {'MAPE': error_mean('relative_error'), 'MAE': error_mean('error')}\n",
        "\n"
      ],
      "execution_count": null,
      "outputs": []
    },
    {
      "cell_type": "code",
      "metadata": {
        "id": "LK_5AlkarvvL",
        "colab_type": "code",
        "colab": {
          "base_uri": "https://localhost:8080/",
          "height": 54
        },
        "outputId": "bb0203fe-6348-4fc3-f459-6865bea49f84"
      },
      "source": [
        "## call above function and print values for errors\n",
        "for err_name, err_value in score(data2, fcast).items():\n",
        "    print(err_name, err_value)"
      ],
      "execution_count": null,
      "outputs": [
        {
          "output_type": "stream",
          "text": [
            "MAPE 0.247956006288187\n",
            "MAE 133.5301352894842\n"
          ],
          "name": "stdout"
        }
      ]
    },
    {
      "cell_type": "code",
      "metadata": {
        "id": "Bs-RV3KasFLj",
        "colab_type": "code",
        "colab": {}
      },
      "source": [
        "## Do forecast for test data.\n",
        "d = forecast[574:]['yhat']\n",
        "final = pd.DataFrame()\n",
        "final['id'] = test['id']\n",
        "final['feature_2'] = list(d)"
      ],
      "execution_count": null,
      "outputs": []
    },
    {
      "cell_type": "code",
      "metadata": {
        "id": "v6IPmkX_sFTi",
        "colab_type": "code",
        "colab": {
          "base_uri": "https://localhost:8080/",
          "height": 206
        },
        "outputId": "4c64ff02-94c8-4ebe-a448-6456040f3983"
      },
      "source": [
        "#final output\n",
        "final.head()"
      ],
      "execution_count": null,
      "outputs": [
        {
          "output_type": "execute_result",
          "data": {
            "text/html": [
              "<div>\n",
              "<style scoped>\n",
              "    .dataframe tbody tr th:only-of-type {\n",
              "        vertical-align: middle;\n",
              "    }\n",
              "\n",
              "    .dataframe tbody tr th {\n",
              "        vertical-align: top;\n",
              "    }\n",
              "\n",
              "    .dataframe thead th {\n",
              "        text-align: right;\n",
              "    }\n",
              "</style>\n",
              "<table border=\"1\" class=\"dataframe\">\n",
              "  <thead>\n",
              "    <tr style=\"text-align: right;\">\n",
              "      <th></th>\n",
              "      <th>id</th>\n",
              "      <th>feature_2</th>\n",
              "    </tr>\n",
              "  </thead>\n",
              "  <tbody>\n",
              "    <tr>\n",
              "      <th>0</th>\n",
              "      <td>564</td>\n",
              "      <td>54174.345304</td>\n",
              "    </tr>\n",
              "    <tr>\n",
              "      <th>1</th>\n",
              "      <td>565</td>\n",
              "      <td>54180.548499</td>\n",
              "    </tr>\n",
              "    <tr>\n",
              "      <th>2</th>\n",
              "      <td>566</td>\n",
              "      <td>54186.751693</td>\n",
              "    </tr>\n",
              "    <tr>\n",
              "      <th>3</th>\n",
              "      <td>567</td>\n",
              "      <td>54192.954888</td>\n",
              "    </tr>\n",
              "    <tr>\n",
              "      <th>4</th>\n",
              "      <td>568</td>\n",
              "      <td>54199.158083</td>\n",
              "    </tr>\n",
              "  </tbody>\n",
              "</table>\n",
              "</div>"
            ],
            "text/plain": [
              "    id     feature_2\n",
              "0  564  54174.345304\n",
              "1  565  54180.548499\n",
              "2  566  54186.751693\n",
              "3  567  54192.954888\n",
              "4  568  54199.158083"
            ]
          },
          "metadata": {
            "tags": []
          },
          "execution_count": 40
        }
      ]
    },
    {
      "cell_type": "code",
      "metadata": {
        "id": "9IgtmwFk-tUb",
        "colab_type": "code",
        "colab": {}
      },
      "source": [
        ""
      ],
      "execution_count": null,
      "outputs": []
    }
  ]
}