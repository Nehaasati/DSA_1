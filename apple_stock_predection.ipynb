{
  "nbformat": 4,
  "nbformat_minor": 0,
  "metadata": {
    "colab": {
      "name": "applestockprediction",
      "provenance": [],
      "authorship_tag": "ABX9TyP9JTYyqQmRL6F8VK1iZY50",
      "include_colab_link": true
    },
    "kernelspec": {
      "name": "python3",
      "display_name": "Python 3"
    }
  },
  "cells": [
    {
      "cell_type": "markdown",
      "metadata": {
        "id": "view-in-github",
        "colab_type": "text"
      },
      "source": [
        "<a href=\"https://colab.research.google.com/github/Nehaasati/DSA_1/blob/master/apple_stock_predection.ipynb\" target=\"_parent\"><img src=\"https://colab.research.google.com/assets/colab-badge.svg\" alt=\"Open In Colab\"/></a>"
      ]
    },
    {
      "cell_type": "code",
      "metadata": {
        "id": "C7H2c2jhLRho",
        "colab_type": "code",
        "colab": {
          "base_uri": "https://localhost:8080/",
          "height": 74
        },
        "outputId": "e04e8b40-c276-483e-c51e-9c769de21ed9"
      },
      "source": [
        "import pandas_datareader as pdr"
      ],
      "execution_count": 2,
      "outputs": [
        {
          "output_type": "stream",
          "text": [
            "/usr/local/lib/python3.6/dist-packages/pandas_datareader/compat/__init__.py:7: FutureWarning: pandas.util.testing is deprecated. Use the functions in the public API at pandas.testing instead.\n",
            "  from pandas.util.testing import assert_frame_equal\n"
          ],
          "name": "stderr"
        }
      ]
    },
    {
      "cell_type": "code",
      "metadata": {
        "id": "j_q47JRzLXpI",
        "colab_type": "code",
        "colab": {}
      },
      "source": [
        "import pandas as pd\n",
        "import numpy as np"
      ],
      "execution_count": 3,
      "outputs": []
    },
    {
      "cell_type": "code",
      "metadata": {
        "id": "AyU34w13LX1Z",
        "colab_type": "code",
        "colab": {}
      },
      "source": [
        "df = pdr.get_data_tiingo('AAPL',api_key='1d1852f7fa02418ebafded4292f4079883c8405d')\n"
      ],
      "execution_count": 4,
      "outputs": []
    },
    {
      "cell_type": "code",
      "metadata": {
        "id": "6MMqH01TLgjJ",
        "colab_type": "code",
        "colab": {}
      },
      "source": [
        "df.to_csv('AAPL.csv')"
      ],
      "execution_count": 5,
      "outputs": []
    },
    {
      "cell_type": "code",
      "metadata": {
        "id": "b1UlJC4oLgt6",
        "colab_type": "code",
        "colab": {}
      },
      "source": [
        "df=pd.read_csv('AAPL.csv')"
      ],
      "execution_count": 6,
      "outputs": []
    },
    {
      "cell_type": "code",
      "metadata": {
        "id": "mpfF9IGRLn8k",
        "colab_type": "code",
        "colab": {
          "base_uri": "https://localhost:8080/",
          "height": 206
        },
        "outputId": "e71332e7-2079-4a54-a689-1fbd417f4f16"
      },
      "source": [
        "df.head()"
      ],
      "execution_count": 7,
      "outputs": [
        {
          "output_type": "execute_result",
          "data": {
            "text/html": [
              "<div>\n",
              "<style scoped>\n",
              "    .dataframe tbody tr th:only-of-type {\n",
              "        vertical-align: middle;\n",
              "    }\n",
              "\n",
              "    .dataframe tbody tr th {\n",
              "        vertical-align: top;\n",
              "    }\n",
              "\n",
              "    .dataframe thead th {\n",
              "        text-align: right;\n",
              "    }\n",
              "</style>\n",
              "<table border=\"1\" class=\"dataframe\">\n",
              "  <thead>\n",
              "    <tr style=\"text-align: right;\">\n",
              "      <th></th>\n",
              "      <th>symbol</th>\n",
              "      <th>date</th>\n",
              "      <th>close</th>\n",
              "      <th>high</th>\n",
              "      <th>low</th>\n",
              "      <th>open</th>\n",
              "      <th>volume</th>\n",
              "      <th>adjClose</th>\n",
              "      <th>adjHigh</th>\n",
              "      <th>adjLow</th>\n",
              "      <th>adjOpen</th>\n",
              "      <th>adjVolume</th>\n",
              "      <th>divCash</th>\n",
              "      <th>splitFactor</th>\n",
              "    </tr>\n",
              "  </thead>\n",
              "  <tbody>\n",
              "    <tr>\n",
              "      <th>0</th>\n",
              "      <td>AAPL</td>\n",
              "      <td>2015-06-22 00:00:00+00:00</td>\n",
              "      <td>127.61</td>\n",
              "      <td>128.06</td>\n",
              "      <td>127.0800</td>\n",
              "      <td>127.49</td>\n",
              "      <td>34039345</td>\n",
              "      <td>117.595601</td>\n",
              "      <td>118.010287</td>\n",
              "      <td>117.107194</td>\n",
              "      <td>117.485018</td>\n",
              "      <td>34039345</td>\n",
              "      <td>0.0</td>\n",
              "      <td>1.0</td>\n",
              "    </tr>\n",
              "    <tr>\n",
              "      <th>1</th>\n",
              "      <td>AAPL</td>\n",
              "      <td>2015-06-23 00:00:00+00:00</td>\n",
              "      <td>127.03</td>\n",
              "      <td>127.61</td>\n",
              "      <td>126.8792</td>\n",
              "      <td>127.48</td>\n",
              "      <td>30268863</td>\n",
              "      <td>117.061118</td>\n",
              "      <td>117.595601</td>\n",
              "      <td>116.922152</td>\n",
              "      <td>117.475803</td>\n",
              "      <td>30268863</td>\n",
              "      <td>0.0</td>\n",
              "      <td>1.0</td>\n",
              "    </tr>\n",
              "    <tr>\n",
              "      <th>2</th>\n",
              "      <td>AAPL</td>\n",
              "      <td>2015-06-24 00:00:00+00:00</td>\n",
              "      <td>128.11</td>\n",
              "      <td>129.80</td>\n",
              "      <td>127.1200</td>\n",
              "      <td>127.21</td>\n",
              "      <td>55280855</td>\n",
              "      <td>118.056363</td>\n",
              "      <td>119.613737</td>\n",
              "      <td>117.144055</td>\n",
              "      <td>117.226992</td>\n",
              "      <td>55280855</td>\n",
              "      <td>0.0</td>\n",
              "      <td>1.0</td>\n",
              "    </tr>\n",
              "    <tr>\n",
              "      <th>3</th>\n",
              "      <td>AAPL</td>\n",
              "      <td>2015-06-25 00:00:00+00:00</td>\n",
              "      <td>127.50</td>\n",
              "      <td>129.20</td>\n",
              "      <td>127.5000</td>\n",
              "      <td>128.86</td>\n",
              "      <td>31938100</td>\n",
              "      <td>117.494234</td>\n",
              "      <td>119.060823</td>\n",
              "      <td>117.494234</td>\n",
              "      <td>118.747505</td>\n",
              "      <td>31938100</td>\n",
              "      <td>0.0</td>\n",
              "      <td>1.0</td>\n",
              "    </tr>\n",
              "    <tr>\n",
              "      <th>4</th>\n",
              "      <td>AAPL</td>\n",
              "      <td>2015-06-26 00:00:00+00:00</td>\n",
              "      <td>126.75</td>\n",
              "      <td>127.99</td>\n",
              "      <td>126.5100</td>\n",
              "      <td>127.67</td>\n",
              "      <td>44066841</td>\n",
              "      <td>116.803091</td>\n",
              "      <td>117.945780</td>\n",
              "      <td>116.581926</td>\n",
              "      <td>117.650893</td>\n",
              "      <td>44066841</td>\n",
              "      <td>0.0</td>\n",
              "      <td>1.0</td>\n",
              "    </tr>\n",
              "  </tbody>\n",
              "</table>\n",
              "</div>"
            ],
            "text/plain": [
              "  symbol                       date   close  ...  adjVolume  divCash  splitFactor\n",
              "0   AAPL  2015-06-22 00:00:00+00:00  127.61  ...   34039345      0.0          1.0\n",
              "1   AAPL  2015-06-23 00:00:00+00:00  127.03  ...   30268863      0.0          1.0\n",
              "2   AAPL  2015-06-24 00:00:00+00:00  128.11  ...   55280855      0.0          1.0\n",
              "3   AAPL  2015-06-25 00:00:00+00:00  127.50  ...   31938100      0.0          1.0\n",
              "4   AAPL  2015-06-26 00:00:00+00:00  126.75  ...   44066841      0.0          1.0\n",
              "\n",
              "[5 rows x 14 columns]"
            ]
          },
          "metadata": {
            "tags": []
          },
          "execution_count": 7
        }
      ]
    },
    {
      "cell_type": "code",
      "metadata": {
        "id": "pDRQZDc4Ln_J",
        "colab_type": "code",
        "colab": {}
      },
      "source": [
        "df2 = df.reset_index()['close']"
      ],
      "execution_count": 8,
      "outputs": []
    },
    {
      "cell_type": "code",
      "metadata": {
        "id": "YDhoL1scLoEB",
        "colab_type": "code",
        "colab": {
          "base_uri": "https://localhost:8080/",
          "height": 579
        },
        "outputId": "876e5aaf-5ea5-4718-8cd2-20496820638a"
      },
      "source": [
        "df2[1228:]"
      ],
      "execution_count": 9,
      "outputs": [
        {
          "output_type": "execute_result",
          "data": {
            "text/plain": [
              "1228    303.74\n",
              "1229    310.13\n",
              "1230    315.01\n",
              "1231    311.41\n",
              "1232    307.65\n",
              "1233    309.54\n",
              "1234    307.71\n",
              "1235    314.96\n",
              "1236    313.14\n",
              "1237    319.23\n",
              "1238    316.85\n",
              "1239    318.89\n",
              "1240    316.73\n",
              "1241    318.11\n",
              "1242    318.25\n",
              "1243    317.94\n",
              "1244    321.85\n",
              "1245    323.34\n",
              "1246    325.12\n",
              "1247    322.32\n",
              "1248    331.50\n",
              "1249    333.46\n",
              "1250    343.99\n",
              "1251    352.84\n",
              "1252    335.90\n",
              "1253    338.80\n",
              "1254    342.99\n",
              "1255    352.08\n",
              "1256    351.59\n",
              "Name: close, dtype: float64"
            ]
          },
          "metadata": {
            "tags": []
          },
          "execution_count": 9
        }
      ]
    },
    {
      "cell_type": "code",
      "metadata": {
        "id": "pW-LToLfLoIk",
        "colab_type": "code",
        "colab": {
          "base_uri": "https://localhost:8080/",
          "height": 36
        },
        "outputId": "ea90ca28-07e8-453b-b4cc-9b5ddc2eed5b"
      },
      "source": [
        "df2.shape"
      ],
      "execution_count": 10,
      "outputs": [
        {
          "output_type": "execute_result",
          "data": {
            "text/plain": [
              "(1257,)"
            ]
          },
          "metadata": {
            "tags": []
          },
          "execution_count": 10
        }
      ]
    },
    {
      "cell_type": "code",
      "metadata": {
        "id": "IJBSB77hLoCw",
        "colab_type": "code",
        "colab": {
          "base_uri": "https://localhost:8080/",
          "height": 284
        },
        "outputId": "e005b906-dd26-42e3-af22-652faa1321b0"
      },
      "source": [
        "import matplotlib.pyplot as plt\n",
        "plt.plot(df2)"
      ],
      "execution_count": 11,
      "outputs": [
        {
          "output_type": "execute_result",
          "data": {
            "text/plain": [
              "[<matplotlib.lines.Line2D at 0x7f618cf74f98>]"
            ]
          },
          "metadata": {
            "tags": []
          },
          "execution_count": 11
        },
        {
          "output_type": "display_data",
          "data": {
            "image/png": "[encoded data removed]",
            "text/plain": [
              "<Figure size 432x288 with 1 Axes>"
            ]
          },
          "metadata": {
            "tags": [],
            "needs_background": "light"
          }
        }
      ]
    },
    {
      "cell_type": "code",
      "metadata": {
        "id": "FrsudxglMEV-",
        "colab_type": "code",
        "colab": {}
      },
      "source": [
        "from sklearn.preprocessing import MinMaxScaler\n",
        "scaler=MinMaxScaler(feature_range=[0,1])\n",
        "df1=scaler.fit_transform(np.array(df2).reshape(-1,1))"
      ],
      "execution_count": 12,
      "outputs": []
    },
    {
      "cell_type": "code",
      "metadata": {
        "id": "oWbRrVkaMEax",
        "colab_type": "code",
        "colab": {
          "base_uri": "https://localhost:8080/",
          "height": 148
        },
        "outputId": "3ec3626e-0c16-4d8c-ccc4-53e632bab637"
      },
      "source": [
        "df1"
      ],
      "execution_count": 13,
      "outputs": [
        {
          "output_type": "execute_result",
          "data": {
            "text/plain": [
              "array([[0.14198095],\n",
              "       [0.13977143],\n",
              "       [0.14388571],\n",
              "       ...,\n",
              "       [0.96247619],\n",
              "       [0.99710476],\n",
              "       [0.9952381 ]])"
            ]
          },
          "metadata": {
            "tags": []
          },
          "execution_count": 13
        }
      ]
    },
    {
      "cell_type": "code",
      "metadata": {
        "id": "WiWoLUjxMEeB",
        "colab_type": "code",
        "colab": {
          "base_uri": "https://localhost:8080/",
          "height": 36
        },
        "outputId": "16a8834a-7bc2-4b0b-844d-b6af8a9c76b3"
      },
      "source": [
        "training_size=int(len(df1)*0.65)\n",
        "test_size=len(df1)-training_size\n",
        "train_data,test_data=df1[0:training_size,:],df1[training_size:len(df1),:1]\n",
        "print(train_data.shape)"
      ],
      "execution_count": 14,
      "outputs": [
        {
          "output_type": "stream",
          "text": [
            "(817, 1)\n"
          ],
          "name": "stdout"
        }
      ]
    },
    {
      "cell_type": "code",
      "metadata": {
        "id": "sY0PVTsAMEhg",
        "colab_type": "code",
        "colab": {}
      },
      "source": [
        "def create_dataset(dataset,time_stamp=1):\n",
        "    dataX, dataY=[], []\n",
        "    for i in range(len(dataset)-time_stamp-1):\n",
        "        a=dataset[i:(i+time_stamp),0]\n",
        "        dataX.append(a)\n",
        "        dataY.append(dataset[i+time_stamp,0])\n",
        "    return np.array(dataX),np.array(dataY)\n",
        "    "
      ],
      "execution_count": 15,
      "outputs": []
    },
    {
      "cell_type": "code",
      "metadata": {
        "id": "aEHN5mTvMEj9",
        "colab_type": "code",
        "colab": {}
      },
      "source": [
        "time_stamp=100\n",
        "x_train,y_train=create_dataset(train_data,time_stamp)\n",
        "x_test,y_test=create_dataset(test_data,time_stamp)"
      ],
      "execution_count": 16,
      "outputs": []
    },
    {
      "cell_type": "code",
      "metadata": {
        "id": "OzbfK3qkMEnd",
        "colab_type": "code",
        "colab": {
          "base_uri": "https://localhost:8080/",
          "height": 73
        },
        "outputId": "c7981dc0-2f1d-4107-9d11-6ef0f3c4c14b"
      },
      "source": [
        "print(x_train.shape),print(x_test.shape)"
      ],
      "execution_count": 17,
      "outputs": [
        {
          "output_type": "stream",
          "text": [
            "(716, 100)\n",
            "(339, 100)\n"
          ],
          "name": "stdout"
        },
        {
          "output_type": "execute_result",
          "data": {
            "text/plain": [
              "(None, None)"
            ]
          },
          "metadata": {
            "tags": []
          },
          "execution_count": 17
        }
      ]
    },
    {
      "cell_type": "code",
      "metadata": {
        "id": "WUfIyzq-MEtM",
        "colab_type": "code",
        "colab": {}
      },
      "source": [
        "x_train=x_train.reshape(x_train.shape[0],x_train.shape[1],1)\n",
        "\n",
        "x_test=x_test.reshape(x_test.shape[0],x_test.shape[1],1)"
      ],
      "execution_count": 18,
      "outputs": []
    },
    {
      "cell_type": "code",
      "metadata": {
        "id": "rVpc204JMEqK",
        "colab_type": "code",
        "colab": {}
      },
      "source": [
        "from tensorflow.keras.models import Sequential\n",
        "from tensorflow.keras.layers import Dense\n",
        "from tensorflow.keras.layers import LSTM\n",
        "\n"
      ],
      "execution_count": 19,
      "outputs": []
    },
    {
      "cell_type": "code",
      "metadata": {
        "id": "rs3278dcN3Bv",
        "colab_type": "code",
        "colab": {}
      },
      "source": [
        "model=Sequential()\n",
        "model.add(LSTM(50,return_sequences=True,input_shape=(100,1)))\n",
        "model.add(LSTM(50,return_sequences=True))\n",
        "model.add(LSTM(50))\n",
        "model.add(Dense(1))\n",
        "model.compile(loss='mean_squared_error',optimizer='adam')\n"
      ],
      "execution_count": 20,
      "outputs": []
    },
    {
      "cell_type": "code",
      "metadata": {
        "id": "Oyd_qSOmN8bf",
        "colab_type": "code",
        "colab": {
          "base_uri": "https://localhost:8080/",
          "height": 317
        },
        "outputId": "da6f2b76-cee4-4a37-f6f3-49801ccc41bd"
      },
      "source": [
        "model.summary()"
      ],
      "execution_count": 21,
      "outputs": [
        {
          "output_type": "stream",
          "text": [
            "Model: \"sequential\"\n",
            "_________________________________________________________________\n",
            "Layer (type)                 Output Shape              Param #   \n",
            "=================================================================\n",
            "lstm (LSTM)                  (None, 100, 50)           10400     \n",
            "_________________________________________________________________\n",
            "lstm_1 (LSTM)                (None, 100, 50)           20200     \n",
            "_________________________________________________________________\n",
            "lstm_2 (LSTM)                (None, 50)                20200     \n",
            "_________________________________________________________________\n",
            "dense (Dense)                (None, 1)                 51        \n",
            "=================================================================\n",
            "Total params: 50,851\n",
            "Trainable params: 50,851\n",
            "Non-trainable params: 0\n",
            "_________________________________________________________________\n"
          ],
          "name": "stdout"
        }
      ]
    },
    {
      "cell_type": "code",
      "metadata": {
        "id": "bjz76SUKN8Z_",
        "colab_type": "code",
        "colab": {
          "base_uri": "https://localhost:8080/",
          "height": 1000
        },
        "outputId": "23695f9f-0d16-4f88-e644-360e2499804b"
      },
      "source": [
        "model.fit(x_train,y_train,validation_data=(x_test,y_test),epochs=100,batch_size=64,verbose=1)"
      ],
      "execution_count": 22,
      "outputs": [
        {
          "output_type": "stream",
          "text": [
            "Epoch 1/100\n",
            "12/12 [==============================] - 3s 246ms/step - loss: 0.0170 - val_loss: 0.0445\n",
            "Epoch 2/100\n",
            "12/12 [==============================] - 2s 176ms/step - loss: 0.0033 - val_loss: 0.0052\n",
            "Epoch 3/100\n",
            "12/12 [==============================] - 2s 175ms/step - loss: 0.0012 - val_loss: 0.0068\n",
            "Epoch 4/100\n",
            "12/12 [==============================] - 2s 175ms/step - loss: 7.4526e-04 - val_loss: 0.0032\n",
            "Epoch 5/100\n",
            "12/12 [==============================] - 2s 176ms/step - loss: 5.0868e-04 - val_loss: 0.0034\n",
            "Epoch 6/100\n",
            "12/12 [==============================] - 2s 178ms/step - loss: 4.9035e-04 - val_loss: 0.0030\n",
            "Epoch 7/100\n",
            "12/12 [==============================] - 2s 178ms/step - loss: 4.6770e-04 - val_loss: 0.0030\n",
            "Epoch 8/100\n",
            "12/12 [==============================] - 2s 179ms/step - loss: 4.6528e-04 - val_loss: 0.0032\n",
            "Epoch 9/100\n",
            "12/12 [==============================] - 2s 181ms/step - loss: 4.8502e-04 - val_loss: 0.0029\n",
            "Epoch 10/100\n",
            "12/12 [==============================] - 2s 183ms/step - loss: 4.7902e-04 - val_loss: 0.0030\n",
            "Epoch 11/100\n",
            "12/12 [==============================] - 2s 195ms/step - loss: 4.8004e-04 - val_loss: 0.0028\n",
            "Epoch 12/100\n",
            "12/12 [==============================] - 2s 193ms/step - loss: 4.4681e-04 - val_loss: 0.0034\n",
            "Epoch 13/100\n",
            "12/12 [==============================] - 2s 189ms/step - loss: 4.4399e-04 - val_loss: 0.0028\n",
            "Epoch 14/100\n",
            "12/12 [==============================] - 2s 186ms/step - loss: 4.3652e-04 - val_loss: 0.0027\n",
            "Epoch 15/100\n",
            "12/12 [==============================] - 2s 179ms/step - loss: 4.6788e-04 - val_loss: 0.0030\n",
            "Epoch 16/100\n",
            "12/12 [==============================] - 2s 183ms/step - loss: 4.6870e-04 - val_loss: 0.0026\n",
            "Epoch 17/100\n",
            "12/12 [==============================] - 2s 180ms/step - loss: 4.2917e-04 - val_loss: 0.0027\n",
            "Epoch 18/100\n",
            "12/12 [==============================] - 2s 179ms/step - loss: 4.2743e-04 - val_loss: 0.0029\n",
            "Epoch 19/100\n",
            "12/12 [==============================] - 2s 180ms/step - loss: 4.4288e-04 - val_loss: 0.0028\n",
            "Epoch 20/100\n",
            "12/12 [==============================] - 2s 180ms/step - loss: 3.8939e-04 - val_loss: 0.0028\n",
            "Epoch 21/100\n",
            "12/12 [==============================] - 2s 179ms/step - loss: 4.2228e-04 - val_loss: 0.0026\n",
            "Epoch 22/100\n",
            "12/12 [==============================] - 2s 183ms/step - loss: 4.1009e-04 - val_loss: 0.0022\n",
            "Epoch 23/100\n",
            "12/12 [==============================] - 2s 182ms/step - loss: 3.8881e-04 - val_loss: 0.0022\n",
            "Epoch 24/100\n",
            "12/12 [==============================] - 2s 181ms/step - loss: 3.9222e-04 - val_loss: 0.0024\n",
            "Epoch 25/100\n",
            "12/12 [==============================] - 2s 182ms/step - loss: 3.6528e-04 - val_loss: 0.0022\n",
            "Epoch 26/100\n",
            "12/12 [==============================] - 2s 180ms/step - loss: 3.7306e-04 - val_loss: 0.0022\n",
            "Epoch 27/100\n",
            "12/12 [==============================] - 2s 181ms/step - loss: 3.6783e-04 - val_loss: 0.0020\n",
            "Epoch 28/100\n",
            "12/12 [==============================] - 2s 182ms/step - loss: 3.9563e-04 - val_loss: 0.0021\n",
            "Epoch 29/100\n",
            "12/12 [==============================] - 2s 181ms/step - loss: 4.3896e-04 - val_loss: 0.0018\n",
            "Epoch 30/100\n",
            "12/12 [==============================] - 2s 182ms/step - loss: 3.4659e-04 - val_loss: 0.0019\n",
            "Epoch 31/100\n",
            "12/12 [==============================] - 2s 183ms/step - loss: 3.4253e-04 - val_loss: 0.0020\n",
            "Epoch 32/100\n",
            "12/12 [==============================] - 2s 184ms/step - loss: 3.6389e-04 - val_loss: 0.0018\n",
            "Epoch 33/100\n",
            "12/12 [==============================] - 2s 181ms/step - loss: 3.8419e-04 - val_loss: 0.0016\n",
            "Epoch 34/100\n",
            "12/12 [==============================] - 2s 182ms/step - loss: 3.9291e-04 - val_loss: 0.0022\n",
            "Epoch 35/100\n",
            "12/12 [==============================] - 2s 181ms/step - loss: 3.9466e-04 - val_loss: 0.0020\n",
            "Epoch 36/100\n",
            "12/12 [==============================] - 2s 183ms/step - loss: 3.4554e-04 - val_loss: 0.0017\n",
            "Epoch 37/100\n",
            "12/12 [==============================] - 2s 181ms/step - loss: 3.7490e-04 - val_loss: 0.0019\n",
            "Epoch 38/100\n",
            "12/12 [==============================] - 2s 184ms/step - loss: 3.5263e-04 - val_loss: 0.0017\n",
            "Epoch 39/100\n",
            "12/12 [==============================] - 2s 179ms/step - loss: 3.6473e-04 - val_loss: 0.0015\n",
            "Epoch 40/100\n",
            "12/12 [==============================] - 2s 182ms/step - loss: 3.1668e-04 - val_loss: 0.0018\n",
            "Epoch 41/100\n",
            "12/12 [==============================] - 2s 183ms/step - loss: 3.2363e-04 - val_loss: 0.0014\n",
            "Epoch 42/100\n",
            "12/12 [==============================] - 2s 184ms/step - loss: 3.1374e-04 - val_loss: 0.0013\n",
            "Epoch 43/100\n",
            "12/12 [==============================] - 2s 183ms/step - loss: 2.8439e-04 - val_loss: 0.0013\n",
            "Epoch 44/100\n",
            "12/12 [==============================] - 2s 181ms/step - loss: 2.9366e-04 - val_loss: 0.0013\n",
            "Epoch 45/100\n",
            "12/12 [==============================] - 2s 184ms/step - loss: 3.1272e-04 - val_loss: 0.0012\n",
            "Epoch 46/100\n",
            "12/12 [==============================] - 2s 182ms/step - loss: 3.0798e-04 - val_loss: 0.0015\n",
            "Epoch 47/100\n",
            "12/12 [==============================] - 2s 183ms/step - loss: 2.9362e-04 - val_loss: 0.0013\n",
            "Epoch 48/100\n",
            "12/12 [==============================] - 2s 182ms/step - loss: 2.7943e-04 - val_loss: 0.0015\n",
            "Epoch 49/100\n",
            "12/12 [==============================] - 2s 184ms/step - loss: 2.9898e-04 - val_loss: 0.0014\n",
            "Epoch 50/100\n",
            "12/12 [==============================] - 2s 181ms/step - loss: 2.7662e-04 - val_loss: 0.0013\n",
            "Epoch 51/100\n",
            "12/12 [==============================] - 2s 181ms/step - loss: 2.6005e-04 - val_loss: 0.0012\n",
            "Epoch 52/100\n",
            "12/12 [==============================] - 2s 181ms/step - loss: 2.6201e-04 - val_loss: 0.0012\n",
            "Epoch 53/100\n",
            "12/12 [==============================] - 2s 180ms/step - loss: 2.5545e-04 - val_loss: 0.0012\n",
            "Epoch 54/100\n",
            "12/12 [==============================] - 2s 183ms/step - loss: 2.6610e-04 - val_loss: 0.0012\n",
            "Epoch 55/100\n",
            "12/12 [==============================] - 2s 180ms/step - loss: 2.5795e-04 - val_loss: 0.0013\n",
            "Epoch 56/100\n",
            "12/12 [==============================] - 2s 181ms/step - loss: 2.6836e-04 - val_loss: 0.0013\n",
            "Epoch 57/100\n",
            "12/12 [==============================] - 2s 182ms/step - loss: 2.5185e-04 - val_loss: 0.0012\n",
            "Epoch 58/100\n",
            "12/12 [==============================] - 2s 182ms/step - loss: 2.5175e-04 - val_loss: 0.0012\n",
            "Epoch 59/100\n",
            "12/12 [==============================] - 2s 181ms/step - loss: 2.5251e-04 - val_loss: 0.0011\n",
            "Epoch 60/100\n",
            "12/12 [==============================] - 2s 181ms/step - loss: 2.3986e-04 - val_loss: 0.0011\n",
            "Epoch 61/100\n",
            "12/12 [==============================] - 2s 182ms/step - loss: 2.3658e-04 - val_loss: 0.0011\n",
            "Epoch 62/100\n",
            "12/12 [==============================] - 2s 182ms/step - loss: 2.2244e-04 - val_loss: 0.0011\n",
            "Epoch 63/100\n",
            "12/12 [==============================] - 2s 181ms/step - loss: 2.3771e-04 - val_loss: 0.0012\n",
            "Epoch 64/100\n",
            "12/12 [==============================] - 2s 182ms/step - loss: 2.3672e-04 - val_loss: 0.0011\n",
            "Epoch 65/100\n",
            "12/12 [==============================] - 2s 183ms/step - loss: 2.1528e-04 - val_loss: 0.0011\n",
            "Epoch 66/100\n",
            "12/12 [==============================] - 2s 180ms/step - loss: 2.1832e-04 - val_loss: 0.0011\n",
            "Epoch 67/100\n",
            "12/12 [==============================] - 2s 183ms/step - loss: 2.0759e-04 - val_loss: 0.0011\n",
            "Epoch 68/100\n",
            "12/12 [==============================] - 2s 181ms/step - loss: 2.1022e-04 - val_loss: 0.0015\n",
            "Epoch 69/100\n",
            "12/12 [==============================] - 2s 182ms/step - loss: 2.3691e-04 - val_loss: 0.0015\n",
            "Epoch 70/100\n",
            "12/12 [==============================] - 2s 183ms/step - loss: 2.1536e-04 - val_loss: 0.0016\n",
            "Epoch 71/100\n",
            "12/12 [==============================] - 2s 180ms/step - loss: 2.4214e-04 - val_loss: 0.0017\n",
            "Epoch 72/100\n",
            "12/12 [==============================] - 2s 184ms/step - loss: 2.5706e-04 - val_loss: 0.0012\n",
            "Epoch 73/100\n",
            "12/12 [==============================] - 2s 183ms/step - loss: 2.1124e-04 - val_loss: 0.0017\n",
            "Epoch 74/100\n",
            "12/12 [==============================] - 2s 183ms/step - loss: 2.0114e-04 - val_loss: 0.0014\n",
            "Epoch 75/100\n",
            "12/12 [==============================] - 2s 181ms/step - loss: 1.8952e-04 - val_loss: 9.7114e-04\n",
            "Epoch 76/100\n",
            "12/12 [==============================] - 2s 181ms/step - loss: 1.9600e-04 - val_loss: 0.0012\n",
            "Epoch 77/100\n",
            "12/12 [==============================] - 2s 180ms/step - loss: 1.7834e-04 - val_loss: 9.5501e-04\n",
            "Epoch 78/100\n",
            "12/12 [==============================] - 2s 181ms/step - loss: 1.7995e-04 - val_loss: 9.5651e-04\n",
            "Epoch 79/100\n",
            "12/12 [==============================] - 2s 183ms/step - loss: 1.7716e-04 - val_loss: 0.0011\n",
            "Epoch 80/100\n",
            "12/12 [==============================] - 2s 181ms/step - loss: 1.7187e-04 - val_loss: 9.7391e-04\n",
            "Epoch 81/100\n",
            "12/12 [==============================] - 2s 181ms/step - loss: 1.7075e-04 - val_loss: 0.0011\n",
            "Epoch 82/100\n",
            "12/12 [==============================] - 2s 180ms/step - loss: 1.6622e-04 - val_loss: 9.7226e-04\n",
            "Epoch 83/100\n",
            "12/12 [==============================] - 2s 183ms/step - loss: 1.5397e-04 - val_loss: 0.0010\n",
            "Epoch 84/100\n",
            "12/12 [==============================] - 2s 180ms/step - loss: 1.5103e-04 - val_loss: 9.4432e-04\n",
            "Epoch 85/100\n",
            "12/12 [==============================] - 2s 183ms/step - loss: 1.6080e-04 - val_loss: 9.8491e-04\n",
            "Epoch 86/100\n",
            "12/12 [==============================] - 2s 180ms/step - loss: 1.4896e-04 - val_loss: 8.9056e-04\n",
            "Epoch 87/100\n",
            "12/12 [==============================] - 2s 181ms/step - loss: 1.4087e-04 - val_loss: 8.7618e-04\n",
            "Epoch 88/100\n",
            "12/12 [==============================] - 2s 180ms/step - loss: 1.4530e-04 - val_loss: 9.4067e-04\n",
            "Epoch 89/100\n",
            "12/12 [==============================] - 2s 180ms/step - loss: 1.4000e-04 - val_loss: 0.0010\n",
            "Epoch 90/100\n",
            "12/12 [==============================] - 2s 182ms/step - loss: 1.3860e-04 - val_loss: 0.0010\n",
            "Epoch 91/100\n",
            "12/12 [==============================] - 2s 181ms/step - loss: 1.3332e-04 - val_loss: 0.0012\n",
            "Epoch 92/100\n",
            "12/12 [==============================] - 2s 181ms/step - loss: 1.3880e-04 - val_loss: 8.5861e-04\n",
            "Epoch 93/100\n",
            "12/12 [==============================] - 2s 180ms/step - loss: 1.3255e-04 - val_loss: 0.0012\n",
            "Epoch 94/100\n",
            "12/12 [==============================] - 2s 181ms/step - loss: 1.2717e-04 - val_loss: 0.0013\n",
            "Epoch 95/100\n",
            "12/12 [==============================] - 2s 178ms/step - loss: 1.3981e-04 - val_loss: 7.8960e-04\n",
            "Epoch 96/100\n",
            "12/12 [==============================] - 2s 180ms/step - loss: 1.2693e-04 - val_loss: 8.6124e-04\n",
            "Epoch 97/100\n",
            "12/12 [==============================] - 2s 181ms/step - loss: 1.2899e-04 - val_loss: 0.0013\n",
            "Epoch 98/100\n",
            "12/12 [==============================] - 2s 181ms/step - loss: 1.2228e-04 - val_loss: 8.0407e-04\n",
            "Epoch 99/100\n",
            "12/12 [==============================] - 2s 182ms/step - loss: 1.2570e-04 - val_loss: 0.0010\n",
            "Epoch 100/100\n",
            "12/12 [==============================] - 2s 180ms/step - loss: 1.1292e-04 - val_loss: 8.3673e-04\n"
          ],
          "name": "stdout"
        },
        {
          "output_type": "execute_result",
          "data": {
            "text/plain": [
              "<tensorflow.python.keras.callbacks.History at 0x7f613d547f98>"
            ]
          },
          "metadata": {
            "tags": []
          },
          "execution_count": 22
        }
      ]
    },
    {
      "cell_type": "code",
      "metadata": {
        "id": "b7PA5CpDN3Pl",
        "colab_type": "code",
        "colab": {}
      },
      "source": [
        "train_predict= model.predict(x_train)\n",
        "test_predict= model.predict(x_test)"
      ],
      "execution_count": 23,
      "outputs": []
    },
    {
      "cell_type": "code",
      "metadata": {
        "id": "M3fLsyJOON3R",
        "colab_type": "code",
        "colab": {}
      },
      "source": [
        "train_predict=scaler.inverse_transform(train_predict)\n",
        "test_predict=scaler.inverse_transform(test_predict)"
      ],
      "execution_count": 24,
      "outputs": []
    },
    {
      "cell_type": "code",
      "metadata": {
        "id": "yUEef5tuON9O",
        "colab_type": "code",
        "colab": {
          "base_uri": "https://localhost:8080/",
          "height": 36
        },
        "outputId": "e2cdda70-b37f-4336-926d-d2b89f5129a4"
      },
      "source": [
        "import math\n",
        "from sklearn.metrics import mean_squared_error\n",
        "math.sqrt(mean_squared_error(y_train,train_predict))"
      ],
      "execution_count": 25,
      "outputs": [
        {
          "output_type": "execute_result",
          "data": {
            "text/plain": [
              "144.90251518557963"
            ]
          },
          "metadata": {
            "tags": []
          },
          "execution_count": 25
        }
      ]
    },
    {
      "cell_type": "code",
      "metadata": {
        "id": "kLVKhVs7OOBd",
        "colab_type": "code",
        "colab": {
          "base_uri": "https://localhost:8080/",
          "height": 36
        },
        "outputId": "e220f030-8949-40dd-e012-e14e25ee38a6"
      },
      "source": [
        "math.sqrt(mean_squared_error(y_test,test_predict))"
      ],
      "execution_count": 26,
      "outputs": [
        {
          "output_type": "execute_result",
          "data": {
            "text/plain": [
              "248.91420522482463"
            ]
          },
          "metadata": {
            "tags": []
          },
          "execution_count": 26
        }
      ]
    },
    {
      "cell_type": "code",
      "metadata": {
        "id": "CpH-RCchOfjU",
        "colab_type": "code",
        "colab": {
          "base_uri": "https://localhost:8080/",
          "height": 284
        },
        "outputId": "7f976851-8968-4c58-c5a3-2ab7189206bb"
      },
      "source": [
        "look_back=100\n",
        "trainpredictplot=np.empty_like(df1)\n",
        "trainpredictplot[:,:]=np.nan\n",
        "trainpredictplot[look_back:len(train_predict)+look_back,:]=train_predict\n",
        "testpredictplot=np.empty_like(df1)\n",
        "testpredictplot[:,:]=np.nan\n",
        "testpredictplot[len(train_predict)+(look_back*2)+1:len(df1)-1,:]=test_predict\n",
        "#polt\n",
        "plt.plot(scaler.inverse_transform(df1))\n",
        "plt.plot(train_predict)\n",
        "plt.plot(test_predict)\n",
        "plt.show"
      ],
      "execution_count": 27,
      "outputs": [
        {
          "output_type": "execute_result",
          "data": {
            "text/plain": [
              "<function matplotlib.pyplot.show>"
            ]
          },
          "metadata": {
            "tags": []
          },
          "execution_count": 27
        },
        {
          "output_type": "display_data",
          "data": {
            "image/png": "[encoded data removed]",
            "text/plain": [
              "<Figure size 432x288 with 1 Axes>"
            ]
          },
          "metadata": {
            "tags": [],
            "needs_background": "light"
          }
        }
      ]
    },
    {
      "cell_type": "code",
      "metadata": {
        "id": "Li5iS5nlOfvi",
        "colab_type": "code",
        "colab": {
          "base_uri": "https://localhost:8080/",
          "height": 36
        },
        "outputId": "65e05484-a418-4043-c8e3-96e2e2fe0eef"
      },
      "source": [
        "len(test_data)"
      ],
      "execution_count": 47,
      "outputs": [
        {
          "output_type": "execute_result",
          "data": {
            "text/plain": [
              "440"
            ]
          },
          "metadata": {
            "tags": []
          },
          "execution_count": 47
        }
      ]
    },
    {
      "cell_type": "code",
      "metadata": {
        "id": "DryB5K44ON7u",
        "colab_type": "code",
        "colab": {
          "base_uri": "https://localhost:8080/",
          "height": 36
        },
        "outputId": "1d53a4f0-2fa8-433b-a7e0-bdb7aacc98ce"
      },
      "source": [
        "x_input=test_data[340:].reshape(1,-1)\n",
        "x_input.shape"
      ],
      "execution_count": 28,
      "outputs": [
        {
          "output_type": "execute_result",
          "data": {
            "text/plain": [
              "(1, 100)"
            ]
          },
          "metadata": {
            "tags": []
          },
          "execution_count": 28
        }
      ]
    },
    {
      "cell_type": "code",
      "metadata": {
        "id": "1tX_NUg6ON1U",
        "colab_type": "code",
        "colab": {}
      },
      "source": [
        "temp_input=list(x_input)\n",
        "temp_input=temp_input[0].tolist()"
      ],
      "execution_count": 29,
      "outputs": []
    },
    {
      "cell_type": "code",
      "metadata": {
        "id": "QbLba5ILWn7e",
        "colab_type": "code",
        "colab": {
          "base_uri": "https://localhost:8080/",
          "height": 1000
        },
        "outputId": "bded856a-2ab5-475b-d8c4-2275defe9336"
      },
      "source": [
        "from numpy import array\n",
        "output=[]\n",
        "n_step=100\n",
        "i=0\n",
        "while(i<30):\n",
        "  if(len(temp_input)>100):\n",
        "    x_input=np.array(temp_input[1:])\n",
        "    print(\"{}day input{}\".format(i,x_input))\n",
        "    x_input=x_input.reshape(1,-1)\n",
        "    x_input=x_input.reshape(1,n_step,1)\n",
        "    yhat = model.predict(x_input,verbose=0)\n",
        "    print(\"{}day input{}\".format(i,yhat))\n",
        "    temp_input.extend(yhat[0].tolist())\n",
        "    temp_input=temp_input[1:]\n",
        "    output.extend(yhat.tolist())\n",
        "    i=i+1\n",
        "  else:\n",
        "      x_input=x_input.reshape(1,n_step,1)\n",
        "      yhat = model.predict(x_input,verbose=0)\n",
        "      print(yhat[0])\n",
        "      temp_input.extend(yhat[0].tolist())\n",
        "      print(len[temp_input])\n",
        "      output.extend(yhat.tolist())\n",
        "      i=i+1"
      ],
      "execution_count": 31,
      "outputs": [
        {
          "output_type": "stream",
          "text": [
            "0day input[0.86609524 0.89142857 0.8896381  0.83493333 0.83169524 0.87051429\n",
            " 0.88041905 0.89474286 0.87500952 0.8808     0.87340952 0.90232381\n",
            " 0.89344762 0.89375238 0.87108571 0.88868571 0.8760381  0.84841905\n",
            " 0.79177143 0.75329524 0.77070476 0.69782857 0.69721905 0.79417143\n",
            " 0.75801905 0.80914286 0.77173333 0.75691429 0.66982857 0.74285714\n",
            " 0.70510476 0.60148571 0.71478095 0.57855238 0.61912381 0.59554286\n",
            " 0.58834286 0.52914286 0.51059048 0.59634286 0.5911619  0.64038095\n",
            " 0.59961905 0.62655238 0.62457143 0.5736     0.58891429 0.57550476\n",
            " 0.65573333 0.64415238 0.66944762 0.6767619  0.6968     0.74937143\n",
            " 0.73939048 0.748      0.73318095 0.71081905 0.67820952 0.70765714\n",
            " 0.70358095 0.73382857 0.73459048 0.71710476 0.7519619  0.77508571\n",
            " 0.75706667 0.77264762 0.78940952 0.80110476 0.81295238 0.83729524\n",
            " 0.85588571 0.84217143 0.82784762 0.83504762 0.82807619 0.85569524\n",
            " 0.8487619  0.8719619  0.86289524 0.87066667 0.8624381  0.86769524\n",
            " 0.86822857 0.86704762 0.88194286 0.88761905 0.8944     0.88373333\n",
            " 0.91870476 0.92617143 0.96628571 1.         0.93546667 0.94651429\n",
            " 0.96247619 0.99710476 0.9952381  1.00777912]\n",
            "0day input[[1.0218649]]\n",
            "1day input[0.89142857 0.8896381  0.83493333 0.83169524 0.87051429 0.88041905\n",
            " 0.89474286 0.87500952 0.8808     0.87340952 0.90232381 0.89344762\n",
            " 0.89375238 0.87108571 0.88868571 0.8760381  0.84841905 0.79177143\n",
            " 0.75329524 0.77070476 0.69782857 0.69721905 0.79417143 0.75801905\n",
            " 0.80914286 0.77173333 0.75691429 0.66982857 0.74285714 0.70510476\n",
            " 0.60148571 0.71478095 0.57855238 0.61912381 0.59554286 0.58834286\n",
            " 0.52914286 0.51059048 0.59634286 0.5911619  0.64038095 0.59961905\n",
            " 0.62655238 0.62457143 0.5736     0.58891429 0.57550476 0.65573333\n",
            " 0.64415238 0.66944762 0.6767619  0.6968     0.74937143 0.73939048\n",
            " 0.748      0.73318095 0.71081905 0.67820952 0.70765714 0.70358095\n",
            " 0.73382857 0.73459048 0.71710476 0.7519619  0.77508571 0.75706667\n",
            " 0.77264762 0.78940952 0.80110476 0.81295238 0.83729524 0.85588571\n",
            " 0.84217143 0.82784762 0.83504762 0.82807619 0.85569524 0.8487619\n",
            " 0.8719619  0.86289524 0.87066667 0.8624381  0.86769524 0.86822857\n",
            " 0.86704762 0.88194286 0.88761905 0.8944     0.88373333 0.91870476\n",
            " 0.92617143 0.96628571 1.         0.93546667 0.94651429 0.96247619\n",
            " 0.99710476 0.9952381  1.00777912 1.02186489]\n",
            "1day input[[1.0347071]]\n",
            "2day input[0.8896381  0.83493333 0.83169524 0.87051429 0.88041905 0.89474286\n",
            " 0.87500952 0.8808     0.87340952 0.90232381 0.89344762 0.89375238\n",
            " 0.87108571 0.88868571 0.8760381  0.84841905 0.79177143 0.75329524\n",
            " 0.77070476 0.69782857 0.69721905 0.79417143 0.75801905 0.80914286\n",
            " 0.77173333 0.75691429 0.66982857 0.74285714 0.70510476 0.60148571\n",
            " 0.71478095 0.57855238 0.61912381 0.59554286 0.58834286 0.52914286\n",
            " 0.51059048 0.59634286 0.5911619  0.64038095 0.59961905 0.62655238\n",
            " 0.62457143 0.5736     0.58891429 0.57550476 0.65573333 0.64415238\n",
            " 0.66944762 0.6767619  0.6968     0.74937143 0.73939048 0.748\n",
            " 0.73318095 0.71081905 0.67820952 0.70765714 0.70358095 0.73382857\n",
            " 0.73459048 0.71710476 0.7519619  0.77508571 0.75706667 0.77264762\n",
            " 0.78940952 0.80110476 0.81295238 0.83729524 0.85588571 0.84217143\n",
            " 0.82784762 0.83504762 0.82807619 0.85569524 0.8487619  0.8719619\n",
            " 0.86289524 0.87066667 0.8624381  0.86769524 0.86822857 0.86704762\n",
            " 0.88194286 0.88761905 0.8944     0.88373333 0.91870476 0.92617143\n",
            " 0.96628571 1.         0.93546667 0.94651429 0.96247619 0.99710476\n",
            " 0.9952381  1.00777912 1.02186489 1.03470707]\n",
            "2day input[[1.0470284]]\n",
            "3day input[0.83493333 0.83169524 0.87051429 0.88041905 0.89474286 0.87500952\n",
            " 0.8808     0.87340952 0.90232381 0.89344762 0.89375238 0.87108571\n",
            " 0.88868571 0.8760381  0.84841905 0.79177143 0.75329524 0.77070476\n",
            " 0.69782857 0.69721905 0.79417143 0.75801905 0.80914286 0.77173333\n",
            " 0.75691429 0.66982857 0.74285714 0.70510476 0.60148571 0.71478095\n",
            " 0.57855238 0.61912381 0.59554286 0.58834286 0.52914286 0.51059048\n",
            " 0.59634286 0.5911619  0.64038095 0.59961905 0.62655238 0.62457143\n",
            " 0.5736     0.58891429 0.57550476 0.65573333 0.64415238 0.66944762\n",
            " 0.6767619  0.6968     0.74937143 0.73939048 0.748      0.73318095\n",
            " 0.71081905 0.67820952 0.70765714 0.70358095 0.73382857 0.73459048\n",
            " 0.71710476 0.7519619  0.77508571 0.75706667 0.77264762 0.78940952\n",
            " 0.80110476 0.81295238 0.83729524 0.85588571 0.84217143 0.82784762\n",
            " 0.83504762 0.82807619 0.85569524 0.8487619  0.8719619  0.86289524\n",
            " 0.87066667 0.8624381  0.86769524 0.86822857 0.86704762 0.88194286\n",
            " 0.88761905 0.8944     0.88373333 0.91870476 0.92617143 0.96628571\n",
            " 1.         0.93546667 0.94651429 0.96247619 0.99710476 0.9952381\n",
            " 1.00777912 1.02186489 1.03470707 1.04702842]\n",
            "3day input[[1.0589838]]\n",
            "4day input[0.83169524 0.87051429 0.88041905 0.89474286 0.87500952 0.8808\n",
            " 0.87340952 0.90232381 0.89344762 0.89375238 0.87108571 0.88868571\n",
            " 0.8760381  0.84841905 0.79177143 0.75329524 0.77070476 0.69782857\n",
            " 0.69721905 0.79417143 0.75801905 0.80914286 0.77173333 0.75691429\n",
            " 0.66982857 0.74285714 0.70510476 0.60148571 0.71478095 0.57855238\n",
            " 0.61912381 0.59554286 0.58834286 0.52914286 0.51059048 0.59634286\n",
            " 0.5911619  0.64038095 0.59961905 0.62655238 0.62457143 0.5736\n",
            " 0.58891429 0.57550476 0.65573333 0.64415238 0.66944762 0.6767619\n",
            " 0.6968     0.74937143 0.73939048 0.748      0.73318095 0.71081905\n",
            " 0.67820952 0.70765714 0.70358095 0.73382857 0.73459048 0.71710476\n",
            " 0.7519619  0.77508571 0.75706667 0.77264762 0.78940952 0.80110476\n",
            " 0.81295238 0.83729524 0.85588571 0.84217143 0.82784762 0.83504762\n",
            " 0.82807619 0.85569524 0.8487619  0.8719619  0.86289524 0.87066667\n",
            " 0.8624381  0.86769524 0.86822857 0.86704762 0.88194286 0.88761905\n",
            " 0.8944     0.88373333 0.91870476 0.92617143 0.96628571 1.\n",
            " 0.93546667 0.94651429 0.96247619 0.99710476 0.9952381  1.00777912\n",
            " 1.02186489 1.03470707 1.04702842 1.0589838 ]\n",
            "4day input[[1.0706878]]\n",
            "5day input[0.87051429 0.88041905 0.89474286 0.87500952 0.8808     0.87340952\n",
            " 0.90232381 0.89344762 0.89375238 0.87108571 0.88868571 0.8760381\n",
            " 0.84841905 0.79177143 0.75329524 0.77070476 0.69782857 0.69721905\n",
            " 0.79417143 0.75801905 0.80914286 0.77173333 0.75691429 0.66982857\n",
            " 0.74285714 0.70510476 0.60148571 0.71478095 0.57855238 0.61912381\n",
            " 0.59554286 0.58834286 0.52914286 0.51059048 0.59634286 0.5911619\n",
            " 0.64038095 0.59961905 0.62655238 0.62457143 0.5736     0.58891429\n",
            " 0.57550476 0.65573333 0.64415238 0.66944762 0.6767619  0.6968\n",
            " 0.74937143 0.73939048 0.748      0.73318095 0.71081905 0.67820952\n",
            " 0.70765714 0.70358095 0.73382857 0.73459048 0.71710476 0.7519619\n",
            " 0.77508571 0.75706667 0.77264762 0.78940952 0.80110476 0.81295238\n",
            " 0.83729524 0.85588571 0.84217143 0.82784762 0.83504762 0.82807619\n",
            " 0.85569524 0.8487619  0.8719619  0.86289524 0.87066667 0.8624381\n",
            " 0.86769524 0.86822857 0.86704762 0.88194286 0.88761905 0.8944\n",
            " 0.88373333 0.91870476 0.92617143 0.96628571 1.         0.93546667\n",
            " 0.94651429 0.96247619 0.99710476 0.9952381  1.00777912 1.02186489\n",
            " 1.03470707 1.04702842 1.0589838  1.07068777]\n",
            "5day input[[1.0823029]]\n",
            "6day input[0.88041905 0.89474286 0.87500952 0.8808     0.87340952 0.90232381\n",
            " 0.89344762 0.89375238 0.87108571 0.88868571 0.8760381  0.84841905\n",
            " 0.79177143 0.75329524 0.77070476 0.69782857 0.69721905 0.79417143\n",
            " 0.75801905 0.80914286 0.77173333 0.75691429 0.66982857 0.74285714\n",
            " 0.70510476 0.60148571 0.71478095 0.57855238 0.61912381 0.59554286\n",
            " 0.58834286 0.52914286 0.51059048 0.59634286 0.5911619  0.64038095\n",
            " 0.59961905 0.62655238 0.62457143 0.5736     0.58891429 0.57550476\n",
            " 0.65573333 0.64415238 0.66944762 0.6767619  0.6968     0.74937143\n",
            " 0.73939048 0.748      0.73318095 0.71081905 0.67820952 0.70765714\n",
            " 0.70358095 0.73382857 0.73459048 0.71710476 0.7519619  0.77508571\n",
            " 0.75706667 0.77264762 0.78940952 0.80110476 0.81295238 0.83729524\n",
            " 0.85588571 0.84217143 0.82784762 0.83504762 0.82807619 0.85569524\n",
            " 0.8487619  0.8719619  0.86289524 0.87066667 0.8624381  0.86769524\n",
            " 0.86822857 0.86704762 0.88194286 0.88761905 0.8944     0.88373333\n",
            " 0.91870476 0.92617143 0.96628571 1.         0.93546667 0.94651429\n",
            " 0.96247619 0.99710476 0.9952381  1.00777912 1.02186489 1.03470707\n",
            " 1.04702842 1.0589838  1.07068777 1.08230293]\n",
            "6day input[[1.0940048]]\n",
            "7day input[0.89474286 0.87500952 0.8808     0.87340952 0.90232381 0.89344762\n",
            " 0.89375238 0.87108571 0.88868571 0.8760381  0.84841905 0.79177143\n",
            " 0.75329524 0.77070476 0.69782857 0.69721905 0.79417143 0.75801905\n",
            " 0.80914286 0.77173333 0.75691429 0.66982857 0.74285714 0.70510476\n",
            " 0.60148571 0.71478095 0.57855238 0.61912381 0.59554286 0.58834286\n",
            " 0.52914286 0.51059048 0.59634286 0.5911619  0.64038095 0.59961905\n",
            " 0.62655238 0.62457143 0.5736     0.58891429 0.57550476 0.65573333\n",
            " 0.64415238 0.66944762 0.6767619  0.6968     0.74937143 0.73939048\n",
            " 0.748      0.73318095 0.71081905 0.67820952 0.70765714 0.70358095\n",
            " 0.73382857 0.73459048 0.71710476 0.7519619  0.77508571 0.75706667\n",
            " 0.77264762 0.78940952 0.80110476 0.81295238 0.83729524 0.85588571\n",
            " 0.84217143 0.82784762 0.83504762 0.82807619 0.85569524 0.8487619\n",
            " 0.8719619  0.86289524 0.87066667 0.8624381  0.86769524 0.86822857\n",
            " 0.86704762 0.88194286 0.88761905 0.8944     0.88373333 0.91870476\n",
            " 0.92617143 0.96628571 1.         0.93546667 0.94651429 0.96247619\n",
            " 0.99710476 0.9952381  1.00777912 1.02186489 1.03470707 1.04702842\n",
            " 1.0589838  1.07068777 1.08230293 1.09400475]\n",
            "7day input[[1.1059419]]\n",
            "8day input[0.87500952 0.8808     0.87340952 0.90232381 0.89344762 0.89375238\n",
            " 0.87108571 0.88868571 0.8760381  0.84841905 0.79177143 0.75329524\n",
            " 0.77070476 0.69782857 0.69721905 0.79417143 0.75801905 0.80914286\n",
            " 0.77173333 0.75691429 0.66982857 0.74285714 0.70510476 0.60148571\n",
            " 0.71478095 0.57855238 0.61912381 0.59554286 0.58834286 0.52914286\n",
            " 0.51059048 0.59634286 0.5911619  0.64038095 0.59961905 0.62655238\n",
            " 0.62457143 0.5736     0.58891429 0.57550476 0.65573333 0.64415238\n",
            " 0.66944762 0.6767619  0.6968     0.74937143 0.73939048 0.748\n",
            " 0.73318095 0.71081905 0.67820952 0.70765714 0.70358095 0.73382857\n",
            " 0.73459048 0.71710476 0.7519619  0.77508571 0.75706667 0.77264762\n",
            " 0.78940952 0.80110476 0.81295238 0.83729524 0.85588571 0.84217143\n",
            " 0.82784762 0.83504762 0.82807619 0.85569524 0.8487619  0.8719619\n",
            " 0.86289524 0.87066667 0.8624381  0.86769524 0.86822857 0.86704762\n",
            " 0.88194286 0.88761905 0.8944     0.88373333 0.91870476 0.92617143\n",
            " 0.96628571 1.         0.93546667 0.94651429 0.96247619 0.99710476\n",
            " 0.9952381  1.00777912 1.02186489 1.03470707 1.04702842 1.0589838\n",
            " 1.07068777 1.08230293 1.09400475 1.10594189]\n",
            "8day input[[1.118216]]\n",
            "9day input[0.8808     0.87340952 0.90232381 0.89344762 0.89375238 0.87108571\n",
            " 0.88868571 0.8760381  0.84841905 0.79177143 0.75329524 0.77070476\n",
            " 0.69782857 0.69721905 0.79417143 0.75801905 0.80914286 0.77173333\n",
            " 0.75691429 0.66982857 0.74285714 0.70510476 0.60148571 0.71478095\n",
            " 0.57855238 0.61912381 0.59554286 0.58834286 0.52914286 0.51059048\n",
            " 0.59634286 0.5911619  0.64038095 0.59961905 0.62655238 0.62457143\n",
            " 0.5736     0.58891429 0.57550476 0.65573333 0.64415238 0.66944762\n",
            " 0.6767619  0.6968     0.74937143 0.73939048 0.748      0.73318095\n",
            " 0.71081905 0.67820952 0.70765714 0.70358095 0.73382857 0.73459048\n",
            " 0.71710476 0.7519619  0.77508571 0.75706667 0.77264762 0.78940952\n",
            " 0.80110476 0.81295238 0.83729524 0.85588571 0.84217143 0.82784762\n",
            " 0.83504762 0.82807619 0.85569524 0.8487619  0.8719619  0.86289524\n",
            " 0.87066667 0.8624381  0.86769524 0.86822857 0.86704762 0.88194286\n",
            " 0.88761905 0.8944     0.88373333 0.91870476 0.92617143 0.96628571\n",
            " 1.         0.93546667 0.94651429 0.96247619 0.99710476 0.9952381\n",
            " 1.00777912 1.02186489 1.03470707 1.04702842 1.0589838  1.07068777\n",
            " 1.08230293 1.09400475 1.10594189 1.11821604]\n",
            "9day input[[1.1308712]]\n",
            "10day input[0.87340952 0.90232381 0.89344762 0.89375238 0.87108571 0.88868571\n",
            " 0.8760381  0.84841905 0.79177143 0.75329524 0.77070476 0.69782857\n",
            " 0.69721905 0.79417143 0.75801905 0.80914286 0.77173333 0.75691429\n",
            " 0.66982857 0.74285714 0.70510476 0.60148571 0.71478095 0.57855238\n",
            " 0.61912381 0.59554286 0.58834286 0.52914286 0.51059048 0.59634286\n",
            " 0.5911619  0.64038095 0.59961905 0.62655238 0.62457143 0.5736\n",
            " 0.58891429 0.57550476 0.65573333 0.64415238 0.66944762 0.6767619\n",
            " 0.6968     0.74937143 0.73939048 0.748      0.73318095 0.71081905\n",
            " 0.67820952 0.70765714 0.70358095 0.73382857 0.73459048 0.71710476\n",
            " 0.7519619  0.77508571 0.75706667 0.77264762 0.78940952 0.80110476\n",
            " 0.81295238 0.83729524 0.85588571 0.84217143 0.82784762 0.83504762\n",
            " 0.82807619 0.85569524 0.8487619  0.8719619  0.86289524 0.87066667\n",
            " 0.8624381  0.86769524 0.86822857 0.86704762 0.88194286 0.88761905\n",
            " 0.8944     0.88373333 0.91870476 0.92617143 0.96628571 1.\n",
            " 0.93546667 0.94651429 0.96247619 0.99710476 0.9952381  1.00777912\n",
            " 1.02186489 1.03470707 1.04702842 1.0589838  1.07068777 1.08230293\n",
            " 1.09400475 1.10594189 1.11821604 1.13087118]\n",
            "10day input[[1.1439058]]\n",
            "11day input[0.90232381 0.89344762 0.89375238 0.87108571 0.88868571 0.8760381\n",
            " 0.84841905 0.79177143 0.75329524 0.77070476 0.69782857 0.69721905\n",
            " 0.79417143 0.75801905 0.80914286 0.77173333 0.75691429 0.66982857\n",
            " 0.74285714 0.70510476 0.60148571 0.71478095 0.57855238 0.61912381\n",
            " 0.59554286 0.58834286 0.52914286 0.51059048 0.59634286 0.5911619\n",
            " 0.64038095 0.59961905 0.62655238 0.62457143 0.5736     0.58891429\n",
            " 0.57550476 0.65573333 0.64415238 0.66944762 0.6767619  0.6968\n",
            " 0.74937143 0.73939048 0.748      0.73318095 0.71081905 0.67820952\n",
            " 0.70765714 0.70358095 0.73382857 0.73459048 0.71710476 0.7519619\n",
            " 0.77508571 0.75706667 0.77264762 0.78940952 0.80110476 0.81295238\n",
            " 0.83729524 0.85588571 0.84217143 0.82784762 0.83504762 0.82807619\n",
            " 0.85569524 0.8487619  0.8719619  0.86289524 0.87066667 0.8624381\n",
            " 0.86769524 0.86822857 0.86704762 0.88194286 0.88761905 0.8944\n",
            " 0.88373333 0.91870476 0.92617143 0.96628571 1.         0.93546667\n",
            " 0.94651429 0.96247619 0.99710476 0.9952381  1.00777912 1.02186489\n",
            " 1.03470707 1.04702842 1.0589838  1.07068777 1.08230293 1.09400475\n",
            " 1.10594189 1.11821604 1.13087118 1.14390576]\n",
            "11day input[[1.1572832]]\n",
            "12day input[0.89344762 0.89375238 0.87108571 0.88868571 0.8760381  0.84841905\n",
            " 0.79177143 0.75329524 0.77070476 0.69782857 0.69721905 0.79417143\n",
            " 0.75801905 0.80914286 0.77173333 0.75691429 0.66982857 0.74285714\n",
            " 0.70510476 0.60148571 0.71478095 0.57855238 0.61912381 0.59554286\n",
            " 0.58834286 0.52914286 0.51059048 0.59634286 0.5911619  0.64038095\n",
            " 0.59961905 0.62655238 0.62457143 0.5736     0.58891429 0.57550476\n",
            " 0.65573333 0.64415238 0.66944762 0.6767619  0.6968     0.74937143\n",
            " 0.73939048 0.748      0.73318095 0.71081905 0.67820952 0.70765714\n",
            " 0.70358095 0.73382857 0.73459048 0.71710476 0.7519619  0.77508571\n",
            " 0.75706667 0.77264762 0.78940952 0.80110476 0.81295238 0.83729524\n",
            " 0.85588571 0.84217143 0.82784762 0.83504762 0.82807619 0.85569524\n",
            " 0.8487619  0.8719619  0.86289524 0.87066667 0.8624381  0.86769524\n",
            " 0.86822857 0.86704762 0.88194286 0.88761905 0.8944     0.88373333\n",
            " 0.91870476 0.92617143 0.96628571 1.         0.93546667 0.94651429\n",
            " 0.96247619 0.99710476 0.9952381  1.00777912 1.02186489 1.03470707\n",
            " 1.04702842 1.0589838  1.07068777 1.08230293 1.09400475 1.10594189\n",
            " 1.11821604 1.13087118 1.14390576 1.15728319]\n",
            "12day input[[1.1709502]]\n",
            "13day input[0.89375238 0.87108571 0.88868571 0.8760381  0.84841905 0.79177143\n",
            " 0.75329524 0.77070476 0.69782857 0.69721905 0.79417143 0.75801905\n",
            " 0.80914286 0.77173333 0.75691429 0.66982857 0.74285714 0.70510476\n",
            " 0.60148571 0.71478095 0.57855238 0.61912381 0.59554286 0.58834286\n",
            " 0.52914286 0.51059048 0.59634286 0.5911619  0.64038095 0.59961905\n",
            " 0.62655238 0.62457143 0.5736     0.58891429 0.57550476 0.65573333\n",
            " 0.64415238 0.66944762 0.6767619  0.6968     0.74937143 0.73939048\n",
            " 0.748      0.73318095 0.71081905 0.67820952 0.70765714 0.70358095\n",
            " 0.73382857 0.73459048 0.71710476 0.7519619  0.77508571 0.75706667\n",
            " 0.77264762 0.78940952 0.80110476 0.81295238 0.83729524 0.85588571\n",
            " 0.84217143 0.82784762 0.83504762 0.82807619 0.85569524 0.8487619\n",
            " 0.8719619  0.86289524 0.87066667 0.8624381  0.86769524 0.86822857\n",
            " 0.86704762 0.88194286 0.88761905 0.8944     0.88373333 0.91870476\n",
            " 0.92617143 0.96628571 1.         0.93546667 0.94651429 0.96247619\n",
            " 0.99710476 0.9952381  1.00777912 1.02186489 1.03470707 1.04702842\n",
            " 1.0589838  1.07068777 1.08230293 1.09400475 1.10594189 1.11821604\n",
            " 1.13087118 1.14390576 1.15728319 1.17095017]\n",
            "13day input[[1.1848528]]\n",
            "14day input[0.87108571 0.88868571 0.8760381  0.84841905 0.79177143 0.75329524\n",
            " 0.77070476 0.69782857 0.69721905 0.79417143 0.75801905 0.80914286\n",
            " 0.77173333 0.75691429 0.66982857 0.74285714 0.70510476 0.60148571\n",
            " 0.71478095 0.57855238 0.61912381 0.59554286 0.58834286 0.52914286\n",
            " 0.51059048 0.59634286 0.5911619  0.64038095 0.59961905 0.62655238\n",
            " 0.62457143 0.5736     0.58891429 0.57550476 0.65573333 0.64415238\n",
            " 0.66944762 0.6767619  0.6968     0.74937143 0.73939048 0.748\n",
            " 0.73318095 0.71081905 0.67820952 0.70765714 0.70358095 0.73382857\n",
            " 0.73459048 0.71710476 0.7519619  0.77508571 0.75706667 0.77264762\n",
            " 0.78940952 0.80110476 0.81295238 0.83729524 0.85588571 0.84217143\n",
            " 0.82784762 0.83504762 0.82807619 0.85569524 0.8487619  0.8719619\n",
            " 0.86289524 0.87066667 0.8624381  0.86769524 0.86822857 0.86704762\n",
            " 0.88194286 0.88761905 0.8944     0.88373333 0.91870476 0.92617143\n",
            " 0.96628571 1.         0.93546667 0.94651429 0.96247619 0.99710476\n",
            " 0.9952381  1.00777912 1.02186489 1.03470707 1.04702842 1.0589838\n",
            " 1.07068777 1.08230293 1.09400475 1.10594189 1.11821604 1.13087118\n",
            " 1.14390576 1.15728319 1.17095017 1.18485284]\n",
            "14day input[[1.198946]]\n",
            "15day input[0.88868571 0.8760381  0.84841905 0.79177143 0.75329524 0.77070476\n",
            " 0.69782857 0.69721905 0.79417143 0.75801905 0.80914286 0.77173333\n",
            " 0.75691429 0.66982857 0.74285714 0.70510476 0.60148571 0.71478095\n",
            " 0.57855238 0.61912381 0.59554286 0.58834286 0.52914286 0.51059048\n",
            " 0.59634286 0.5911619  0.64038095 0.59961905 0.62655238 0.62457143\n",
            " 0.5736     0.58891429 0.57550476 0.65573333 0.64415238 0.66944762\n",
            " 0.6767619  0.6968     0.74937143 0.73939048 0.748      0.73318095\n",
            " 0.71081905 0.67820952 0.70765714 0.70358095 0.73382857 0.73459048\n",
            " 0.71710476 0.7519619  0.77508571 0.75706667 0.77264762 0.78940952\n",
            " 0.80110476 0.81295238 0.83729524 0.85588571 0.84217143 0.82784762\n",
            " 0.83504762 0.82807619 0.85569524 0.8487619  0.8719619  0.86289524\n",
            " 0.87066667 0.8624381  0.86769524 0.86822857 0.86704762 0.88194286\n",
            " 0.88761905 0.8944     0.88373333 0.91870476 0.92617143 0.96628571\n",
            " 1.         0.93546667 0.94651429 0.96247619 0.99710476 0.9952381\n",
            " 1.00777912 1.02186489 1.03470707 1.04702842 1.0589838  1.07068777\n",
            " 1.08230293 1.09400475 1.10594189 1.11821604 1.13087118 1.14390576\n",
            " 1.15728319 1.17095017 1.18485284 1.198946  ]\n",
            "15day input[[1.2131995]]\n",
            "16day input[0.8760381  0.84841905 0.79177143 0.75329524 0.77070476 0.69782857\n",
            " 0.69721905 0.79417143 0.75801905 0.80914286 0.77173333 0.75691429\n",
            " 0.66982857 0.74285714 0.70510476 0.60148571 0.71478095 0.57855238\n",
            " 0.61912381 0.59554286 0.58834286 0.52914286 0.51059048 0.59634286\n",
            " 0.5911619  0.64038095 0.59961905 0.62655238 0.62457143 0.5736\n",
            " 0.58891429 0.57550476 0.65573333 0.64415238 0.66944762 0.6767619\n",
            " 0.6968     0.74937143 0.73939048 0.748      0.73318095 0.71081905\n",
            " 0.67820952 0.70765714 0.70358095 0.73382857 0.73459048 0.71710476\n",
            " 0.7519619  0.77508571 0.75706667 0.77264762 0.78940952 0.80110476\n",
            " 0.81295238 0.83729524 0.85588571 0.84217143 0.82784762 0.83504762\n",
            " 0.82807619 0.85569524 0.8487619  0.8719619  0.86289524 0.87066667\n",
            " 0.8624381  0.86769524 0.86822857 0.86704762 0.88194286 0.88761905\n",
            " 0.8944     0.88373333 0.91870476 0.92617143 0.96628571 1.\n",
            " 0.93546667 0.94651429 0.96247619 0.99710476 0.9952381  1.00777912\n",
            " 1.02186489 1.03470707 1.04702842 1.0589838  1.07068777 1.08230293\n",
            " 1.09400475 1.10594189 1.11821604 1.13087118 1.14390576 1.15728319\n",
            " 1.17095017 1.18485284 1.198946   1.2131995 ]\n",
            "16day input[[1.2275997]]\n",
            "17day input[0.84841905 0.79177143 0.75329524 0.77070476 0.69782857 0.69721905\n",
            " 0.79417143 0.75801905 0.80914286 0.77173333 0.75691429 0.66982857\n",
            " 0.74285714 0.70510476 0.60148571 0.71478095 0.57855238 0.61912381\n",
            " 0.59554286 0.58834286 0.52914286 0.51059048 0.59634286 0.5911619\n",
            " 0.64038095 0.59961905 0.62655238 0.62457143 0.5736     0.58891429\n",
            " 0.57550476 0.65573333 0.64415238 0.66944762 0.6767619  0.6968\n",
            " 0.74937143 0.73939048 0.748      0.73318095 0.71081905 0.67820952\n",
            " 0.70765714 0.70358095 0.73382857 0.73459048 0.71710476 0.7519619\n",
            " 0.77508571 0.75706667 0.77264762 0.78940952 0.80110476 0.81295238\n",
            " 0.83729524 0.85588571 0.84217143 0.82784762 0.83504762 0.82807619\n",
            " 0.85569524 0.8487619  0.8719619  0.86289524 0.87066667 0.8624381\n",
            " 0.86769524 0.86822857 0.86704762 0.88194286 0.88761905 0.8944\n",
            " 0.88373333 0.91870476 0.92617143 0.96628571 1.         0.93546667\n",
            " 0.94651429 0.96247619 0.99710476 0.9952381  1.00777912 1.02186489\n",
            " 1.03470707 1.04702842 1.0589838  1.07068777 1.08230293 1.09400475\n",
            " 1.10594189 1.11821604 1.13087118 1.14390576 1.15728319 1.17095017\n",
            " 1.18485284 1.198946   1.2131995  1.22759974]\n",
            "17day input[[1.2421459]]\n",
            "18day input[0.79177143 0.75329524 0.77070476 0.69782857 0.69721905 0.79417143\n",
            " 0.75801905 0.80914286 0.77173333 0.75691429 0.66982857 0.74285714\n",
            " 0.70510476 0.60148571 0.71478095 0.57855238 0.61912381 0.59554286\n",
            " 0.58834286 0.52914286 0.51059048 0.59634286 0.5911619  0.64038095\n",
            " 0.59961905 0.62655238 0.62457143 0.5736     0.58891429 0.57550476\n",
            " 0.65573333 0.64415238 0.66944762 0.6767619  0.6968     0.74937143\n",
            " 0.73939048 0.748      0.73318095 0.71081905 0.67820952 0.70765714\n",
            " 0.70358095 0.73382857 0.73459048 0.71710476 0.7519619  0.77508571\n",
            " 0.75706667 0.77264762 0.78940952 0.80110476 0.81295238 0.83729524\n",
            " 0.85588571 0.84217143 0.82784762 0.83504762 0.82807619 0.85569524\n",
            " 0.8487619  0.8719619  0.86289524 0.87066667 0.8624381  0.86769524\n",
            " 0.86822857 0.86704762 0.88194286 0.88761905 0.8944     0.88373333\n",
            " 0.91870476 0.92617143 0.96628571 1.         0.93546667 0.94651429\n",
            " 0.96247619 0.99710476 0.9952381  1.00777912 1.02186489 1.03470707\n",
            " 1.04702842 1.0589838  1.07068777 1.08230293 1.09400475 1.10594189\n",
            " 1.11821604 1.13087118 1.14390576 1.15728319 1.17095017 1.18485284\n",
            " 1.198946   1.2131995  1.22759974 1.2421459 ]\n",
            "18day input[[1.2568446]]\n",
            "19day input[0.75329524 0.77070476 0.69782857 0.69721905 0.79417143 0.75801905\n",
            " 0.80914286 0.77173333 0.75691429 0.66982857 0.74285714 0.70510476\n",
            " 0.60148571 0.71478095 0.57855238 0.61912381 0.59554286 0.58834286\n",
            " 0.52914286 0.51059048 0.59634286 0.5911619  0.64038095 0.59961905\n",
            " 0.62655238 0.62457143 0.5736     0.58891429 0.57550476 0.65573333\n",
            " 0.64415238 0.66944762 0.6767619  0.6968     0.74937143 0.73939048\n",
            " 0.748      0.73318095 0.71081905 0.67820952 0.70765714 0.70358095\n",
            " 0.73382857 0.73459048 0.71710476 0.7519619  0.77508571 0.75706667\n",
            " 0.77264762 0.78940952 0.80110476 0.81295238 0.83729524 0.85588571\n",
            " 0.84217143 0.82784762 0.83504762 0.82807619 0.85569524 0.8487619\n",
            " 0.8719619  0.86289524 0.87066667 0.8624381  0.86769524 0.86822857\n",
            " 0.86704762 0.88194286 0.88761905 0.8944     0.88373333 0.91870476\n",
            " 0.92617143 0.96628571 1.         0.93546667 0.94651429 0.96247619\n",
            " 0.99710476 0.9952381  1.00777912 1.02186489 1.03470707 1.04702842\n",
            " 1.0589838  1.07068777 1.08230293 1.09400475 1.10594189 1.11821604\n",
            " 1.13087118 1.14390576 1.15728319 1.17095017 1.18485284 1.198946\n",
            " 1.2131995  1.22759974 1.2421459  1.25684464]\n",
            "19day input[[1.2717061]]\n",
            "20day input[0.77070476 0.69782857 0.69721905 0.79417143 0.75801905 0.80914286\n",
            " 0.77173333 0.75691429 0.66982857 0.74285714 0.70510476 0.60148571\n",
            " 0.71478095 0.57855238 0.61912381 0.59554286 0.58834286 0.52914286\n",
            " 0.51059048 0.59634286 0.5911619  0.64038095 0.59961905 0.62655238\n",
            " 0.62457143 0.5736     0.58891429 0.57550476 0.65573333 0.64415238\n",
            " 0.66944762 0.6767619  0.6968     0.74937143 0.73939048 0.748\n",
            " 0.73318095 0.71081905 0.67820952 0.70765714 0.70358095 0.73382857\n",
            " 0.73459048 0.71710476 0.7519619  0.77508571 0.75706667 0.77264762\n",
            " 0.78940952 0.80110476 0.81295238 0.83729524 0.85588571 0.84217143\n",
            " 0.82784762 0.83504762 0.82807619 0.85569524 0.8487619  0.8719619\n",
            " 0.86289524 0.87066667 0.8624381  0.86769524 0.86822857 0.86704762\n",
            " 0.88194286 0.88761905 0.8944     0.88373333 0.91870476 0.92617143\n",
            " 0.96628571 1.         0.93546667 0.94651429 0.96247619 0.99710476\n",
            " 0.9952381  1.00777912 1.02186489 1.03470707 1.04702842 1.0589838\n",
            " 1.07068777 1.08230293 1.09400475 1.10594189 1.11821604 1.13087118\n",
            " 1.14390576 1.15728319 1.17095017 1.18485284 1.198946   1.2131995\n",
            " 1.22759974 1.2421459  1.25684464 1.2717061 ]\n",
            "20day input[[1.2867398]]\n",
            "21day input[0.69782857 0.69721905 0.79417143 0.75801905 0.80914286 0.77173333\n",
            " 0.75691429 0.66982857 0.74285714 0.70510476 0.60148571 0.71478095\n",
            " 0.57855238 0.61912381 0.59554286 0.58834286 0.52914286 0.51059048\n",
            " 0.59634286 0.5911619  0.64038095 0.59961905 0.62655238 0.62457143\n",
            " 0.5736     0.58891429 0.57550476 0.65573333 0.64415238 0.66944762\n",
            " 0.6767619  0.6968     0.74937143 0.73939048 0.748      0.73318095\n",
            " 0.71081905 0.67820952 0.70765714 0.70358095 0.73382857 0.73459048\n",
            " 0.71710476 0.7519619  0.77508571 0.75706667 0.77264762 0.78940952\n",
            " 0.80110476 0.81295238 0.83729524 0.85588571 0.84217143 0.82784762\n",
            " 0.83504762 0.82807619 0.85569524 0.8487619  0.8719619  0.86289524\n",
            " 0.87066667 0.8624381  0.86769524 0.86822857 0.86704762 0.88194286\n",
            " 0.88761905 0.8944     0.88373333 0.91870476 0.92617143 0.96628571\n",
            " 1.         0.93546667 0.94651429 0.96247619 0.99710476 0.9952381\n",
            " 1.00777912 1.02186489 1.03470707 1.04702842 1.0589838  1.07068777\n",
            " 1.08230293 1.09400475 1.10594189 1.11821604 1.13087118 1.14390576\n",
            " 1.15728319 1.17095017 1.18485284 1.198946   1.2131995  1.22759974\n",
            " 1.2421459  1.25684464 1.2717061  1.28673983]\n",
            "21day input[[1.3019499]]\n",
            "22day input[0.69721905 0.79417143 0.75801905 0.80914286 0.77173333 0.75691429\n",
            " 0.66982857 0.74285714 0.70510476 0.60148571 0.71478095 0.57855238\n",
            " 0.61912381 0.59554286 0.58834286 0.52914286 0.51059048 0.59634286\n",
            " 0.5911619  0.64038095 0.59961905 0.62655238 0.62457143 0.5736\n",
            " 0.58891429 0.57550476 0.65573333 0.64415238 0.66944762 0.6767619\n",
            " 0.6968     0.74937143 0.73939048 0.748      0.73318095 0.71081905\n",
            " 0.67820952 0.70765714 0.70358095 0.73382857 0.73459048 0.71710476\n",
            " 0.7519619  0.77508571 0.75706667 0.77264762 0.78940952 0.80110476\n",
            " 0.81295238 0.83729524 0.85588571 0.84217143 0.82784762 0.83504762\n",
            " 0.82807619 0.85569524 0.8487619  0.8719619  0.86289524 0.87066667\n",
            " 0.8624381  0.86769524 0.86822857 0.86704762 0.88194286 0.88761905\n",
            " 0.8944     0.88373333 0.91870476 0.92617143 0.96628571 1.\n",
            " 0.93546667 0.94651429 0.96247619 0.99710476 0.9952381  1.00777912\n",
            " 1.02186489 1.03470707 1.04702842 1.0589838  1.07068777 1.08230293\n",
            " 1.09400475 1.10594189 1.11821604 1.13087118 1.14390576 1.15728319\n",
            " 1.17095017 1.18485284 1.198946   1.2131995  1.22759974 1.2421459\n",
            " 1.25684464 1.2717061  1.28673983 1.30194986]\n",
            "22day input[[1.3173364]]\n",
            "23day input[0.79417143 0.75801905 0.80914286 0.77173333 0.75691429 0.66982857\n",
            " 0.74285714 0.70510476 0.60148571 0.71478095 0.57855238 0.61912381\n",
            " 0.59554286 0.58834286 0.52914286 0.51059048 0.59634286 0.5911619\n",
            " 0.64038095 0.59961905 0.62655238 0.62457143 0.5736     0.58891429\n",
            " 0.57550476 0.65573333 0.64415238 0.66944762 0.6767619  0.6968\n",
            " 0.74937143 0.73939048 0.748      0.73318095 0.71081905 0.67820952\n",
            " 0.70765714 0.70358095 0.73382857 0.73459048 0.71710476 0.7519619\n",
            " 0.77508571 0.75706667 0.77264762 0.78940952 0.80110476 0.81295238\n",
            " 0.83729524 0.85588571 0.84217143 0.82784762 0.83504762 0.82807619\n",
            " 0.85569524 0.8487619  0.8719619  0.86289524 0.87066667 0.8624381\n",
            " 0.86769524 0.86822857 0.86704762 0.88194286 0.88761905 0.8944\n",
            " 0.88373333 0.91870476 0.92617143 0.96628571 1.         0.93546667\n",
            " 0.94651429 0.96247619 0.99710476 0.9952381  1.00777912 1.02186489\n",
            " 1.03470707 1.04702842 1.0589838  1.07068777 1.08230293 1.09400475\n",
            " 1.10594189 1.11821604 1.13087118 1.14390576 1.15728319 1.17095017\n",
            " 1.18485284 1.198946   1.2131995  1.22759974 1.2421459  1.25684464\n",
            " 1.2717061  1.28673983 1.30194986 1.31733644]\n",
            "23day input[[1.3328935]]\n",
            "24day input[0.75801905 0.80914286 0.77173333 0.75691429 0.66982857 0.74285714\n",
            " 0.70510476 0.60148571 0.71478095 0.57855238 0.61912381 0.59554286\n",
            " 0.58834286 0.52914286 0.51059048 0.59634286 0.5911619  0.64038095\n",
            " 0.59961905 0.62655238 0.62457143 0.5736     0.58891429 0.57550476\n",
            " 0.65573333 0.64415238 0.66944762 0.6767619  0.6968     0.74937143\n",
            " 0.73939048 0.748      0.73318095 0.71081905 0.67820952 0.70765714\n",
            " 0.70358095 0.73382857 0.73459048 0.71710476 0.7519619  0.77508571\n",
            " 0.75706667 0.77264762 0.78940952 0.80110476 0.81295238 0.83729524\n",
            " 0.85588571 0.84217143 0.82784762 0.83504762 0.82807619 0.85569524\n",
            " 0.8487619  0.8719619  0.86289524 0.87066667 0.8624381  0.86769524\n",
            " 0.86822857 0.86704762 0.88194286 0.88761905 0.8944     0.88373333\n",
            " 0.91870476 0.92617143 0.96628571 1.         0.93546667 0.94651429\n",
            " 0.96247619 0.99710476 0.9952381  1.00777912 1.02186489 1.03470707\n",
            " 1.04702842 1.0589838  1.07068777 1.08230293 1.09400475 1.10594189\n",
            " 1.11821604 1.13087118 1.14390576 1.15728319 1.17095017 1.18485284\n",
            " 1.198946   1.2131995  1.22759974 1.2421459  1.25684464 1.2717061\n",
            " 1.28673983 1.30194986 1.31733644 1.33289349]\n",
            "24day input[[1.3486127]]\n",
            "25day input[0.80914286 0.77173333 0.75691429 0.66982857 0.74285714 0.70510476\n",
            " 0.60148571 0.71478095 0.57855238 0.61912381 0.59554286 0.58834286\n",
            " 0.52914286 0.51059048 0.59634286 0.5911619  0.64038095 0.59961905\n",
            " 0.62655238 0.62457143 0.5736     0.58891429 0.57550476 0.65573333\n",
            " 0.64415238 0.66944762 0.6767619  0.6968     0.74937143 0.73939048\n",
            " 0.748      0.73318095 0.71081905 0.67820952 0.70765714 0.70358095\n",
            " 0.73382857 0.73459048 0.71710476 0.7519619  0.77508571 0.75706667\n",
            " 0.77264762 0.78940952 0.80110476 0.81295238 0.83729524 0.85588571\n",
            " 0.84217143 0.82784762 0.83504762 0.82807619 0.85569524 0.8487619\n",
            " 0.8719619  0.86289524 0.87066667 0.8624381  0.86769524 0.86822857\n",
            " 0.86704762 0.88194286 0.88761905 0.8944     0.88373333 0.91870476\n",
            " 0.92617143 0.96628571 1.         0.93546667 0.94651429 0.96247619\n",
            " 0.99710476 0.9952381  1.00777912 1.02186489 1.03470707 1.04702842\n",
            " 1.0589838  1.07068777 1.08230293 1.09400475 1.10594189 1.11821604\n",
            " 1.13087118 1.14390576 1.15728319 1.17095017 1.18485284 1.198946\n",
            " 1.2131995  1.22759974 1.2421459  1.25684464 1.2717061  1.28673983\n",
            " 1.30194986 1.31733644 1.33289349 1.34861267]\n",
            "25day input[[1.3644803]]\n",
            "26day input[0.77173333 0.75691429 0.66982857 0.74285714 0.70510476 0.60148571\n",
            " 0.71478095 0.57855238 0.61912381 0.59554286 0.58834286 0.52914286\n",
            " 0.51059048 0.59634286 0.5911619  0.64038095 0.59961905 0.62655238\n",
            " 0.62457143 0.5736     0.58891429 0.57550476 0.65573333 0.64415238\n",
            " 0.66944762 0.6767619  0.6968     0.74937143 0.73939048 0.748\n",
            " 0.73318095 0.71081905 0.67820952 0.70765714 0.70358095 0.73382857\n",
            " 0.73459048 0.71710476 0.7519619  0.77508571 0.75706667 0.77264762\n",
            " 0.78940952 0.80110476 0.81295238 0.83729524 0.85588571 0.84217143\n",
            " 0.82784762 0.83504762 0.82807619 0.85569524 0.8487619  0.8719619\n",
            " 0.86289524 0.87066667 0.8624381  0.86769524 0.86822857 0.86704762\n",
            " 0.88194286 0.88761905 0.8944     0.88373333 0.91870476 0.92617143\n",
            " 0.96628571 1.         0.93546667 0.94651429 0.96247619 0.99710476\n",
            " 0.9952381  1.00777912 1.02186489 1.03470707 1.04702842 1.0589838\n",
            " 1.07068777 1.08230293 1.09400475 1.10594189 1.11821604 1.13087118\n",
            " 1.14390576 1.15728319 1.17095017 1.18485284 1.198946   1.2131995\n",
            " 1.22759974 1.2421459  1.25684464 1.2717061  1.28673983 1.30194986\n",
            " 1.31733644 1.33289349 1.34861267 1.36448026]\n",
            "26day input[[1.3804836]]\n",
            "27day input[0.75691429 0.66982857 0.74285714 0.70510476 0.60148571 0.71478095\n",
            " 0.57855238 0.61912381 0.59554286 0.58834286 0.52914286 0.51059048\n",
            " 0.59634286 0.5911619  0.64038095 0.59961905 0.62655238 0.62457143\n",
            " 0.5736     0.58891429 0.57550476 0.65573333 0.64415238 0.66944762\n",
            " 0.6767619  0.6968     0.74937143 0.73939048 0.748      0.73318095\n",
            " 0.71081905 0.67820952 0.70765714 0.70358095 0.73382857 0.73459048\n",
            " 0.71710476 0.7519619  0.77508571 0.75706667 0.77264762 0.78940952\n",
            " 0.80110476 0.81295238 0.83729524 0.85588571 0.84217143 0.82784762\n",
            " 0.83504762 0.82807619 0.85569524 0.8487619  0.8719619  0.86289524\n",
            " 0.87066667 0.8624381  0.86769524 0.86822857 0.86704762 0.88194286\n",
            " 0.88761905 0.8944     0.88373333 0.91870476 0.92617143 0.96628571\n",
            " 1.         0.93546667 0.94651429 0.96247619 0.99710476 0.9952381\n",
            " 1.00777912 1.02186489 1.03470707 1.04702842 1.0589838  1.07068777\n",
            " 1.08230293 1.09400475 1.10594189 1.11821604 1.13087118 1.14390576\n",
            " 1.15728319 1.17095017 1.18485284 1.198946   1.2131995  1.22759974\n",
            " 1.2421459  1.25684464 1.2717061  1.28673983 1.30194986 1.31733644\n",
            " 1.33289349 1.34861267 1.36448026 1.38048363]\n",
            "27day input[[1.3966087]]\n",
            "28day input[0.66982857 0.74285714 0.70510476 0.60148571 0.71478095 0.57855238\n",
            " 0.61912381 0.59554286 0.58834286 0.52914286 0.51059048 0.59634286\n",
            " 0.5911619  0.64038095 0.59961905 0.62655238 0.62457143 0.5736\n",
            " 0.58891429 0.57550476 0.65573333 0.64415238 0.66944762 0.6767619\n",
            " 0.6968     0.74937143 0.73939048 0.748      0.73318095 0.71081905\n",
            " 0.67820952 0.70765714 0.70358095 0.73382857 0.73459048 0.71710476\n",
            " 0.7519619  0.77508571 0.75706667 0.77264762 0.78940952 0.80110476\n",
            " 0.81295238 0.83729524 0.85588571 0.84217143 0.82784762 0.83504762\n",
            " 0.82807619 0.85569524 0.8487619  0.8719619  0.86289524 0.87066667\n",
            " 0.8624381  0.86769524 0.86822857 0.86704762 0.88194286 0.88761905\n",
            " 0.8944     0.88373333 0.91870476 0.92617143 0.96628571 1.\n",
            " 0.93546667 0.94651429 0.96247619 0.99710476 0.9952381  1.00777912\n",
            " 1.02186489 1.03470707 1.04702842 1.0589838  1.07068777 1.08230293\n",
            " 1.09400475 1.10594189 1.11821604 1.13087118 1.14390576 1.15728319\n",
            " 1.17095017 1.18485284 1.198946   1.2131995  1.22759974 1.2421459\n",
            " 1.25684464 1.2717061  1.28673983 1.30194986 1.31733644 1.33289349\n",
            " 1.34861267 1.36448026 1.38048363 1.39660871]\n",
            "28day input[[1.4128418]]\n",
            "29day input[0.74285714 0.70510476 0.60148571 0.71478095 0.57855238 0.61912381\n",
            " 0.59554286 0.58834286 0.52914286 0.51059048 0.59634286 0.5911619\n",
            " 0.64038095 0.59961905 0.62655238 0.62457143 0.5736     0.58891429\n",
            " 0.57550476 0.65573333 0.64415238 0.66944762 0.6767619  0.6968\n",
            " 0.74937143 0.73939048 0.748      0.73318095 0.71081905 0.67820952\n",
            " 0.70765714 0.70358095 0.73382857 0.73459048 0.71710476 0.7519619\n",
            " 0.77508571 0.75706667 0.77264762 0.78940952 0.80110476 0.81295238\n",
            " 0.83729524 0.85588571 0.84217143 0.82784762 0.83504762 0.82807619\n",
            " 0.85569524 0.8487619  0.8719619  0.86289524 0.87066667 0.8624381\n",
            " 0.86769524 0.86822857 0.86704762 0.88194286 0.88761905 0.8944\n",
            " 0.88373333 0.91870476 0.92617143 0.96628571 1.         0.93546667\n",
            " 0.94651429 0.96247619 0.99710476 0.9952381  1.00777912 1.02186489\n",
            " 1.03470707 1.04702842 1.0589838  1.07068777 1.08230293 1.09400475\n",
            " 1.10594189 1.11821604 1.13087118 1.14390576 1.15728319 1.17095017\n",
            " 1.18485284 1.198946   1.2131995  1.22759974 1.2421459  1.25684464\n",
            " 1.2717061  1.28673983 1.30194986 1.31733644 1.33289349 1.34861267\n",
            " 1.36448026 1.38048363 1.39660871 1.4128418 ]\n",
            "29day input[[1.4291692]]\n"
          ],
          "name": "stdout"
        }
      ]
    },
    {
      "cell_type": "code",
      "metadata": {
        "id": "uMzMilnyEykj",
        "colab_type": "code",
        "colab": {}
      },
      "source": [
        "day_new=np.arange(1,101)\n",
        "day_predict=np.arange(101,131)"
      ],
      "execution_count": 46,
      "outputs": []
    },
    {
      "cell_type": "code",
      "metadata": {
        "id": "sEn1VDKiEy3o",
        "colab_type": "code",
        "colab": {}
      },
      "source": [
        "import matplotlib.pyplot as plt"
      ],
      "execution_count": 43,
      "outputs": []
    },
    {
      "cell_type": "code",
      "metadata": {
        "id": "rWyNSKUsEy00",
        "colab_type": "code",
        "colab": {
          "base_uri": "https://localhost:8080/",
          "height": 36
        },
        "outputId": "a54e86e1-68a6-43b7-ffc3-d00702e065a8"
      },
      "source": [
        "len(df1)"
      ],
      "execution_count": 37,
      "outputs": [
        {
          "output_type": "execute_result",
          "data": {
            "text/plain": [
              "1257"
            ]
          },
          "metadata": {
            "tags": []
          },
          "execution_count": 37
        }
      ]
    },
    {
      "cell_type": "code",
      "metadata": {
        "id": "CnAO1V_lEyxB",
        "colab_type": "code",
        "colab": {}
      },
      "source": [
        "df3=df1.tolist()\n",
        "df3.extend(output)"
      ],
      "execution_count": 39,
      "outputs": []
    },
    {
      "cell_type": "code",
      "metadata": {
        "id": "dLd_sZfUWoEq",
        "colab_type": "code",
        "colab": {
          "base_uri": "https://localhost:8080/",
          "height": 284
        },
        "outputId": "97a3903c-2bb8-4561-b6ce-0c690c56ee7b"
      },
      "source": [
        "plt.plot(day_new,scaler.inverse_transform(df1[1157:]))\n",
        "plt.plot(day_predict,scaler.inverse_transform(output))"
      ],
      "execution_count": 47,
      "outputs": [
        {
          "output_type": "execute_result",
          "data": {
            "text/plain": [
              "[<matplotlib.lines.Line2D at 0x7f61391f5eb8>]"
            ]
          },
          "metadata": {
            "tags": []
          },
          "execution_count": 47
        },
        {
          "output_type": "display_data",
          "data": {
            "image/png": "[encoded data removed]",
            "text/plain": [
              "<Figure size 432x288 with 1 Axes>"
            ]
          },
          "metadata": {
            "tags": [],
            "needs_background": "light"
          }
        }
      ]
    },
    {
      "cell_type": "code",
      "metadata": {
        "id": "NfAZzhLhIrni",
        "colab_type": "code",
        "colab": {
          "base_uri": "https://localhost:8080/",
          "height": 284
        },
        "outputId": "84f64cfc-32cf-441a-c0e2-bb6b95e6740b"
      },
      "source": [
        "plt.plot(df3[1000:])"
      ],
      "execution_count": 48,
      "outputs": [
        {
          "output_type": "execute_result",
          "data": {
            "text/plain": [
              "[<matplotlib.lines.Line2D at 0x7f613812c208>]"
            ]
          },
          "metadata": {
            "tags": []
          },
          "execution_count": 48
        },
        {
          "output_type": "display_data",
          "data": {
            "image/png": "[encoded data removed]",
            "text/plain": [
              "<Figure size 432x288 with 1 Axes>"
            ]
          },
          "metadata": {
            "tags": [],
            "needs_background": "light"
          }
        }
      ]
    },
    {
      "cell_type": "code",
      "metadata": {
        "id": "lEKiDXqYIrkB",
        "colab_type": "code",
        "colab": {}
      },
      "source": [
        ""
      ],
      "execution_count": null,
      "outputs": []
    }
  ]
}