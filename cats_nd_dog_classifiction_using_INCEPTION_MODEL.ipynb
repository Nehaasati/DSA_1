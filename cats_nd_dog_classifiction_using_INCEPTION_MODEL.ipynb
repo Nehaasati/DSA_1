{
  "nbformat": 4,
  "nbformat_minor": 0,
  "metadata": {
    "colab": {
      "name": "cats nd dog classifiction using INCEPTION MODEL",
      "provenance": [],
      "authorship_tag": "ABX9TyMSB1tIkOzEvnzF5Knzsrb9",
      "include_colab_link": true
    },
    "kernelspec": {
      "name": "python3",
      "display_name": "Python 3"
    }
  },
  "cells": [
    {
      "cell_type": "markdown",
      "metadata": {
        "id": "view-in-github",
        "colab_type": "text"
      },
      "source": [
        "<a href=\"https://colab.research.google.com/github/Nehaasati/DSA_1/blob/master/cats_nd_dog_classifiction_using_INCEPTION_MODEL.ipynb\" target=\"_parent\"><img src=\"https://colab.research.google.com/assets/colab-badge.svg\" alt=\"Open In Colab\"/></a>"
      ]
    },
    {
      "cell_type": "code",
      "metadata": {
        "id": "-4Hoj1hdoTYl",
        "colab_type": "code",
        "outputId": "5ae42ab7-06ac-4e34-8f17-87253b2acb9b",
        "colab": {
          "base_uri": "https://localhost:8080/",
          "height": 35
        }
      },
      "source": [
        "\n",
        "\n",
        "import keras\n",
        "from tensorflow.keras.layers import Layer\n",
        "import tensorflow.keras.backend as K\n",
        "import tensorflow as tf\n",
        "from tensorflow.keras.datasets import cifar10\n",
        "\n",
        "from tensorflow.keras.models import Model\n",
        "from tensorflow.keras.layers import Conv2D, MaxPool2D,  \\\n",
        "    Dropout, Dense, Input, concatenate,      \\\n",
        "    GlobalAveragePooling2D, AveragePooling2D,\\\n",
        "    Flatten\n",
        "from tensorflow.keras.layers import Dense, Conv2D, Flatten, Dropout, MaxPooling2D\n",
        "from tensorflow.keras.preprocessing.image import ImageDataGenerator\n",
        "from tensorflow.python.keras.utils.data_utils import Sequence\n",
        "\n",
        "\n",
        "import os\n",
        "\n",
        "from tensorflow.keras.datasets import mnist\n",
        "from tensorflow.keras.models import Model \n",
        "import numpy as np\n",
        "import matplotlib.pyplot as plt\n",
        "import cv2 \n",
        "import numpy as np \n",
        "from tensorflow.keras.datasets import cifar10 \n",
        "from tensorflow.keras import backend as K \n"
      ],
      "execution_count": 0,
      "outputs": [
        {
          "output_type": "stream",
          "text": [
            "Using TensorFlow backend.\n"
          ],
          "name": "stderr"
        }
      ]
    },
    {
      "cell_type": "code",
      "metadata": {
        "id": "eI58-cJBoilS",
        "colab_type": "code",
        "colab": {}
      },
      "source": [
        "_URL = 'https://storage.googleapis.com/mledu-datasets/cats_and_dogs_filtered.zip'\n",
        "\n",
        "path_to_zip = tf.keras.utils.get_file('cats_and_dogs.zip', origin=_URL, extract=True)\n",
        "\n",
        "PATH = os.path.join(os.path.dirname(path_to_zip), 'cats_and_dogs_filtered')\n",
        "IMAGE_WIDTH = 300\n",
        "IMAGE_HEIGHT = 300\n",
        "BATCH_SIZE =32\n",
        "epochs =15"
      ],
      "execution_count": 0,
      "outputs": []
    },
    {
      "cell_type": "code",
      "metadata": {
        "id": "I8IyyW1IoioG",
        "colab_type": "code",
        "colab": {}
      },
      "source": [
        "train_dir = os.path.join(PATH, 'train')\n",
        "validation_dir = os.path.join(PATH, 'validation')"
      ],
      "execution_count": 0,
      "outputs": []
    },
    {
      "cell_type": "code",
      "metadata": {
        "id": "mjs6dHLooi1B",
        "colab_type": "code",
        "outputId": "c03ab77a-2e06-440a-9c9b-ca30d560a8c4",
        "colab": {
          "base_uri": "https://localhost:8080/",
          "height": 54
        }
      },
      "source": [
        "print(train_dir)\n",
        "print(validation_dir)"
      ],
      "execution_count": 0,
      "outputs": [
        {
          "output_type": "stream",
          "text": [
            "/root/.keras/datasets/cats_and_dogs_filtered/train\n",
            "/root/.keras/datasets/cats_and_dogs_filtered/validation\n"
          ],
          "name": "stdout"
        }
      ]
    },
    {
      "cell_type": "code",
      "metadata": {
        "id": "--NBGOQLp_6j",
        "colab_type": "code",
        "colab": {}
      },
      "source": [
        "train_cats_dir = os.path.join(train_dir, 'cats')  # directory with our training cat pictures\n",
        "train_dogs_dir = os.path.join(train_dir, 'dogs')  # directory with our training dog pictures\n",
        "validation_cats_dir = os.path.join(validation_dir, 'cats')  # directory with our validation cat pictures\n",
        "validation_dogs_dir = os.path.join(validation_dir, 'dogs')"
      ],
      "execution_count": 0,
      "outputs": []
    },
    {
      "cell_type": "code",
      "metadata": {
        "id": "qFvYp18xqAAi",
        "colab_type": "code",
        "outputId": "3e73e160-6b07-4d31-ed13-806ae2854b02",
        "colab": {
          "base_uri": "https://localhost:8080/",
          "height": 146
        }
      },
      "source": [
        "num_cats_tr = len(os.listdir(train_cats_dir))\n",
        "num_dogs_tr = len(os.listdir(train_dogs_dir))\n",
        "\n",
        "num_cats_val = len(os.listdir(validation_cats_dir))\n",
        "num_dogs_val = len(os.listdir(validation_dogs_dir))\n",
        "\n",
        "total_train = num_cats_tr + num_dogs_tr\n",
        "total_val = num_cats_val + num_dogs_val\n",
        "print('total training cat images:', num_cats_tr)\n",
        "print('total training dog images:', num_dogs_tr)\n",
        "\n",
        "print('total validation cat images:', num_cats_val)\n",
        "print('total validation dog images:', num_dogs_val)\n",
        "print(\"--\")\n",
        "print(\"Total training images:\", total_train)\n",
        "print(\"Total validation images:\", total_val)"
      ],
      "execution_count": 0,
      "outputs": [
        {
          "output_type": "stream",
          "text": [
            "total training cat images: 1000\n",
            "total training dog images: 1000\n",
            "total validation cat images: 500\n",
            "total validation dog images: 500\n",
            "--\n",
            "Total training images: 2000\n",
            "Total validation images: 1000\n"
          ],
          "name": "stdout"
        }
      ]
    },
    {
      "cell_type": "code",
      "metadata": {
        "id": "O-PCB9u6qACi",
        "colab_type": "code",
        "colab": {}
      },
      "source": [
        " image_gen_train = ImageDataGenerator(\n",
        "                    \n",
        "                    rotation_range=45,\n",
        "                    width_shift_range=.15,\n",
        "                    height_shift_range=.15,\n",
        "                    horizontal_flip=True,\n",
        "                    zoom_range=0.5\n",
        "                    )"
      ],
      "execution_count": 0,
      "outputs": []
    },
    {
      "cell_type": "code",
      "metadata": {
        "id": "_jhhO5f3qAGd",
        "colab_type": "code",
        "colab": {}
      },
      "source": [
        "validation_image_generator = ImageDataGenerator(rescale=1./255)"
      ],
      "execution_count": 0,
      "outputs": []
    },
    {
      "cell_type": "code",
      "metadata": {
        "id": "Gu2zHPUEp_5J",
        "colab_type": "code",
        "outputId": "fdf2ffba-4c77-425b-8cd2-d2747c740253",
        "colab": {
          "base_uri": "https://localhost:8080/",
          "height": 35
        }
      },
      "source": [
        "training_data_generator = image_gen_train.flow_from_directory(train_dir, \n",
        "                                        target_size=(224, 224),\n",
        "                                        color_mode='rgb',\n",
        "                                        #classes=None,\n",
        "                                        class_mode='binary',\n",
        "                                        batch_size=32, \n",
        "                                        shuffle=True) #keep data ordered \n",
        "\n",
        "num_samples = len(training_data_generator.filenames)\n",
        "num_classes = len(training_data_generator.class_indices)\n",
        "\n",
        "\n"
      ],
      "execution_count": 0,
      "outputs": [
        {
          "output_type": "stream",
          "text": [
            "Found 2000 images belonging to 2 classes.\n"
          ],
          "name": "stdout"
        }
      ]
    },
    {
      "cell_type": "code",
      "metadata": {
        "id": "mSUlGeqqsiO9",
        "colab_type": "code",
        "outputId": "76e58491-d6b4-4ed3-abfa-406d0bd9f1d2",
        "colab": {
          "base_uri": "https://localhost:8080/",
          "height": 35
        }
      },
      "source": [
        "val_data_gen = validation_image_generator.flow_from_directory(validation_dir, \n",
        "                                        target_size=(300, 300),\n",
        "                                        color_mode='rgb',\n",
        "                                        #classes=None,\n",
        "                                        class_mode='binary',\n",
        "                                        batch_size=32, \n",
        "                                        shuffle=True) #keep data ordered \n",
        "\n",
        "num_samples = len(val_data_gen.filenames)\n",
        "num_classes = len(val_data_gen.class_indices)\n"
      ],
      "execution_count": 0,
      "outputs": [
        {
          "output_type": "stream",
          "text": [
            "Found 1000 images belonging to 2 classes.\n"
          ],
          "name": "stdout"
        }
      ]
    },
    {
      "cell_type": "code",
      "metadata": {
        "id": "itmXFEmzsiTP",
        "colab_type": "code",
        "outputId": "603d4044-cbb7-472b-c584-30c1491d90d8",
        "colab": {
          "base_uri": "https://localhost:8080/",
          "height": 35
        }
      },
      "source": [
        "val_data_gen = validation_image_generator.flow_from_directory(batch_size=BATCH_SIZE,\n",
        "                                                              directory=validation_dir,\n",
        "                                                              target_size=(IMAGE_HEIGHT, IMAGE_WIDTH),\n",
        "                                                              class_mode='binary')\n",
        "\n",
        "    "
      ],
      "execution_count": 0,
      "outputs": [
        {
          "output_type": "stream",
          "text": [
            "Found 1000 images belonging to 2 classes.\n"
          ],
          "name": "stdout"
        }
      ]
    },
    {
      "cell_type": "code",
      "metadata": {
        "id": "US-h-eXCvl2T",
        "colab_type": "code",
        "colab": {}
      },
      "source": [
        "def inception_module(x,\n",
        "                     filters_1x1,\n",
        "                     filters_3x3_reduce,\n",
        "                     filters_3x3,\n",
        "                     filters_5x5_reduce,\n",
        "                     filters_5x5,\n",
        "                     filters_pool_proj,\n",
        "                     name=None):\n",
        "    \n",
        "    conv_1x1 = Conv2D(filters_1x1, (1, 1), padding='same', activation='relu', kernel_initializer=keras.initializers.glorot_uniform())(x)\n",
        "    \n",
        "    conv_3x3 = Conv2D(filters_3x3_reduce, (1, 1), padding='same', activation='relu', kernel_initializer=keras.initializers.glorot_uniform())(x)\n",
        "    conv_3x3 = Conv2D(filters_3x3, (3, 3), padding='same', activation='relu', kernel_initializer=keras.initializers.glorot_uniform())(conv_3x3)\n",
        "\n",
        "    conv_5x5 = Conv2D(filters_5x5_reduce, (1, 1), padding='same', activation='relu', kernel_initializer=kernel_init, bias_initializer=bias_init)(x)\n",
        "    conv_5x5 = Conv2D(filters_5x5, (5, 5), padding='same', activation='relu', kernel_initializer=kernel_init, bias_initializer=bias_init)(conv_5x5)\n",
        "\n",
        "    pool_proj = MaxPool2D((3, 3), strides=(1, 1), padding='same')(x)\n",
        "    pool_proj = Conv2D(filters_pool_proj, (1, 1), padding='same', activation='relu', kernel_initializer=kernel_init, bias_initializer=bias_init)(pool_proj)\n",
        "\n",
        "    output = concatenate([conv_1x1, conv_3x3, conv_5x5, pool_proj], axis=3, name=name)\n",
        "    \n",
        "    return output"
      ],
      "execution_count": 0,
      "outputs": []
    },
    {
      "cell_type": "code",
      "metadata": {
        "id": "KvzbE6uKUL7n",
        "colab_type": "code",
        "colab": {}
      },
      "source": [
        "#Input=training_data_generator "
      ],
      "execution_count": 0,
      "outputs": []
    },
    {
      "cell_type": "code",
      "metadata": {
        "id": "1EoYqvk0CjyA",
        "colab_type": "code",
        "colab": {}
      },
      "source": [
        "input= Input(shape=(224, 224, 3))\n",
        "x = Conv2D(64, (7, 7), padding='same', strides=(2, 2), activation='relu', kernel_initializer=keras.initializers.glorot_uniform())(input)\n",
        "x = MaxPool2D((3, 3), padding='same', strides=(2, 2))(x)\n",
        "x = Conv2D(64, (1, 1), padding='same', strides=(1, 1), activation='relu')(x)\n",
        "x = Conv2D(192, (3, 3), padding='same', strides=(1, 1), activation='relu')(x)\n",
        "x = MaxPool2D((3, 3), padding='same', strides=(2, 2))(x)\n",
        "\n",
        "#first  inception_module \n",
        "conv_1x1 = Conv2D(64, (1, 1), padding='same', activation='relu', kernel_initializer=keras.initializers.glorot_uniform())(input)\n",
        "conv_3x3 = Conv2D(96, (1, 1), padding='same', activation='relu', kernel_initializer=keras.initializers.glorot_uniform())(input)\n",
        "conv_3x3 = Conv2D(128, (3, 3), padding='same', activation='relu', kernel_initializer=keras.initializers.glorot_uniform())(conv_3x3)\n",
        "\n",
        "conv_5x5 = Conv2D(16, (1, 1), padding='same', activation='relu', kernel_initializer=keras.initializers.glorot_uniform())(input)\n",
        "conv_5x5 = Conv2D(32, (5, 5), padding='same', activation='relu', kernel_initializer=keras.initializers.glorot_uniform())(conv_5x5)\n",
        "\n",
        "pool_proj = MaxPool2D((3, 3), strides=(1, 1), padding='same')(input)\n",
        "pool_proj = Conv2D(32, (1, 1), padding='same', activation='relu', kernel_initializer=keras.initializers.glorot_uniform())(pool_proj)\n",
        "x = concatenate([conv_1x1, conv_3x3, conv_5x5, pool_proj], axis=3) \n",
        "\n",
        "#second insception\n",
        "conv_1x1 = Conv2D(128, (1, 1), padding='same', activation='relu', kernel_initializer=keras.initializers.glorot_uniform())(input)\n",
        "conv_3x3 = Conv2D(128, (1, 1), padding='same', activation='relu', kernel_initializer=keras.initializers.glorot_uniform())(input)\n",
        "conv_3x3 = Conv2D(192, (3, 3), padding='same', activation='relu', kernel_initializer=keras.initializers.glorot_uniform())(conv_3x3)\n",
        "\n",
        "conv_5x5 = Conv2D(32, (1, 1), padding='same', activation='relu', kernel_initializer=keras.initializers.glorot_uniform())(input)\n",
        "conv_5x5 = Conv2D(96, (5, 5), padding='same', activation='relu', kernel_initializer=keras.initializers.glorot_uniform())(conv_5x5)\n",
        "\n",
        "pool_proj = MaxPool2D((3, 3), strides=(1, 1), padding='same')(input)\n",
        "pool_proj = Conv2D(64, (1, 1), padding='same', activation='relu', kernel_initializer=keras.initializers.glorot_uniform())(pool_proj)\n",
        "x = concatenate([conv_1x1, conv_3x3, conv_5x5, pool_proj], axis=3) \n",
        "\n",
        "####max pool\n",
        "\n",
        "x = MaxPool2D((3, 3), padding='same', strides=(2, 2))(x)\n",
        "\n",
        "#4a insception\n",
        "conv_1x1 = Conv2D(192, (1, 1), padding='same', activation='relu', kernel_initializer=keras.initializers.glorot_uniform())(input)\n",
        "conv_3x3 = Conv2D(96, (1, 1), padding='same', activation='relu', kernel_initializer=keras.initializers.glorot_uniform())(input)\n",
        "conv_3x3 = Conv2D(208, (3, 3), padding='same', activation='relu', kernel_initializer=keras.initializers.glorot_uniform())(conv_3x3)\n",
        "\n",
        "conv_5x5 = Conv2D(16, (1, 1), padding='same', activation='relu', kernel_initializer=keras.initializers.glorot_uniform())(input)\n",
        "conv_5x5 = Conv2D(48, (5, 5), padding='same', activation='relu', kernel_initializer=keras.initializers.glorot_uniform())(conv_5x5)\n",
        "\n",
        "pool_proj = MaxPool2D((3, 3), strides=(1, 1), padding='same')(input)\n",
        "pool_proj = Conv2D(64, (1, 1), padding='same', activation='relu', kernel_initializer=keras.initializers.glorot_uniform())(pool_proj)\n",
        "x = concatenate([conv_1x1, conv_3x3, conv_5x5, pool_proj], axis=3) \n",
        "\n",
        "##avg pool\n",
        "\n",
        "x1 = AveragePooling2D((5, 5), strides=3)(x)\n",
        "x1 = Conv2D(128, (1, 1), padding='same', activation='relu')(x1)\n",
        "x1 = Flatten()(x1)\n",
        "#x1 = Dense(1024, activation='relu')(x1)\n",
        "x1 = Dense(2, activation='relu')(x1)\n",
        "x1 = Dropout(0.7)(x1)\n",
        "x1 = Dense(2, activation='softmax')(x1)\n",
        "\n",
        "#4b insception\n",
        "\n",
        "conv_1x1 = Conv2D(160, (1, 1), padding='same', activation='relu', kernel_initializer=keras.initializers.glorot_uniform())(input)\n",
        "conv_3x3 = Conv2D(112, (1, 1), padding='same', activation='relu', kernel_initializer=keras.initializers.glorot_uniform())(input)\n",
        "conv_3x3 = Conv2D(224, (3, 3), padding='same', activation='relu', kernel_initializer=keras.initializers.glorot_uniform())(conv_3x3)\n",
        "\n",
        "conv_5x5 = Conv2D(24, (1, 1), padding='same', activation='relu', kernel_initializer=keras.initializers.glorot_uniform())(input)\n",
        "conv_5x5 = Conv2D(64, (5, 5), padding='same', activation='relu', kernel_initializer=keras.initializers.glorot_uniform())(conv_5x5)\n",
        "\n",
        "pool_proj = MaxPool2D((3, 3), strides=(1, 1), padding='same')(input)\n",
        "pool_proj = Conv2D(64, (1, 1), padding='same', activation='relu', kernel_initializer=keras.initializers.glorot_uniform())(pool_proj)\n",
        "x = concatenate([conv_1x1, conv_3x3, conv_5x5, pool_proj], axis=3) \n",
        "\n",
        "##4c insception\n",
        "conv_1x1 = Conv2D(128, (1, 1), padding='same', activation='relu', kernel_initializer=keras.initializers.glorot_uniform())(input)\n",
        "conv_3x3 = Conv2D(128, (1, 1), padding='same', activation='relu', kernel_initializer=keras.initializers.glorot_uniform())(input)\n",
        "conv_3x3 = Conv2D(256, (3, 3), padding='same', activation='relu', kernel_initializer=keras.initializers.glorot_uniform())(conv_3x3)\n",
        "\n",
        "conv_5x5 = Conv2D(24, (1, 1), padding='same', activation='relu', kernel_initializer=keras.initializers.glorot_uniform())(input)\n",
        "conv_5x5 = Conv2D(64, (5, 5), padding='same', activation='relu', kernel_initializer=keras.initializers.glorot_uniform())(conv_5x5)\n",
        "\n",
        "pool_proj = MaxPool2D((3, 3), strides=(1, 1), padding='same')(input)\n",
        "pool_proj = Conv2D(64, (1, 1), padding='same', activation='relu', kernel_initializer=keras.initializers.glorot_uniform())(pool_proj)\n",
        "x = concatenate([conv_1x1, conv_3x3, conv_5x5, pool_proj], axis=3) \n",
        "\n",
        "##4d insception\n",
        "conv_1x1 = Conv2D(112, (1, 1), padding='same', activation='relu', kernel_initializer=keras.initializers.glorot_uniform())(input)\n",
        "conv_3x3 = Conv2D(144, (1, 1), padding='same', activation='relu', kernel_initializer=keras.initializers.glorot_uniform())(input)\n",
        "conv_3x3 = Conv2D(288, (3, 3), padding='same', activation='relu', kernel_initializer=keras.initializers.glorot_uniform())(conv_3x3)\n",
        "\n",
        "conv_5x5 = Conv2D(32, (1, 1), padding='same', activation='relu', kernel_initializer=keras.initializers.glorot_uniform())(input)\n",
        "conv_5x5 = Conv2D(64, (5, 5), padding='same', activation='relu', kernel_initializer=keras.initializers.glorot_uniform())(conv_5x5)\n",
        "\n",
        "pool_proj = MaxPool2D((3, 3), strides=(1, 1), padding='same')(input)\n",
        "pool_proj = Conv2D(64, (1, 1), padding='same', activation='relu', kernel_initializer=keras.initializers.glorot_uniform())(pool_proj)\n",
        "x = concatenate([conv_1x1, conv_3x3, conv_5x5, pool_proj], axis=3) \n",
        "\n",
        "###x2 avg pool\n",
        "x2 = AveragePooling2D((5, 5), strides=3)(x)\n",
        "x2 = Conv2D(128, (1, 1), padding='same', activation='relu')(x2)\n",
        "x2 = Flatten()(x2)\n",
        "#x2 = Dense(1024, activation='relu')(x2)\n",
        "x2 = Dense(2, activation='relu')(x2)\n",
        "x2 = Dropout(0.7)(x2)\n",
        "x2 = Dense(2, activation='softmax')(x2)\n",
        "\n",
        "##4e insception\n",
        "conv_1x1 = Conv2D(256, (1, 1), padding='same', activation='relu', kernel_initializer=keras.initializers.glorot_uniform())(input)\n",
        "conv_3x3 = Conv2D(160, (1, 1), padding='same', activation='relu', kernel_initializer=keras.initializers.glorot_uniform())(input)\n",
        "conv_3x3 = Conv2D(320, (3, 3), padding='same', activation='relu', kernel_initializer=keras.initializers.glorot_uniform())(conv_3x3)\n",
        "\n",
        "conv_5x5 = Conv2D(32, (1, 1), padding='same', activation='relu', kernel_initializer=keras.initializers.glorot_uniform())(input)\n",
        "conv_5x5 = Conv2D(128, (5, 5), padding='same', activation='relu', kernel_initializer=keras.initializers.glorot_uniform())(conv_5x5)\n",
        "\n",
        "pool_proj = MaxPool2D((3, 3), strides=(1, 1), padding='same')(input)\n",
        "pool_proj = Conv2D(128, (1, 1), padding='same', activation='relu', kernel_initializer=keras.initializers.glorot_uniform())(pool_proj)\n",
        "x = concatenate([conv_1x1, conv_3x3, conv_5x5, pool_proj], axis=3)\n",
        "\n",
        "##max poll\n",
        "x = MaxPool2D((3, 3), padding='same', strides=(2, 2))(x)\n",
        "\n",
        "##5a insception\n",
        "conv_1x1 = Conv2D(256, (1, 1), padding='same', activation='relu', kernel_initializer=keras.initializers.glorot_uniform())(input)\n",
        "conv_3x3 = Conv2D(160, (1, 1), padding='same', activation='relu', kernel_initializer=keras.initializers.glorot_uniform())(input)\n",
        "conv_3x3 = Conv2D(320, (3, 3), padding='same', activation='relu', kernel_initializer=keras.initializers.glorot_uniform())(conv_3x3)\n",
        "\n",
        "conv_5x5 = Conv2D(32, (1, 1), padding='same', activation='relu', kernel_initializer=keras.initializers.glorot_uniform())(input)\n",
        "conv_5x5 = Conv2D(128, (5, 5), padding='same', activation='relu', kernel_initializer=keras.initializers.glorot_uniform())(conv_5x5)\n",
        "\n",
        "pool_proj = MaxPool2D((3, 3), strides=(1, 1), padding='same')(input)\n",
        "pool_proj = Conv2D(128, (1, 1), padding='same', activation='relu', kernel_initializer=keras.initializers.glorot_uniform())(pool_proj)\n",
        "x = concatenate([conv_1x1, conv_3x3, conv_5x5, pool_proj], axis=3)\n",
        "\n",
        "##5b insception\n",
        "conv_1x1 = Conv2D(384, (1, 1), padding='same', activation='relu', kernel_initializer=keras.initializers.glorot_uniform())(input)\n",
        "conv_3x3 = Conv2D(192, (1, 1), padding='same', activation='relu', kernel_initializer=keras.initializers.glorot_uniform())(input)\n",
        "conv_3x3 = Conv2D(384, (3, 3), padding='same', activation='relu', kernel_initializer=keras.initializers.glorot_uniform())(conv_3x3)\n",
        "\n",
        "conv_5x5 = Conv2D(48, (1, 1), padding='same', activation='relu', kernel_initializer=keras.initializers.glorot_uniform())(input)\n",
        "conv_5x5 = Conv2D(128, (5, 5), padding='same', activation='relu', kernel_initializer=keras.initializers.glorot_uniform())(conv_5x5)\n",
        "\n",
        "pool_proj = MaxPool2D((3, 3), strides=(1, 1), padding='same')(input)\n",
        "pool_proj = Conv2D(128, (1, 1), padding='same', activation='relu', kernel_initializer=keras.initializers.glorot_uniform())(pool_proj)\n",
        "x = concatenate([conv_1x1, conv_3x3, conv_5x5, pool_proj], axis=3) \n",
        "x = GlobalAveragePooling2D()(x)\n",
        "\n",
        "x = Dropout(0.4)(x)\n",
        "\n",
        "x = Dense(2, activation='softmax',kernel_initializer =keras.initializers.glorot_uniform())(x)\n",
        "\n",
        "model = Model(input, [x, x1, x2])\n"
      ],
      "execution_count": 0,
      "outputs": []
    },
    {
      "cell_type": "code",
      "metadata": {
        "id": "5waOYaK-Pa7_",
        "colab_type": "code",
        "outputId": "9172ffb8-4e43-4061-e1e4-35c80606daad",
        "colab": {
          "base_uri": "https://localhost:8080/",
          "height": 1000
        }
      },
      "source": [
        "model.summary()"
      ],
      "execution_count": 0,
      "outputs": [
        {
          "output_type": "stream",
          "text": [
            "Model: \"model_2\"\n",
            "__________________________________________________________________________________________________\n",
            "Layer (type)                    Output Shape         Param #     Connected to                     \n",
            "==================================================================================================\n",
            "input_3 (InputLayer)            [(None, 224, 224, 3) 0                                            \n",
            "__________________________________________________________________________________________________\n",
            "conv2d_81 (Conv2D)              (None, 224, 224, 96) 384         input_3[0][0]                    \n",
            "__________________________________________________________________________________________________\n",
            "conv2d_83 (Conv2D)              (None, 224, 224, 16) 64          input_3[0][0]                    \n",
            "__________________________________________________________________________________________________\n",
            "max_pooling2d_19 (MaxPooling2D) (None, 224, 224, 3)  0           input_3[0][0]                    \n",
            "__________________________________________________________________________________________________\n",
            "conv2d_100 (Conv2D)             (None, 224, 224, 144 576         input_3[0][0]                    \n",
            "__________________________________________________________________________________________________\n",
            "conv2d_102 (Conv2D)             (None, 224, 224, 32) 128         input_3[0][0]                    \n",
            "__________________________________________________________________________________________________\n",
            "max_pooling2d_22 (MaxPooling2D) (None, 224, 224, 3)  0           input_3[0][0]                    \n",
            "__________________________________________________________________________________________________\n",
            "conv2d_80 (Conv2D)              (None, 224, 224, 192 768         input_3[0][0]                    \n",
            "__________________________________________________________________________________________________\n",
            "conv2d_82 (Conv2D)              (None, 224, 224, 208 179920      conv2d_81[0][0]                  \n",
            "__________________________________________________________________________________________________\n",
            "conv2d_84 (Conv2D)              (None, 224, 224, 48) 19248       conv2d_83[0][0]                  \n",
            "__________________________________________________________________________________________________\n",
            "conv2d_85 (Conv2D)              (None, 224, 224, 64) 256         max_pooling2d_19[0][0]           \n",
            "__________________________________________________________________________________________________\n",
            "conv2d_99 (Conv2D)              (None, 224, 224, 112 448         input_3[0][0]                    \n",
            "__________________________________________________________________________________________________\n",
            "conv2d_101 (Conv2D)             (None, 224, 224, 288 373536      conv2d_100[0][0]                 \n",
            "__________________________________________________________________________________________________\n",
            "conv2d_103 (Conv2D)             (None, 224, 224, 64) 51264       conv2d_102[0][0]                 \n",
            "__________________________________________________________________________________________________\n",
            "conv2d_104 (Conv2D)             (None, 224, 224, 64) 256         max_pooling2d_22[0][0]           \n",
            "__________________________________________________________________________________________________\n",
            "concatenate_12 (Concatenate)    (None, 224, 224, 512 0           conv2d_80[0][0]                  \n",
            "                                                                 conv2d_82[0][0]                  \n",
            "                                                                 conv2d_84[0][0]                  \n",
            "                                                                 conv2d_85[0][0]                  \n",
            "__________________________________________________________________________________________________\n",
            "concatenate_15 (Concatenate)    (None, 224, 224, 528 0           conv2d_99[0][0]                  \n",
            "                                                                 conv2d_101[0][0]                 \n",
            "                                                                 conv2d_103[0][0]                 \n",
            "                                                                 conv2d_104[0][0]                 \n",
            "__________________________________________________________________________________________________\n",
            "conv2d_119 (Conv2D)             (None, 224, 224, 192 768         input_3[0][0]                    \n",
            "__________________________________________________________________________________________________\n",
            "conv2d_121 (Conv2D)             (None, 224, 224, 48) 192         input_3[0][0]                    \n",
            "__________________________________________________________________________________________________\n",
            "max_pooling2d_26 (MaxPooling2D) (None, 224, 224, 3)  0           input_3[0][0]                    \n",
            "__________________________________________________________________________________________________\n",
            "average_pooling2d_3 (AveragePoo (None, 74, 74, 512)  0           concatenate_12[0][0]             \n",
            "__________________________________________________________________________________________________\n",
            "average_pooling2d_4 (AveragePoo (None, 74, 74, 528)  0           concatenate_15[0][0]             \n",
            "__________________________________________________________________________________________________\n",
            "conv2d_118 (Conv2D)             (None, 224, 224, 384 1536        input_3[0][0]                    \n",
            "__________________________________________________________________________________________________\n",
            "conv2d_120 (Conv2D)             (None, 224, 224, 384 663936      conv2d_119[0][0]                 \n",
            "__________________________________________________________________________________________________\n",
            "conv2d_122 (Conv2D)             (None, 224, 224, 128 153728      conv2d_121[0][0]                 \n",
            "__________________________________________________________________________________________________\n",
            "conv2d_123 (Conv2D)             (None, 224, 224, 128 512         max_pooling2d_26[0][0]           \n",
            "__________________________________________________________________________________________________\n",
            "conv2d_86 (Conv2D)              (None, 74, 74, 128)  65664       average_pooling2d_3[0][0]        \n",
            "__________________________________________________________________________________________________\n",
            "conv2d_105 (Conv2D)             (None, 74, 74, 128)  67712       average_pooling2d_4[0][0]        \n",
            "__________________________________________________________________________________________________\n",
            "concatenate_18 (Concatenate)    (None, 224, 224, 102 0           conv2d_118[0][0]                 \n",
            "                                                                 conv2d_120[0][0]                 \n",
            "                                                                 conv2d_122[0][0]                 \n",
            "                                                                 conv2d_123[0][0]                 \n",
            "__________________________________________________________________________________________________\n",
            "flatten_3 (Flatten)             (None, 700928)       0           conv2d_86[0][0]                  \n",
            "__________________________________________________________________________________________________\n",
            "flatten_4 (Flatten)             (None, 700928)       0           conv2d_105[0][0]                 \n",
            "__________________________________________________________________________________________________\n",
            "global_average_pooling2d_1 (Glo (None, 1024)         0           concatenate_18[0][0]             \n",
            "__________________________________________________________________________________________________\n",
            "dense_6 (Dense)                 (None, 2)            1401858     flatten_3[0][0]                  \n",
            "__________________________________________________________________________________________________\n",
            "dense_8 (Dense)                 (None, 2)            1401858     flatten_4[0][0]                  \n",
            "__________________________________________________________________________________________________\n",
            "dropout_5 (Dropout)             (None, 1024)         0           global_average_pooling2d_1[0][0] \n",
            "__________________________________________________________________________________________________\n",
            "dropout_3 (Dropout)             (None, 2)            0           dense_6[0][0]                    \n",
            "__________________________________________________________________________________________________\n",
            "dropout_4 (Dropout)             (None, 2)            0           dense_8[0][0]                    \n",
            "__________________________________________________________________________________________________\n",
            "dense_10 (Dense)                (None, 2)            2050        dropout_5[0][0]                  \n",
            "__________________________________________________________________________________________________\n",
            "dense_7 (Dense)                 (None, 2)            6           dropout_3[0][0]                  \n",
            "__________________________________________________________________________________________________\n",
            "dense_9 (Dense)                 (None, 2)            6           dropout_4[0][0]                  \n",
            "==================================================================================================\n",
            "Total params: 4,386,674\n",
            "Trainable params: 4,386,674\n",
            "Non-trainable params: 0\n",
            "__________________________________________________________________________________________________\n"
          ],
          "name": "stdout"
        }
      ]
    },
    {
      "cell_type": "code",
      "metadata": {
        "id": "yuyBBULaPbAp",
        "colab_type": "code",
        "colab": {}
      },
      "source": [
        ""
      ],
      "execution_count": 0,
      "outputs": []
    },
    {
      "cell_type": "code",
      "metadata": {
        "id": "cR8FQ5ygPbCX",
        "colab_type": "code",
        "colab": {}
      },
      "source": [
        ""
      ],
      "execution_count": 0,
      "outputs": []
    },
    {
      "cell_type": "code",
      "metadata": {
        "id": "VzN9QQW4PbG0",
        "colab_type": "code",
        "colab": {}
      },
      "source": [
        ""
      ],
      "execution_count": 0,
      "outputs": []
    },
    {
      "cell_type": "code",
      "metadata": {
        "id": "YMgnSdaKPa6x",
        "colab_type": "code",
        "colab": {}
      },
      "source": [
        ""
      ],
      "execution_count": 0,
      "outputs": []
    },
    {
      "cell_type": "code",
      "metadata": {
        "id": "1ShU8zBRPa0r",
        "colab_type": "code",
        "colab": {}
      },
      "source": [
        ""
      ],
      "execution_count": 0,
      "outputs": []
    }
  ]
}