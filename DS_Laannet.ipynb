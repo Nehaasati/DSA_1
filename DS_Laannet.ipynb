{
  "nbformat": 4,
  "nbformat_minor": 0,
  "metadata": {
    "colab": {
      "name": "DS_Laannet",
      "provenance": [],
      "authorship_tag": "ABX9TyOL/0HY6GrRS727nrgnuQq/",
      "include_colab_link": true
    },
    "kernelspec": {
      "name": "python3",
      "display_name": "Python 3"
    },
    "accelerator": "GPU"
  },
  "cells": [
    {
      "cell_type": "markdown",
      "metadata": {
        "id": "view-in-github",
        "colab_type": "text"
      },
      "source": [
        "<a href=\"https://colab.research.google.com/github/Nehaasati/DSA_1/blob/master/DS_Laannet.ipynb\" target=\"_parent\"><img src=\"https://colab.research.google.com/assets/colab-badge.svg\" alt=\"Open In Colab\"/></a>"
      ]
    },
    {
      "cell_type": "code",
      "metadata": {
        "id": "tiWDXUcDC7OC",
        "colab_type": "code",
        "colab": {}
      },
      "source": [
        "import pandas as pd\n",
        "import numpy as np"
      ],
      "execution_count": 1,
      "outputs": []
    },
    {
      "cell_type": "code",
      "metadata": {
        "id": "PdLIr1Wbk-Ck",
        "colab_type": "code",
        "colab": {
          "base_uri": "https://localhost:8080/",
          "height": 1000
        },
        "outputId": "8ced1bee-ab37-4af7-c568-6530ac7ac5f4"
      },
      "source": [
        "df = pd.DataFrame(columns=[\"one\", \"two\",\"third\"])\n",
        "\n",
        "df.one = [\"2020-01-24\",\"2020-01-27\",\"24-07-2020\",\"2020-07-12\",\"12-02-2020\",\"AAAA\",\"31-02-2012\",\"XY-ZA-AA\",\"04-15-1988\",\"MAY-21-1919\"]\n",
        "df1 = pd.to_datetime(df['one'], errors='coerce')##Check input value are in date formate or not. if it's not in date formate as sign it's AS Nan\n",
        "print(df1)#print and check \n",
        "df1.one = df1.dropna()##drop those data which is not in date format\n",
        "print(df1.one)\n",
        "df.two = [\"2020-01-28\", \"2020-01-29\",\"12-09-2020\",\"2021-01-11\",\"13-07-2021\",\"AA-AA-YYY\",\"DEC-31-1820\",\"21-11-1890\",\"JUN-10-1888\",\"aaaa\"]\n",
        "df2=pd.to_datetime(df['two'], errors='coerce')###Check input value are in date formate or not. if it's not in date formate as sign it's AS Nan\n",
        "print(df2)\n",
        "df2.two = df2.dropna()#drop those data which is not in date format\n",
        "print(df2.two)\n",
        "df.third =[\"2020-01-10\",\"2021-02-24\",\"10-09-2020\",\"2021-02-11\",\"12-02-2011\",\"aa-YY-MM\",\"01-JUN-1999\",\"MAY-1817-23\",\"JULY-22-1990\",\"11-aa-11\"]\n",
        "df3=pd.to_datetime(df['third'], errors='coerce')#Check input value are in date formate or not. if it's not in date formate as sign it's AS Nan\n",
        "print(df3)\n",
        "df3.third = df1.dropna()#drop those data which is not in date format\n",
        "print(df3.third)\n",
        "\n",
        "\n",
        "difference = (df2.two - df1.one)##(difference between first two data set)\n",
        "difference1=(df3.third-df2.two)#difference between third and  two data set)\n",
        "difference2=(df3.third-df1.one)#difference between third and first data set)\n",
        "print(difference)\n",
        "print(difference1)\n",
        "print(difference2)"
      ],
      "execution_count": 2,
      "outputs": [
        {
          "output_type": "stream",
          "text": [
            "0   2020-01-24\n",
            "1   2020-01-27\n",
            "2   2020-07-24\n",
            "3   2020-07-12\n",
            "4   2020-12-02\n",
            "5          NaT\n",
            "6          NaT\n",
            "7          NaT\n",
            "8   1988-04-15\n",
            "9   1919-05-21\n",
            "Name: one, dtype: datetime64[ns]\n",
            "0   2020-01-24\n",
            "1   2020-01-27\n",
            "2   2020-07-24\n",
            "3   2020-07-12\n",
            "4   2020-12-02\n",
            "8   1988-04-15\n",
            "9   1919-05-21\n",
            "Name: one, dtype: datetime64[ns]\n",
            "0   2020-01-28\n",
            "1   2020-01-29\n",
            "2   2020-12-09\n",
            "3   2021-01-11\n",
            "4   2021-07-13\n",
            "5          NaT\n",
            "6   1820-12-31\n",
            "7   1890-11-21\n",
            "8   1888-06-10\n",
            "9          NaT\n",
            "Name: two, dtype: datetime64[ns]\n",
            "0   2020-01-28\n",
            "1   2020-01-29\n",
            "2   2020-12-09\n",
            "3   2021-01-11\n",
            "4   2021-07-13\n",
            "6   1820-12-31\n",
            "7   1890-11-21\n",
            "8   1888-06-10\n",
            "Name: two, dtype: datetime64[ns]\n",
            "0   2020-01-10\n",
            "1   2021-02-24\n",
            "2   2020-10-09\n",
            "3   2021-02-11\n",
            "4   2011-12-02\n",
            "5          NaT\n",
            "6   1999-06-01\n",
            "7   1817-05-23\n",
            "8   1990-07-22\n",
            "9          NaT\n",
            "Name: third, dtype: datetime64[ns]\n",
            "0   2020-01-24\n",
            "1   2020-01-27\n",
            "2   2020-07-24\n",
            "3   2020-07-12\n",
            "4   2020-12-02\n",
            "8   1988-04-15\n",
            "9   1919-05-21\n",
            "Name: one, dtype: datetime64[ns]\n",
            "0        4 days\n",
            "1        2 days\n",
            "2      138 days\n",
            "3      183 days\n",
            "4      223 days\n",
            "6           NaT\n",
            "7           NaT\n",
            "8   -36468 days\n",
            "9           NaT\n",
            "dtype: timedelta64[ns]\n",
            "0      -4 days\n",
            "1      -2 days\n",
            "2    -138 days\n",
            "3    -183 days\n",
            "4    -223 days\n",
            "6          NaT\n",
            "7          NaT\n",
            "8   36468 days\n",
            "9          NaT\n",
            "dtype: timedelta64[ns]\n",
            "0   0 days\n",
            "1   0 days\n",
            "2   0 days\n",
            "3   0 days\n",
            "4   0 days\n",
            "8   0 days\n",
            "9   0 days\n",
            "Name: one, dtype: timedelta64[ns]\n"
          ],
          "name": "stdout"
        }
      ]
    },
    {
      "cell_type": "code",
      "metadata": {
        "id": "jFeMJFgqhMGc",
        "colab_type": "code",
        "colab": {}
      },
      "source": [
        "from numpy.random import randn\n",
        "from numpy.random import seed\n",
        "from scipy.stats import pearsonr\n",
        "# seed random number generator\n",
        "seed(1)\n",
        "import pandas as pd\n",
        "import numpy as np\n",
        "df = pd.DataFrame(columns=[\"data1\", \"data2\",\"data3\",\"data4\",\"data5\",\"data6\",\"data7\",\"data8\",\"data9\",\"data10\"])\n",
        "# prepare data\n",
        "df.data1 = 20 * randn(1000) + 100\n",
        "df.data2 = df.data1 + (10 * randn(1000) + 50)\n",
        "df.data3 = df.data2+(30* randn(1000)+30)\n",
        "df.data4 = df.data1+(20*randn(1000)+90)              \n",
        "df.data5 =  df.data3+(10*randn(1000)+80)\n",
        "df.data6 = df.data1+(20*randn(1000)+30)\n",
        "df.data7 = df.data4+(30*randn(1000)+70)\n",
        "df.data8 = df.data5+(10*randn(1000)+40)\n",
        "df.data9 = df.data6+(20*randn(1000)+30) \n",
        "df.data10 = df.data7+(30*randn(1000)+60)\n"
      ],
      "execution_count": 2,
      "outputs": []
    },
    {
      "cell_type": "code",
      "metadata": {
        "id": "JkMyA_dOrBxH",
        "colab_type": "code",
        "colab": {
          "base_uri": "https://localhost:8080/",
          "height": 206
        },
        "outputId": "9a5d4b7d-c3f1-411f-936c-d30f70baed86"
      },
      "source": [
        "df.head()"
      ],
      "execution_count": 3,
      "outputs": [
        {
          "output_type": "execute_result",
          "data": {
            "text/html": [
              "<div>\n",
              "<style scoped>\n",
              "    .dataframe tbody tr th:only-of-type {\n",
              "        vertical-align: middle;\n",
              "    }\n",
              "\n",
              "    .dataframe tbody tr th {\n",
              "        vertical-align: top;\n",
              "    }\n",
              "\n",
              "    .dataframe thead th {\n",
              "        text-align: right;\n",
              "    }\n",
              "</style>\n",
              "<table border=\"1\" class=\"dataframe\">\n",
              "  <thead>\n",
              "    <tr style=\"text-align: right;\">\n",
              "      <th></th>\n",
              "      <th>data1</th>\n",
              "      <th>data2</th>\n",
              "      <th>data3</th>\n",
              "      <th>data4</th>\n",
              "      <th>data5</th>\n",
              "      <th>data6</th>\n",
              "      <th>data7</th>\n",
              "      <th>data8</th>\n",
              "      <th>data9</th>\n",
              "      <th>data10</th>\n",
              "    </tr>\n",
              "  </thead>\n",
              "  <tbody>\n",
              "    <tr>\n",
              "      <th>0</th>\n",
              "      <td>132.486907</td>\n",
              "      <td>180.954546</td>\n",
              "      <td>225.640044</td>\n",
              "      <td>220.944768</td>\n",
              "      <td>304.236334</td>\n",
              "      <td>143.991802</td>\n",
              "      <td>205.412682</td>\n",
              "      <td>353.437120</td>\n",
              "      <td>129.606678</td>\n",
              "      <td>284.433444</td>\n",
              "    </tr>\n",
              "    <tr>\n",
              "      <th>1</th>\n",
              "      <td>87.764872</td>\n",
              "      <td>113.439787</td>\n",
              "      <td>150.603662</td>\n",
              "      <td>181.921377</td>\n",
              "      <td>232.020079</td>\n",
              "      <td>140.342670</td>\n",
              "      <td>276.615080</td>\n",
              "      <td>272.201071</td>\n",
              "      <td>145.662926</td>\n",
              "      <td>358.005120</td>\n",
              "    </tr>\n",
              "    <tr>\n",
              "      <th>2</th>\n",
              "      <td>89.436565</td>\n",
              "      <td>144.516408</td>\n",
              "      <td>161.073054</td>\n",
              "      <td>199.160484</td>\n",
              "      <td>244.192740</td>\n",
              "      <td>96.860740</td>\n",
              "      <td>260.918175</td>\n",
              "      <td>298.951431</td>\n",
              "      <td>163.429653</td>\n",
              "      <td>306.418599</td>\n",
              "    </tr>\n",
              "    <tr>\n",
              "      <th>3</th>\n",
              "      <td>78.540628</td>\n",
              "      <td>125.300304</td>\n",
              "      <td>136.976454</td>\n",
              "      <td>197.195756</td>\n",
              "      <td>224.667306</td>\n",
              "      <td>94.045875</td>\n",
              "      <td>246.552714</td>\n",
              "      <td>268.399292</td>\n",
              "      <td>97.357354</td>\n",
              "      <td>248.888195</td>\n",
              "    </tr>\n",
              "    <tr>\n",
              "      <th>4</th>\n",
              "      <td>117.308153</td>\n",
              "      <td>152.197387</td>\n",
              "      <td>121.299034</td>\n",
              "      <td>217.873323</td>\n",
              "      <td>207.141892</td>\n",
              "      <td>159.779577</td>\n",
              "      <td>321.475748</td>\n",
              "      <td>260.093724</td>\n",
              "      <td>201.931147</td>\n",
              "      <td>358.635630</td>\n",
              "    </tr>\n",
              "  </tbody>\n",
              "</table>\n",
              "</div>"
            ],
            "text/plain": [
              "        data1       data2       data3  ...       data8       data9      data10\n",
              "0  132.486907  180.954546  225.640044  ...  353.437120  129.606678  284.433444\n",
              "1   87.764872  113.439787  150.603662  ...  272.201071  145.662926  358.005120\n",
              "2   89.436565  144.516408  161.073054  ...  298.951431  163.429653  306.418599\n",
              "3   78.540628  125.300304  136.976454  ...  268.399292   97.357354  248.888195\n",
              "4  117.308153  152.197387  121.299034  ...  260.093724  201.931147  358.635630\n",
              "\n",
              "[5 rows x 10 columns]"
            ]
          },
          "metadata": {
            "tags": []
          },
          "execution_count": 3
        }
      ]
    },
    {
      "cell_type": "code",
      "metadata": {
        "id": "wbOL04KKhMIu",
        "colab_type": "code",
        "colab": {
          "base_uri": "https://localhost:8080/",
          "height": 36
        },
        "outputId": "1b23abb0-4667-4813-ba11-b620c745fe1e"
      },
      "source": [
        "# calculate Pearson's correlation\n",
        "corr, _ = pearsonr(df.data1,df.data2)\n",
        "print('Pearsons correlation: %.3f' % corr)"
      ],
      "execution_count": 4,
      "outputs": [
        {
          "output_type": "stream",
          "text": [
            "Pearsons correlation: 0.888\n"
          ],
          "name": "stdout"
        }
      ]
    },
    {
      "cell_type": "code",
      "metadata": {
        "id": "lH0X-bsahMNm",
        "colab_type": "code",
        "colab": {
          "base_uri": "https://localhost:8080/",
          "height": 247
        },
        "outputId": "c4192efa-26e8-4220-a820-424fa4c36076"
      },
      "source": [
        "# Create correlation matrix\n",
        "corr_matrix = df.corr(method = 'pearson')\n",
        "print((corr_matrix).values())\n",
        "#print(corr_matrix.sort_values('data1', ascending=False))\n",
        "temp = df.drop(max(corr_matrix), axis=1)\n",
        "#temp.head()\n",
        "# Select upper triangle of correlation matrix\n",
        "#upper = corr_matrix.where(np.triu(np.ones(corr_matrix.shape), k=1).astype(np.bool))\n",
        "\n",
        "# Find index of feature columns with correlation greater than 0.85\n",
        "#to_drop = [column for column in upper.columns if any(upper[column] > 0.85)]\n",
        "# Drop features \n",
        "#df.drop(df[to_drop], axis=1)"
      ],
      "execution_count": 44,
      "outputs": [
        {
          "output_type": "error",
          "ename": "TypeError",
          "evalue": "ignored",
          "traceback": [
            "\u001b[0;31m---------------------------------------------------------------------------\u001b[0m",
            "\u001b[0;31mTypeError\u001b[0m                                 Traceback (most recent call last)",
            "\u001b[0;32m<ipython-input-44-ce5f8ac2d39d>\u001b[0m in \u001b[0;36m<module>\u001b[0;34m()\u001b[0m\n\u001b[1;32m      1\u001b[0m \u001b[0;31m# Create correlation matrix\u001b[0m\u001b[0;34m\u001b[0m\u001b[0;34m\u001b[0m\u001b[0;34m\u001b[0m\u001b[0m\n\u001b[1;32m      2\u001b[0m \u001b[0mcorr_matrix\u001b[0m \u001b[0;34m=\u001b[0m \u001b[0mdf\u001b[0m\u001b[0;34m.\u001b[0m\u001b[0mcorr\u001b[0m\u001b[0;34m(\u001b[0m\u001b[0mmethod\u001b[0m \u001b[0;34m=\u001b[0m \u001b[0;34m'pearson'\u001b[0m\u001b[0;34m)\u001b[0m\u001b[0;34m\u001b[0m\u001b[0;34m\u001b[0m\u001b[0m\n\u001b[0;32m----> 3\u001b[0;31m \u001b[0mprint\u001b[0m\u001b[0;34m(\u001b[0m\u001b[0;34m(\u001b[0m\u001b[0mcorr_matrix\u001b[0m\u001b[0;34m)\u001b[0m\u001b[0;34m.\u001b[0m\u001b[0mvalues\u001b[0m\u001b[0;34m(\u001b[0m\u001b[0;34m)\u001b[0m\u001b[0;34m)\u001b[0m\u001b[0;34m\u001b[0m\u001b[0;34m\u001b[0m\u001b[0m\n\u001b[0m\u001b[1;32m      4\u001b[0m \u001b[0;31m#print(corr_matrix.sort_values('data1', ascending=False))\u001b[0m\u001b[0;34m\u001b[0m\u001b[0;34m\u001b[0m\u001b[0;34m\u001b[0m\u001b[0m\n\u001b[1;32m      5\u001b[0m \u001b[0mtemp\u001b[0m \u001b[0;34m=\u001b[0m \u001b[0mdf\u001b[0m\u001b[0;34m.\u001b[0m\u001b[0mdrop\u001b[0m\u001b[0;34m(\u001b[0m\u001b[0mmax\u001b[0m\u001b[0;34m(\u001b[0m\u001b[0mcorr_matrix\u001b[0m\u001b[0;34m)\u001b[0m\u001b[0;34m,\u001b[0m \u001b[0maxis\u001b[0m\u001b[0;34m=\u001b[0m\u001b[0;36m1\u001b[0m\u001b[0;34m)\u001b[0m\u001b[0;34m\u001b[0m\u001b[0;34m\u001b[0m\u001b[0m\n",
            "\u001b[0;31mTypeError\u001b[0m: 'numpy.ndarray' object is not callable"
          ]
        }
      ]
    },
    {
      "cell_type": "code",
      "metadata": {
        "id": "mm26whMnm-OV",
        "colab_type": "code",
        "colab": {
          "base_uri": "https://localhost:8080/",
          "height": 204
        },
        "outputId": "d16bbe8f-651f-4567-cd40-27485e8cb4c8"
      },
      "source": [
        "def get_redundant_pairs(df):\n",
        "    '''Get diagonal and lower triangular pairs of correlation matrix'''\n",
        "    pairs_to_drop = set()\n",
        "    cols = df.columns\n",
        "    for i in range(0, df.shape[1]):\n",
        "        for j in range(0, i+1):\n",
        "            pairs_to_drop.add((cols[i], cols[j]))\n",
        "    return pairs_to_drop\n",
        "\n",
        "def get_top_abs_correlations(df, n):\n",
        "    temp_col_list = []\n",
        "    au_corr = df.corr().abs().unstack()\n",
        "    labels_to_drop = get_redundant_pairs(df)\n",
        "    temp_col_list = [item for t in labels_to_drop for item in t]\n",
        "    print(labels_to_drop)\n",
        "    print(len(temp_col_list))\n",
        "    au_corr = au_corr.drop(labels=labels_to_drop).sort_values(ascending=False)\n",
        "    #print(au_corr[1])\n",
        "    return au_corr[0:n]\n",
        "\n",
        "print(\"Top Absolute Correlations\")\n",
        "print(get_top_abs_correlations(df, 5))"
      ],
      "execution_count": 28,
      "outputs": [
        {
          "output_type": "stream",
          "text": [
            "Top Absolute Correlations\n",
            "{('data7', 'data3'), ('data9', 'data4'), ('data10', 'data4'), ('data7', 'data4'), ('data4', 'data4'), ('data5', 'data1'), ('data9', 'data3'), ('data8', 'data7'), ('data8', 'data6'), ('data9', 'data9'), ('data10', 'data3'), ('data10', 'data9'), ('data10', 'data10'), ('data10', 'data1'), ('data10', 'data6'), ('data8', 'data8'), ('data4', 'data1'), ('data2', 'data2'), ('data3', 'data2'), ('data8', 'data4'), ('data5', 'data2'), ('data9', 'data5'), ('data10', 'data8'), ('data6', 'data2'), ('data6', 'data3'), ('data8', 'data5'), ('data9', 'data2'), ('data6', 'data5'), ('data8', 'data3'), ('data6', 'data4'), ('data7', 'data2'), ('data3', 'data3'), ('data7', 'data5'), ('data8', 'data1'), ('data4', 'data2'), ('data2', 'data1'), ('data3', 'data1'), ('data10', 'data7'), ('data9', 'data6'), ('data9', 'data7'), ('data9', 'data1'), ('data6', 'data1'), ('data7', 'data7'), ('data6', 'data6'), ('data5', 'data4'), ('data1', 'data1'), ('data8', 'data2'), ('data7', 'data6'), ('data9', 'data8'), ('data7', 'data1'), ('data4', 'data3'), ('data10', 'data5'), ('data5', 'data5'), ('data10', 'data2'), ('data5', 'data3')}\n",
            "110\n",
            "data5  data8     0.965438\n",
            "data3  data5     0.961241\n",
            "       data8     0.926834\n",
            "data1  data2     0.887612\n",
            "data7  data10    0.815160\n",
            "dtype: float64\n"
          ],
          "name": "stdout"
        }
      ]
    },
    {
      "cell_type": "code",
      "metadata": {
        "id": "wRlvlWJ5m-Su",
        "colab_type": "code",
        "colab": {}
      },
      "source": [
        "import pandas as pd\n",
        "import numpy as np\n",
        "\n",
        "def find_correlation(data, threshold=0.85, remove_negative=True):\n",
        "    \"\"\"\n",
        "    Given a numeric pd.DataFrame, this will find highly correlated features,\n",
        "    and return a list of features to remove.\n",
        "    Parameters\n",
        "    -----------\n",
        "    data : pandas DataFrame\n",
        "        DataFrame\n",
        "    threshold : float\n",
        "        correlation threshold, will remove one of pairs of features with a\n",
        "        correlation greater than this value.\n",
        "    remove_negative: Boolean\n",
        "        If true then features which are highly negatively correlated will\n",
        "        also be returned for removal.\n",
        "    Returns\n",
        "    --------\n",
        "    select_flat : list\n",
        "        listof column names to be removed\n",
        "    \"\"\"\n",
        "    corr_mat = data.corr()\n",
        "    if remove_negative:\n",
        "        corr_mat = np.abs(corr_mat)\n",
        "    corr_mat.loc[:, :] = np.tril(corr_mat, k=-1)\n",
        "    already_in = set()\n",
        "    result = []\n",
        "    for col in corr_mat:\n",
        "        perfect_corr = corr_mat[col][corr_mat[col] > threshold].index.tolist()\n",
        "        if perfect_corr and col not in already_in:\n",
        "            already_in.update(set(perfect_corr))\n",
        "            perfect_corr.append(col)\n",
        "            result.append(perfect_corr)\n",
        "    select_nested = [f[1:] for f in result]\n",
        "    select_flat = [i for j in select_nested for i in j]\n",
        "    return select_flat"
      ],
      "execution_count": 50,
      "outputs": []
    },
    {
      "cell_type": "code",
      "metadata": {
        "id": "nxVHaQ8nm-Xq",
        "colab_type": "code",
        "colab": {
          "base_uri": "https://localhost:8080/",
          "height": 224
        },
        "outputId": "9a2f4d67-bf09-4f1c-9bfd-756ded993b07"
      },
      "source": [
        "print(find_correlation(df))\n",
        "temp = df.drop(find_correlation(df), axis=1)\n",
        "temp.head()"
      ],
      "execution_count": 52,
      "outputs": [
        {
          "output_type": "stream",
          "text": [
            "['data1', 'data8', 'data3']\n"
          ],
          "name": "stdout"
        },
        {
          "output_type": "execute_result",
          "data": {
            "text/html": [
              "<div>\n",
              "<style scoped>\n",
              "    .dataframe tbody tr th:only-of-type {\n",
              "        vertical-align: middle;\n",
              "    }\n",
              "\n",
              "    .dataframe tbody tr th {\n",
              "        vertical-align: top;\n",
              "    }\n",
              "\n",
              "    .dataframe thead th {\n",
              "        text-align: right;\n",
              "    }\n",
              "</style>\n",
              "<table border=\"1\" class=\"dataframe\">\n",
              "  <thead>\n",
              "    <tr style=\"text-align: right;\">\n",
              "      <th></th>\n",
              "      <th>data2</th>\n",
              "      <th>data4</th>\n",
              "      <th>data5</th>\n",
              "      <th>data6</th>\n",
              "      <th>data7</th>\n",
              "      <th>data9</th>\n",
              "      <th>data10</th>\n",
              "    </tr>\n",
              "  </thead>\n",
              "  <tbody>\n",
              "    <tr>\n",
              "      <th>0</th>\n",
              "      <td>180.954546</td>\n",
              "      <td>220.944768</td>\n",
              "      <td>304.236334</td>\n",
              "      <td>143.991802</td>\n",
              "      <td>205.412682</td>\n",
              "      <td>129.606678</td>\n",
              "      <td>284.433444</td>\n",
              "    </tr>\n",
              "    <tr>\n",
              "      <th>1</th>\n",
              "      <td>113.439787</td>\n",
              "      <td>181.921377</td>\n",
              "      <td>232.020079</td>\n",
              "      <td>140.342670</td>\n",
              "      <td>276.615080</td>\n",
              "      <td>145.662926</td>\n",
              "      <td>358.005120</td>\n",
              "    </tr>\n",
              "    <tr>\n",
              "      <th>2</th>\n",
              "      <td>144.516408</td>\n",
              "      <td>199.160484</td>\n",
              "      <td>244.192740</td>\n",
              "      <td>96.860740</td>\n",
              "      <td>260.918175</td>\n",
              "      <td>163.429653</td>\n",
              "      <td>306.418599</td>\n",
              "    </tr>\n",
              "    <tr>\n",
              "      <th>3</th>\n",
              "      <td>125.300304</td>\n",
              "      <td>197.195756</td>\n",
              "      <td>224.667306</td>\n",
              "      <td>94.045875</td>\n",
              "      <td>246.552714</td>\n",
              "      <td>97.357354</td>\n",
              "      <td>248.888195</td>\n",
              "    </tr>\n",
              "    <tr>\n",
              "      <th>4</th>\n",
              "      <td>152.197387</td>\n",
              "      <td>217.873323</td>\n",
              "      <td>207.141892</td>\n",
              "      <td>159.779577</td>\n",
              "      <td>321.475748</td>\n",
              "      <td>201.931147</td>\n",
              "      <td>358.635630</td>\n",
              "    </tr>\n",
              "  </tbody>\n",
              "</table>\n",
              "</div>"
            ],
            "text/plain": [
              "        data2       data4       data5  ...       data7       data9      data10\n",
              "0  180.954546  220.944768  304.236334  ...  205.412682  129.606678  284.433444\n",
              "1  113.439787  181.921377  232.020079  ...  276.615080  145.662926  358.005120\n",
              "2  144.516408  199.160484  244.192740  ...  260.918175  163.429653  306.418599\n",
              "3  125.300304  197.195756  224.667306  ...  246.552714   97.357354  248.888195\n",
              "4  152.197387  217.873323  207.141892  ...  321.475748  201.931147  358.635630\n",
              "\n",
              "[5 rows x 7 columns]"
            ]
          },
          "metadata": {
            "tags": []
          },
          "execution_count": 52
        }
      ]
    },
    {
      "cell_type": "code",
      "metadata": {
        "id": "W86Jrfyym-Vz",
        "colab_type": "code",
        "colab": {}
      },
      "source": [
        ""
      ],
      "execution_count": null,
      "outputs": []
    },
    {
      "cell_type": "code",
      "metadata": {
        "id": "BYgTjKtKm-RQ",
        "colab_type": "code",
        "colab": {}
      },
      "source": [
        ""
      ],
      "execution_count": null,
      "outputs": []
    },
    {
      "cell_type": "code",
      "metadata": {
        "id": "QWaarXDmm-Lx",
        "colab_type": "code",
        "colab": {}
      },
      "source": [
        ""
      ],
      "execution_count": null,
      "outputs": []
    },
    {
      "cell_type": "code",
      "metadata": {
        "id": "fNbYR6DIhMRb",
        "colab_type": "code",
        "colab": {}
      },
      "source": [
        ""
      ],
      "execution_count": null,
      "outputs": []
    },
    {
      "cell_type": "code",
      "metadata": {
        "id": "WKzVprhThMMR",
        "colab_type": "code",
        "colab": {}
      },
      "source": [
        ""
      ],
      "execution_count": null,
      "outputs": []
    },
    {
      "cell_type": "code",
      "metadata": {
        "id": "obodqbKXnhD1",
        "colab_type": "code",
        "colab": {}
      },
      "source": [
        ""
      ],
      "execution_count": null,
      "outputs": []
    }
  ]
}