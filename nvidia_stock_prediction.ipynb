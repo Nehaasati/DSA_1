{
  "nbformat": 4,
  "nbformat_minor": 0,
  "metadata": {
    "colab": {
      "name": "nvidia_stock_prediction.ipynb",
      "provenance": [],
      "authorship_tag": "ABX9TyNfzw35mTclBE3fXFEqqw8x",
      "include_colab_link": true
    },
    "kernelspec": {
      "name": "python3",
      "display_name": "Python 3"
    }
  },
  "cells": [
    {
      "cell_type": "markdown",
      "metadata": {
        "id": "view-in-github",
        "colab_type": "text"
      },
      "source": [
        "<a href=\"https://colab.research.google.com/github/Nehaasati/DSA_1/blob/master/nvidia_stock_prediction.ipynb\" target=\"_parent\"><img src=\"https://colab.research.google.com/assets/colab-badge.svg\" alt=\"Open In Colab\"/></a>"
      ]
    },
    {
      "cell_type": "code",
      "metadata": {
        "id": "whKhJd_BWA03",
        "colab_type": "code",
        "colab": {
          "base_uri": "https://localhost:8080/",
          "height": 74
        },
        "outputId": "8f005f56-761f-40bb-a08a-cb646f4b678b"
      },
      "source": [
        "import pandas_datareader as pdr"
      ],
      "execution_count": 2,
      "outputs": [
        {
          "output_type": "stream",
          "text": [
            "/usr/local/lib/python3.6/dist-packages/pandas_datareader/compat/__init__.py:7: FutureWarning: pandas.util.testing is deprecated. Use the functions in the public API at pandas.testing instead.\n",
            "  from pandas.util.testing import assert_frame_equal\n"
          ],
          "name": "stderr"
        }
      ]
    },
    {
      "cell_type": "code",
      "metadata": {
        "id": "bKXu62fcWhNi",
        "colab_type": "code",
        "colab": {}
      },
      "source": [
        "import pandas as pd\n",
        "import numpy as np"
      ],
      "execution_count": 3,
      "outputs": []
    },
    {
      "cell_type": "code",
      "metadata": {
        "id": "qDyoHFskWhW7",
        "colab_type": "code",
        "colab": {}
      },
      "source": [
        "df = pdr.get_data_tiingo('NVDA',api_key='1d1852f7fa02418ebafded4292f4079883c8405d')\n"
      ],
      "execution_count": 4,
      "outputs": []
    },
    {
      "cell_type": "code",
      "metadata": {
        "id": "dQk3iTDFMUIp",
        "colab_type": "code",
        "colab": {}
      },
      "source": [
        "df.to_csv('NVDA.csv')"
      ],
      "execution_count": 5,
      "outputs": []
    },
    {
      "cell_type": "code",
      "metadata": {
        "id": "naNfcWtCMUYq",
        "colab_type": "code",
        "colab": {}
      },
      "source": [
        "df=pd.read_csv('NVDA.csv')"
      ],
      "execution_count": 6,
      "outputs": []
    },
    {
      "cell_type": "code",
      "metadata": {
        "id": "7FKeVNP2Whhx",
        "colab_type": "code",
        "colab": {
          "base_uri": "https://localhost:8080/",
          "height": 206
        },
        "outputId": "950dd7f2-5e36-4e71-f1d9-76298c7ae9cc"
      },
      "source": [
        "df.head()"
      ],
      "execution_count": 7,
      "outputs": [
        {
          "output_type": "execute_result",
          "data": {
            "text/html": [
              "<div>\n",
              "<style scoped>\n",
              "    .dataframe tbody tr th:only-of-type {\n",
              "        vertical-align: middle;\n",
              "    }\n",
              "\n",
              "    .dataframe tbody tr th {\n",
              "        vertical-align: top;\n",
              "    }\n",
              "\n",
              "    .dataframe thead th {\n",
              "        text-align: right;\n",
              "    }\n",
              "</style>\n",
              "<table border=\"1\" class=\"dataframe\">\n",
              "  <thead>\n",
              "    <tr style=\"text-align: right;\">\n",
              "      <th></th>\n",
              "      <th>symbol</th>\n",
              "      <th>date</th>\n",
              "      <th>close</th>\n",
              "      <th>high</th>\n",
              "      <th>low</th>\n",
              "      <th>open</th>\n",
              "      <th>volume</th>\n",
              "      <th>adjClose</th>\n",
              "      <th>adjHigh</th>\n",
              "      <th>adjLow</th>\n",
              "      <th>adjOpen</th>\n",
              "      <th>adjVolume</th>\n",
              "      <th>divCash</th>\n",
              "      <th>splitFactor</th>\n",
              "    </tr>\n",
              "  </thead>\n",
              "  <tbody>\n",
              "    <tr>\n",
              "      <th>0</th>\n",
              "      <td>NVDA</td>\n",
              "      <td>2015-06-22 00:00:00+00:00</td>\n",
              "      <td>21.775</td>\n",
              "      <td>22.03</td>\n",
              "      <td>21.45</td>\n",
              "      <td>21.91</td>\n",
              "      <td>12855929</td>\n",
              "      <td>21.151471</td>\n",
              "      <td>21.399169</td>\n",
              "      <td>20.835777</td>\n",
              "      <td>21.282605</td>\n",
              "      <td>12855929</td>\n",
              "      <td>0.0</td>\n",
              "      <td>1.0</td>\n",
              "    </tr>\n",
              "    <tr>\n",
              "      <th>1</th>\n",
              "      <td>NVDA</td>\n",
              "      <td>2015-06-23 00:00:00+00:00</td>\n",
              "      <td>21.220</td>\n",
              "      <td>21.99</td>\n",
              "      <td>21.05</td>\n",
              "      <td>21.82</td>\n",
              "      <td>10351627</td>\n",
              "      <td>20.612363</td>\n",
              "      <td>21.360314</td>\n",
              "      <td>20.447231</td>\n",
              "      <td>21.195182</td>\n",
              "      <td>10351627</td>\n",
              "      <td>0.0</td>\n",
              "      <td>1.0</td>\n",
              "    </tr>\n",
              "    <tr>\n",
              "      <th>2</th>\n",
              "      <td>NVDA</td>\n",
              "      <td>2015-06-24 00:00:00+00:00</td>\n",
              "      <td>21.010</td>\n",
              "      <td>21.30</td>\n",
              "      <td>20.91</td>\n",
              "      <td>21.19</td>\n",
              "      <td>6334204</td>\n",
              "      <td>20.408376</td>\n",
              "      <td>20.690072</td>\n",
              "      <td>20.311240</td>\n",
              "      <td>20.583222</td>\n",
              "      <td>6334204</td>\n",
              "      <td>0.0</td>\n",
              "      <td>1.0</td>\n",
              "    </tr>\n",
              "    <tr>\n",
              "      <th>3</th>\n",
              "      <td>NVDA</td>\n",
              "      <td>2015-06-25 00:00:00+00:00</td>\n",
              "      <td>21.170</td>\n",
              "      <td>21.30</td>\n",
              "      <td>21.01</td>\n",
              "      <td>21.01</td>\n",
              "      <td>8761548</td>\n",
              "      <td>20.563795</td>\n",
              "      <td>20.690072</td>\n",
              "      <td>20.408376</td>\n",
              "      <td>20.408376</td>\n",
              "      <td>8761548</td>\n",
              "      <td>0.0</td>\n",
              "      <td>1.0</td>\n",
              "    </tr>\n",
              "    <tr>\n",
              "      <th>4</th>\n",
              "      <td>NVDA</td>\n",
              "      <td>2015-06-26 00:00:00+00:00</td>\n",
              "      <td>20.740</td>\n",
              "      <td>21.17</td>\n",
              "      <td>20.65</td>\n",
              "      <td>21.00</td>\n",
              "      <td>10532373</td>\n",
              "      <td>20.146108</td>\n",
              "      <td>20.563795</td>\n",
              "      <td>20.058685</td>\n",
              "      <td>20.398663</td>\n",
              "      <td>10532373</td>\n",
              "      <td>0.0</td>\n",
              "      <td>1.0</td>\n",
              "    </tr>\n",
              "  </tbody>\n",
              "</table>\n",
              "</div>"
            ],
            "text/plain": [
              "  symbol                       date   close  ...  adjVolume  divCash  splitFactor\n",
              "0   NVDA  2015-06-22 00:00:00+00:00  21.775  ...   12855929      0.0          1.0\n",
              "1   NVDA  2015-06-23 00:00:00+00:00  21.220  ...   10351627      0.0          1.0\n",
              "2   NVDA  2015-06-24 00:00:00+00:00  21.010  ...    6334204      0.0          1.0\n",
              "3   NVDA  2015-06-25 00:00:00+00:00  21.170  ...    8761548      0.0          1.0\n",
              "4   NVDA  2015-06-26 00:00:00+00:00  20.740  ...   10532373      0.0          1.0\n",
              "\n",
              "[5 rows x 14 columns]"
            ]
          },
          "metadata": {
            "tags": []
          },
          "execution_count": 7
        }
      ]
    },
    {
      "cell_type": "code",
      "metadata": {
        "id": "XwbBDAQZNAj6",
        "colab_type": "code",
        "colab": {}
      },
      "source": [
        "df2 = df.reset_index()['close']"
      ],
      "execution_count": 8,
      "outputs": []
    },
    {
      "cell_type": "code",
      "metadata": {
        "id": "UenghDoBNApB",
        "colab_type": "code",
        "colab": {}
      },
      "source": [
        "df2[1228:]"
      ],
      "execution_count": null,
      "outputs": []
    },
    {
      "cell_type": "code",
      "metadata": {
        "id": "z71gPm6hNVEB",
        "colab_type": "code",
        "colab": {
          "base_uri": "https://localhost:8080/",
          "height": 36
        },
        "outputId": "1ee105df-459d-4b50-8042-c9a47514f05f"
      },
      "source": [
        "df2.shape"
      ],
      "execution_count": 10,
      "outputs": [
        {
          "output_type": "execute_result",
          "data": {
            "text/plain": [
              "(1258,)"
            ]
          },
          "metadata": {
            "tags": []
          },
          "execution_count": 10
        }
      ]
    },
    {
      "cell_type": "code",
      "metadata": {
        "id": "ANL5TEvoNVJ2",
        "colab_type": "code",
        "colab": {
          "base_uri": "https://localhost:8080/",
          "height": 284
        },
        "outputId": "1025a074-bd14-40db-f7b1-2e2e8747b7dd"
      },
      "source": [
        "import matplotlib.pyplot as plt\n",
        "plt.plot(df2)"
      ],
      "execution_count": 11,
      "outputs": [
        {
          "output_type": "execute_result",
          "data": {
            "text/plain": [
              "[<matplotlib.lines.Line2D at 0x7fb957d74e48>]"
            ]
          },
          "metadata": {
            "tags": []
          },
          "execution_count": 11
        },
        {
          "output_type": "display_data",
          "data": {
            "image/png": "[encoded data removed]",
            "text/plain": [
              "<Figure size 432x288 with 1 Axes>"
            ]
          },
          "metadata": {
            "tags": [],
            "needs_background": "light"
          }
        }
      ]
    },
    {
      "cell_type": "code",
      "metadata": {
        "id": "ixGq88lINVP7",
        "colab_type": "code",
        "colab": {}
      },
      "source": [
        "from sklearn.preprocessing import MinMaxScaler\n",
        "scaler=MinMaxScaler(feature_range=[0,1])\n",
        "df1=scaler.fit_transform(np.array(df2).reshape(-1,1))"
      ],
      "execution_count": 12,
      "outputs": []
    },
    {
      "cell_type": "code",
      "metadata": {
        "id": "xflIwrYYNVOt",
        "colab_type": "code",
        "colab": {
          "base_uri": "https://localhost:8080/",
          "height": 148
        },
        "outputId": "8b88f789-03b2-4c5c-bdd4-bf676116bb8e"
      },
      "source": [
        "df1"
      ],
      "execution_count": 13,
      "outputs": [
        {
          "output_type": "execute_result",
          "data": {
            "text/plain": [
              "array([[0.00693663],\n",
              "       [0.00537483],\n",
              "       [0.00478388],\n",
              "       ...,\n",
              "       [0.96642841],\n",
              "       [0.98528253],\n",
              "       [0.98325642]])"
            ]
          },
          "metadata": {
            "tags": []
          },
          "execution_count": 13
        }
      ]
    },
    {
      "cell_type": "code",
      "metadata": {
        "id": "BCYkF24aNVIV",
        "colab_type": "code",
        "colab": {
          "base_uri": "https://localhost:8080/",
          "height": 36
        },
        "outputId": "54721bcc-d030-472c-cb65-f2579806d69b"
      },
      "source": [
        "training_size=int(len(df1)*0.65)\n",
        "test_size=len(df1)-training_size\n",
        "train_data,test_data=df1[0:training_size,:],df1[training_size:len(df1),:1]\n",
        "print(train_data.shape)"
      ],
      "execution_count": 14,
      "outputs": [
        {
          "output_type": "stream",
          "text": [
            "(817, 1)\n"
          ],
          "name": "stdout"
        }
      ]
    },
    {
      "cell_type": "code",
      "metadata": {
        "id": "GSvLT3SJNpYp",
        "colab_type": "code",
        "colab": {}
      },
      "source": [
        "def create_dataset(dataset,time_stamp=1):\n",
        "    dataX, dataY=[], []\n",
        "    for i in range(len(dataset)-time_stamp-1):\n",
        "        a=dataset[i:(i+time_stamp),0]\n",
        "        dataX.append(a)\n",
        "        dataY.append(dataset[i+time_stamp,0])\n",
        "    return np.array(dataX),np.array(dataY)\n",
        "    "
      ],
      "execution_count": 15,
      "outputs": []
    },
    {
      "cell_type": "code",
      "metadata": {
        "id": "Bi3sduVMNphE",
        "colab_type": "code",
        "colab": {}
      },
      "source": [
        "time_stamp=100\n",
        "x_train,y_train=create_dataset(train_data,time_stamp)\n",
        "x_test,y_test=create_dataset(test_data,time_stamp)"
      ],
      "execution_count": 16,
      "outputs": []
    },
    {
      "cell_type": "code",
      "metadata": {
        "id": "UFxCQZ8FNplf",
        "colab_type": "code",
        "colab": {
          "base_uri": "https://localhost:8080/",
          "height": 73
        },
        "outputId": "5afce9c5-1171-4f06-c08f-bd09a27d5fa5"
      },
      "source": [
        "print(x_train.shape),print(x_test.shape)"
      ],
      "execution_count": 17,
      "outputs": [
        {
          "output_type": "stream",
          "text": [
            "(716, 100)\n",
            "(340, 100)\n"
          ],
          "name": "stdout"
        },
        {
          "output_type": "execute_result",
          "data": {
            "text/plain": [
              "(None, None)"
            ]
          },
          "metadata": {
            "tags": []
          },
          "execution_count": 17
        }
      ]
    },
    {
      "cell_type": "code",
      "metadata": {
        "id": "IwXOcioANpfe",
        "colab_type": "code",
        "colab": {}
      },
      "source": [
        "x_train=x_train.reshape(x_train.shape[0],x_train.shape[1],1)\n",
        "\n",
        "x_test=x_test.reshape(x_test.shape[0],x_test.shape[1],1)"
      ],
      "execution_count": 18,
      "outputs": []
    },
    {
      "cell_type": "code",
      "metadata": {
        "id": "fg7_kUKCN5JF",
        "colab_type": "code",
        "colab": {}
      },
      "source": [
        "from tensorflow.keras.models import Sequential\n",
        "from tensorflow.keras.layers import Dense\n",
        "from tensorflow.keras.layers import LSTM\n",
        "\n"
      ],
      "execution_count": 19,
      "outputs": []
    },
    {
      "cell_type": "code",
      "metadata": {
        "id": "o3BSgJk7N5Lc",
        "colab_type": "code",
        "colab": {}
      },
      "source": [
        "model=Sequential()\n",
        "model.add(LSTM(50,return_sequences=True,input_shape=(100,1)))\n",
        "model.add(LSTM(50,return_sequences=True))\n",
        "model.add(LSTM(50))\n",
        "model.add(Dense(1))\n",
        "model.compile(loss='mean_squared_error',optimizer='adam')\n"
      ],
      "execution_count": 20,
      "outputs": []
    },
    {
      "cell_type": "code",
      "metadata": {
        "id": "oXB7c7cSN5RY",
        "colab_type": "code",
        "colab": {
          "base_uri": "https://localhost:8080/",
          "height": 317
        },
        "outputId": "35ef992e-1ecc-4f8a-998b-7342ac3503e7"
      },
      "source": [
        "model.summary()\n",
        "\n"
      ],
      "execution_count": 22,
      "outputs": [
        {
          "output_type": "stream",
          "text": [
            "Model: \"sequential\"\n",
            "_________________________________________________________________\n",
            "Layer (type)                 Output Shape              Param #   \n",
            "=================================================================\n",
            "lstm (LSTM)                  (None, 100, 50)           10400     \n",
            "_________________________________________________________________\n",
            "lstm_1 (LSTM)                (None, 100, 50)           20200     \n",
            "_________________________________________________________________\n",
            "lstm_2 (LSTM)                (None, 50)                20200     \n",
            "_________________________________________________________________\n",
            "dense (Dense)                (None, 1)                 51        \n",
            "=================================================================\n",
            "Total params: 50,851\n",
            "Trainable params: 50,851\n",
            "Non-trainable params: 0\n",
            "_________________________________________________________________\n"
          ],
          "name": "stdout"
        }
      ]
    },
    {
      "cell_type": "code",
      "metadata": {
        "id": "pVQ2wIkrN5VY",
        "colab_type": "code",
        "colab": {
          "base_uri": "https://localhost:8080/",
          "height": 1000
        },
        "outputId": "ba630102-7de1-4217-dfed-a86e679b26b7"
      },
      "source": [
        "model.fit(x_train,y_train,validation_data=(x_test,y_test),epochs=100,batch_size=64,verbose=1)"
      ],
      "execution_count": 23,
      "outputs": [
        {
          "output_type": "stream",
          "text": [
            "Epoch 1/100\n",
            "12/12 [==============================] - 3s 253ms/step - loss: 0.0470 - val_loss: 0.0217\n",
            "Epoch 2/100\n",
            "12/12 [==============================] - 2s 178ms/step - loss: 0.0082 - val_loss: 0.0067\n",
            "Epoch 3/100\n",
            "12/12 [==============================] - 2s 179ms/step - loss: 0.0025 - val_loss: 0.0051\n",
            "Epoch 4/100\n",
            "12/12 [==============================] - 2s 178ms/step - loss: 0.0010 - val_loss: 0.0037\n",
            "Epoch 5/100\n",
            "12/12 [==============================] - 2s 177ms/step - loss: 7.5786e-04 - val_loss: 0.0034\n",
            "Epoch 6/100\n",
            "12/12 [==============================] - 2s 180ms/step - loss: 6.5985e-04 - val_loss: 0.0034\n",
            "Epoch 7/100\n",
            "12/12 [==============================] - 2s 180ms/step - loss: 6.4863e-04 - val_loss: 0.0037\n",
            "Epoch 8/100\n",
            "12/12 [==============================] - 2s 179ms/step - loss: 6.8498e-04 - val_loss: 0.0033\n",
            "Epoch 9/100\n",
            "12/12 [==============================] - 2s 181ms/step - loss: 6.8617e-04 - val_loss: 0.0033\n",
            "Epoch 10/100\n",
            "12/12 [==============================] - 2s 181ms/step - loss: 6.6514e-04 - val_loss: 0.0032\n",
            "Epoch 11/100\n",
            "12/12 [==============================] - 2s 183ms/step - loss: 6.5971e-04 - val_loss: 0.0032\n",
            "Epoch 12/100\n",
            "12/12 [==============================] - 2s 187ms/step - loss: 6.3366e-04 - val_loss: 0.0034\n",
            "Epoch 13/100\n",
            "12/12 [==============================] - 2s 186ms/step - loss: 6.4254e-04 - val_loss: 0.0032\n",
            "Epoch 14/100\n",
            "12/12 [==============================] - 2s 182ms/step - loss: 6.5261e-04 - val_loss: 0.0031\n",
            "Epoch 15/100\n",
            "12/12 [==============================] - 2s 183ms/step - loss: 6.4324e-04 - val_loss: 0.0030\n",
            "Epoch 16/100\n",
            "12/12 [==============================] - 2s 182ms/step - loss: 6.4302e-04 - val_loss: 0.0031\n",
            "Epoch 17/100\n",
            "12/12 [==============================] - 2s 181ms/step - loss: 6.2182e-04 - val_loss: 0.0034\n",
            "Epoch 18/100\n",
            "12/12 [==============================] - 2s 183ms/step - loss: 6.4420e-04 - val_loss: 0.0037\n",
            "Epoch 19/100\n",
            "12/12 [==============================] - 2s 182ms/step - loss: 6.6296e-04 - val_loss: 0.0035\n",
            "Epoch 20/100\n",
            "12/12 [==============================] - 2s 182ms/step - loss: 6.5555e-04 - val_loss: 0.0030\n",
            "Epoch 21/100\n",
            "12/12 [==============================] - 2s 181ms/step - loss: 6.3174e-04 - val_loss: 0.0032\n",
            "Epoch 22/100\n",
            "12/12 [==============================] - 2s 182ms/step - loss: 6.1497e-04 - val_loss: 0.0029\n",
            "Epoch 23/100\n",
            "12/12 [==============================] - 2s 183ms/step - loss: 6.4365e-04 - val_loss: 0.0030\n",
            "Epoch 24/100\n",
            "12/12 [==============================] - 2s 182ms/step - loss: 6.2624e-04 - val_loss: 0.0033\n",
            "Epoch 25/100\n",
            "12/12 [==============================] - 2s 182ms/step - loss: 6.2497e-04 - val_loss: 0.0030\n",
            "Epoch 26/100\n",
            "12/12 [==============================] - 2s 181ms/step - loss: 5.9777e-04 - val_loss: 0.0031\n",
            "Epoch 27/100\n",
            "12/12 [==============================] - 2s 181ms/step - loss: 6.5015e-04 - val_loss: 0.0029\n",
            "Epoch 28/100\n",
            "12/12 [==============================] - 2s 183ms/step - loss: 6.0537e-04 - val_loss: 0.0029\n",
            "Epoch 29/100\n",
            "12/12 [==============================] - 2s 182ms/step - loss: 6.2123e-04 - val_loss: 0.0027\n",
            "Epoch 30/100\n",
            "12/12 [==============================] - 2s 183ms/step - loss: 7.1743e-04 - val_loss: 0.0027\n",
            "Epoch 31/100\n",
            "12/12 [==============================] - 2s 185ms/step - loss: 6.6544e-04 - val_loss: 0.0027\n",
            "Epoch 32/100\n",
            "12/12 [==============================] - 2s 184ms/step - loss: 5.7991e-04 - val_loss: 0.0026\n",
            "Epoch 33/100\n",
            "12/12 [==============================] - 2s 180ms/step - loss: 5.7672e-04 - val_loss: 0.0027\n",
            "Epoch 34/100\n",
            "12/12 [==============================] - 2s 183ms/step - loss: 5.7605e-04 - val_loss: 0.0028\n",
            "Epoch 35/100\n",
            "12/12 [==============================] - 2s 181ms/step - loss: 5.7220e-04 - val_loss: 0.0028\n",
            "Epoch 36/100\n",
            "12/12 [==============================] - 2s 181ms/step - loss: 5.8019e-04 - val_loss: 0.0025\n",
            "Epoch 37/100\n",
            "12/12 [==============================] - 2s 182ms/step - loss: 6.8049e-04 - val_loss: 0.0028\n",
            "Epoch 38/100\n",
            "12/12 [==============================] - 2s 182ms/step - loss: 6.3260e-04 - val_loss: 0.0032\n",
            "Epoch 39/100\n",
            "12/12 [==============================] - 2s 183ms/step - loss: 5.8447e-04 - val_loss: 0.0025\n",
            "Epoch 40/100\n",
            "12/12 [==============================] - 2s 183ms/step - loss: 5.6606e-04 - val_loss: 0.0027\n",
            "Epoch 41/100\n",
            "12/12 [==============================] - 2s 184ms/step - loss: 5.9722e-04 - val_loss: 0.0026\n",
            "Epoch 42/100\n",
            "12/12 [==============================] - 2s 183ms/step - loss: 5.9087e-04 - val_loss: 0.0024\n",
            "Epoch 43/100\n",
            "12/12 [==============================] - 2s 183ms/step - loss: 5.7193e-04 - val_loss: 0.0028\n",
            "Epoch 44/100\n",
            "12/12 [==============================] - 2s 182ms/step - loss: 5.9414e-04 - val_loss: 0.0027\n",
            "Epoch 45/100\n",
            "12/12 [==============================] - 2s 185ms/step - loss: 5.9924e-04 - val_loss: 0.0023\n",
            "Epoch 46/100\n",
            "12/12 [==============================] - 2s 182ms/step - loss: 5.4939e-04 - val_loss: 0.0030\n",
            "Epoch 47/100\n",
            "12/12 [==============================] - 2s 182ms/step - loss: 6.1251e-04 - val_loss: 0.0024\n",
            "Epoch 48/100\n",
            "12/12 [==============================] - 2s 182ms/step - loss: 5.5770e-04 - val_loss: 0.0023\n",
            "Epoch 49/100\n",
            "12/12 [==============================] - 2s 182ms/step - loss: 5.1721e-04 - val_loss: 0.0022\n",
            "Epoch 50/100\n",
            "12/12 [==============================] - 2s 186ms/step - loss: 5.2517e-04 - val_loss: 0.0022\n",
            "Epoch 51/100\n",
            "12/12 [==============================] - 2s 194ms/step - loss: 5.1199e-04 - val_loss: 0.0024\n",
            "Epoch 52/100\n",
            "12/12 [==============================] - 2s 195ms/step - loss: 5.2574e-04 - val_loss: 0.0022\n",
            "Epoch 53/100\n",
            "12/12 [==============================] - 2s 196ms/step - loss: 5.6810e-04 - val_loss: 0.0023\n",
            "Epoch 54/100\n",
            "12/12 [==============================] - 2s 194ms/step - loss: 5.5895e-04 - val_loss: 0.0021\n",
            "Epoch 55/100\n",
            "12/12 [==============================] - 2s 187ms/step - loss: 5.4875e-04 - val_loss: 0.0021\n",
            "Epoch 56/100\n",
            "12/12 [==============================] - 2s 184ms/step - loss: 5.5123e-04 - val_loss: 0.0024\n",
            "Epoch 57/100\n",
            "12/12 [==============================] - 2s 182ms/step - loss: 5.0375e-04 - val_loss: 0.0020\n",
            "Epoch 58/100\n",
            "12/12 [==============================] - 2s 184ms/step - loss: 5.0611e-04 - val_loss: 0.0024\n",
            "Epoch 59/100\n",
            "12/12 [==============================] - 2s 183ms/step - loss: 6.4113e-04 - val_loss: 0.0020\n",
            "Epoch 60/100\n",
            "12/12 [==============================] - 2s 183ms/step - loss: 5.3098e-04 - val_loss: 0.0019\n",
            "Epoch 61/100\n",
            "12/12 [==============================] - 2s 184ms/step - loss: 5.4584e-04 - val_loss: 0.0020\n",
            "Epoch 62/100\n",
            "12/12 [==============================] - 2s 183ms/step - loss: 4.8283e-04 - val_loss: 0.0020\n",
            "Epoch 63/100\n",
            "12/12 [==============================] - 2s 184ms/step - loss: 4.6907e-04 - val_loss: 0.0020\n",
            "Epoch 64/100\n",
            "12/12 [==============================] - 2s 185ms/step - loss: 4.6814e-04 - val_loss: 0.0018\n",
            "Epoch 65/100\n",
            "12/12 [==============================] - 2s 184ms/step - loss: 4.8882e-04 - val_loss: 0.0023\n",
            "Epoch 66/100\n",
            "12/12 [==============================] - 2s 185ms/step - loss: 5.0776e-04 - val_loss: 0.0018\n",
            "Epoch 67/100\n",
            "12/12 [==============================] - 2s 184ms/step - loss: 4.5511e-04 - val_loss: 0.0018\n",
            "Epoch 68/100\n",
            "12/12 [==============================] - 2s 184ms/step - loss: 4.5764e-04 - val_loss: 0.0019\n",
            "Epoch 69/100\n",
            "12/12 [==============================] - 2s 186ms/step - loss: 4.7383e-04 - val_loss: 0.0017\n",
            "Epoch 70/100\n",
            "12/12 [==============================] - 2s 185ms/step - loss: 4.4685e-04 - val_loss: 0.0017\n",
            "Epoch 71/100\n",
            "12/12 [==============================] - 2s 186ms/step - loss: 4.6062e-04 - val_loss: 0.0018\n",
            "Epoch 72/100\n",
            "12/12 [==============================] - 2s 186ms/step - loss: 4.5805e-04 - val_loss: 0.0016\n",
            "Epoch 73/100\n",
            "12/12 [==============================] - 2s 185ms/step - loss: 4.8402e-04 - val_loss: 0.0018\n",
            "Epoch 74/100\n",
            "12/12 [==============================] - 2s 185ms/step - loss: 4.9929e-04 - val_loss: 0.0021\n",
            "Epoch 75/100\n",
            "12/12 [==============================] - 2s 186ms/step - loss: 4.6687e-04 - val_loss: 0.0016\n",
            "Epoch 76/100\n",
            "12/12 [==============================] - 2s 185ms/step - loss: 4.3301e-04 - val_loss: 0.0016\n",
            "Epoch 77/100\n",
            "12/12 [==============================] - 2s 185ms/step - loss: 4.3565e-04 - val_loss: 0.0016\n",
            "Epoch 78/100\n",
            "12/12 [==============================] - 2s 186ms/step - loss: 4.7001e-04 - val_loss: 0.0019\n",
            "Epoch 79/100\n",
            "12/12 [==============================] - 2s 185ms/step - loss: 4.2686e-04 - val_loss: 0.0018\n",
            "Epoch 80/100\n",
            "12/12 [==============================] - 2s 184ms/step - loss: 6.0633e-04 - val_loss: 0.0018\n",
            "Epoch 81/100\n",
            "12/12 [==============================] - 2s 186ms/step - loss: 4.7044e-04 - val_loss: 0.0016\n",
            "Epoch 82/100\n",
            "12/12 [==============================] - 2s 186ms/step - loss: 4.8183e-04 - val_loss: 0.0018\n",
            "Epoch 83/100\n",
            "12/12 [==============================] - 2s 186ms/step - loss: 4.1790e-04 - val_loss: 0.0016\n",
            "Epoch 84/100\n",
            "12/12 [==============================] - 2s 187ms/step - loss: 4.4622e-04 - val_loss: 0.0017\n",
            "Epoch 85/100\n",
            "12/12 [==============================] - 2s 184ms/step - loss: 4.1283e-04 - val_loss: 0.0017\n",
            "Epoch 86/100\n",
            "12/12 [==============================] - 2s 185ms/step - loss: 4.8037e-04 - val_loss: 0.0015\n",
            "Epoch 87/100\n",
            "12/12 [==============================] - 2s 188ms/step - loss: 5.0934e-04 - val_loss: 0.0020\n",
            "Epoch 88/100\n",
            "12/12 [==============================] - 2s 190ms/step - loss: 4.8721e-04 - val_loss: 0.0016\n",
            "Epoch 89/100\n",
            "12/12 [==============================] - 2s 186ms/step - loss: 4.9822e-04 - val_loss: 0.0024\n",
            "Epoch 90/100\n",
            "12/12 [==============================] - 2s 186ms/step - loss: 5.1371e-04 - val_loss: 0.0015\n",
            "Epoch 91/100\n",
            "12/12 [==============================] - 2s 186ms/step - loss: 4.7462e-04 - val_loss: 0.0017\n",
            "Epoch 92/100\n",
            "12/12 [==============================] - 2s 185ms/step - loss: 3.8544e-04 - val_loss: 0.0017\n",
            "Epoch 93/100\n",
            "12/12 [==============================] - 2s 186ms/step - loss: 4.2823e-04 - val_loss: 0.0015\n",
            "Epoch 94/100\n",
            "12/12 [==============================] - 2s 185ms/step - loss: 3.9682e-04 - val_loss: 0.0014\n",
            "Epoch 95/100\n",
            "12/12 [==============================] - 2s 184ms/step - loss: 3.7170e-04 - val_loss: 0.0013\n",
            "Epoch 96/100\n",
            "12/12 [==============================] - 2s 185ms/step - loss: 4.1905e-04 - val_loss: 0.0024\n",
            "Epoch 97/100\n",
            "12/12 [==============================] - 2s 185ms/step - loss: 4.6170e-04 - val_loss: 0.0014\n",
            "Epoch 98/100\n",
            "12/12 [==============================] - 2s 187ms/step - loss: 3.9557e-04 - val_loss: 0.0021\n",
            "Epoch 99/100\n",
            "12/12 [==============================] - 2s 186ms/step - loss: 4.3528e-04 - val_loss: 0.0016\n",
            "Epoch 100/100\n",
            "12/12 [==============================] - 2s 185ms/step - loss: 4.4092e-04 - val_loss: 0.0016\n"
          ],
          "name": "stdout"
        },
        {
          "output_type": "execute_result",
          "data": {
            "text/plain": [
              "<tensorflow.python.keras.callbacks.History at 0x7fb908276b38>"
            ]
          },
          "metadata": {
            "tags": []
          },
          "execution_count": 23
        }
      ]
    },
    {
      "cell_type": "code",
      "metadata": {
        "id": "dw4pmjRkN5XT",
        "colab_type": "code",
        "colab": {}
      },
      "source": [
        "train_predict= model.predict(x_train)\n",
        "test_predict= model.predict(x_test)"
      ],
      "execution_count": 24,
      "outputs": []
    },
    {
      "cell_type": "code",
      "metadata": {
        "id": "e65rY78PN5PU",
        "colab_type": "code",
        "colab": {}
      },
      "source": [
        "train_predict=scaler.inverse_transform(train_predict)\n",
        "test_predict=scaler.inverse_transform(test_predict)"
      ],
      "execution_count": 25,
      "outputs": []
    },
    {
      "cell_type": "code",
      "metadata": {
        "id": "cM9qMrSPNVCU",
        "colab_type": "code",
        "colab": {
          "base_uri": "https://localhost:8080/",
          "height": 36
        },
        "outputId": "501f2d2e-5454-45dc-9a17-2a486c9ab162"
      },
      "source": [
        "import math\n",
        "from sklearn.metrics import mean_squared_error\n",
        "math.sqrt(mean_squared_error(y_train,train_predict))"
      ],
      "execution_count": 26,
      "outputs": [
        {
          "output_type": "execute_result",
          "data": {
            "text/plain": [
              "162.04845794807662"
            ]
          },
          "metadata": {
            "tags": []
          },
          "execution_count": 26
        }
      ]
    },
    {
      "cell_type": "code",
      "metadata": {
        "id": "e3Yn3o5qOxtM",
        "colab_type": "code",
        "colab": {
          "base_uri": "https://localhost:8080/",
          "height": 36
        },
        "outputId": "4ff513e8-7dde-4a20-c95e-59ecbccfef47"
      },
      "source": [
        "math.sqrt(mean_squared_error(y_test,test_predict))"
      ],
      "execution_count": 27,
      "outputs": [
        {
          "output_type": "execute_result",
          "data": {
            "text/plain": [
              "225.02050807809803"
            ]
          },
          "metadata": {
            "tags": []
          },
          "execution_count": 27
        }
      ]
    },
    {
      "cell_type": "code",
      "metadata": {
        "id": "BSmwuaQdOx-J",
        "colab_type": "code",
        "colab": {
          "base_uri": "https://localhost:8080/",
          "height": 284
        },
        "outputId": "c2688d80-d424-4a82-8569-9c0c373fdd22"
      },
      "source": [
        "look_back=100\n",
        "trainpredictplot=np.empty_like(df1)\n",
        "trainpredictplot[:,:]=np.nan\n",
        "trainpredictplot[look_back:len(train_predict)+look_back,:]=train_predict\n",
        "testpredictplot=np.empty_like(df1)\n",
        "testpredictplot[:,:]=np.nan\n",
        "testpredictplot[len(train_predict)+(look_back*2)+1:len(df1)-1,:]=test_predict\n",
        "#polt\n",
        "plt.plot(scaler.inverse_transform(df1))\n",
        "plt.plot(train_predict)\n",
        "plt.plot(test_predict)\n",
        "plt.show"
      ],
      "execution_count": 28,
      "outputs": [
        {
          "output_type": "execute_result",
          "data": {
            "text/plain": [
              "<function matplotlib.pyplot.show>"
            ]
          },
          "metadata": {
            "tags": []
          },
          "execution_count": 28
        },
        {
          "output_type": "display_data",
          "data": {
            "image/png": "[encoded data removed]",
            "text/plain": [
              "<Figure size 432x288 with 1 Axes>"
            ]
          },
          "metadata": {
            "tags": [],
            "needs_background": "light"
          }
        }
      ]
    },
    {
      "cell_type": "code",
      "metadata": {
        "id": "sWcw5FBMO6RI",
        "colab_type": "code",
        "colab": {
          "base_uri": "https://localhost:8080/",
          "height": 36
        },
        "outputId": "9b350f16-740c-4694-c868-4180f4c6eb5d"
      },
      "source": [
        "len(test_data)"
      ],
      "execution_count": 29,
      "outputs": [
        {
          "output_type": "execute_result",
          "data": {
            "text/plain": [
              "441"
            ]
          },
          "metadata": {
            "tags": []
          },
          "execution_count": 29
        }
      ]
    },
    {
      "cell_type": "code",
      "metadata": {
        "id": "U-4ARvOWO6bm",
        "colab_type": "code",
        "colab": {}
      },
      "source": [
        "x_input=test_data[340:].reshape(1,-1)\n",
        "x_input.shape"
      ],
      "execution_count": null,
      "outputs": []
    },
    {
      "cell_type": "code",
      "metadata": {
        "id": "ySUlK2uLO6aJ",
        "colab_type": "code",
        "colab": {}
      },
      "source": [
        "temp_input=list(x_input)\n",
        "temp_input=temp_input[0].tolist()"
      ],
      "execution_count": 31,
      "outputs": []
    },
    {
      "cell_type": "code",
      "metadata": {
        "id": "2w8klqSNOxq6",
        "colab_type": "code",
        "colab": {
          "base_uri": "https://localhost:8080/",
          "height": 1000
        },
        "outputId": "a5b86873-f8e5-46f9-ce87-27d57a55f972"
      },
      "source": [
        "from numpy import array\n",
        "output=[]\n",
        "n_step=100\n",
        "i=0\n",
        "while(i<30):\n",
        "  if(len(temp_input)>100):\n",
        "    x_input=np.array(temp_input[1:])\n",
        "    print(\"{}day input{}\".format(i,x_input))\n",
        "    x_input=x_input.reshape(1,-1)\n",
        "    x_input=x_input.reshape(1,n_step,1)\n",
        "    yhat = model.predict(x_input,verbose=0)\n",
        "    print(\"{}day input{}\".format(i,yhat))\n",
        "    temp_input.extend(yhat[0].tolist())\n",
        "    temp_input=temp_input[1:]\n",
        "    output.extend(yhat.tolist())\n",
        "    i=i+1\n",
        "  else:\n",
        "      x_input=x_input.reshape(1,n_step,1)\n",
        "      yhat = model.predict(x_input,verbose=0)\n",
        "      print(yhat[0])\n",
        "      temp_input.extend(yhat[0].tolist())\n",
        "      print(len[temp_input])\n",
        "      output.extend(yhat.tolist())\n",
        "      i=i+1"
      ],
      "execution_count": 32,
      "outputs": [
        {
          "output_type": "stream",
          "text": [
            "0day input[0.64346015 0.63662202 0.63738181 0.61098604 0.62196083 0.64109635\n",
            " 0.65131135 0.6611183  0.65364701 0.68567087 0.69951598 0.71260131\n",
            " 0.70764858 0.76114363 0.78022287 0.83124156 0.81435727 0.77318775\n",
            " 0.7146837  0.68308195 0.69884061 0.65648919 0.70565061 0.72354795\n",
            " 0.69388789 0.74628546 0.71471184 0.69431    0.63634061 0.68035232\n",
            " 0.63923908 0.5543674  0.62339599 0.49833971 0.55706889 0.5164059\n",
            " 0.54496848 0.52465106 0.54418055 0.64686515 0.63684714 0.66954638\n",
            " 0.65685502 0.69304367 0.68744372 0.62967132 0.66456551 0.63203512\n",
            " 0.70095115 0.67458352 0.69687078 0.68561459 0.70503152 0.74470959\n",
            " 0.7359579  0.7749606  0.76826317 0.75343314 0.70407474 0.7509005\n",
            " 0.74487843 0.76058082 0.78165804 0.76556168 0.78554142 0.76815061\n",
            " 0.74141715 0.76535063 0.77225912 0.78365601 0.80357947 0.82505065\n",
            " 0.85352882 0.82392503 0.82139239 0.84958915 0.90139577 0.93060558\n",
            " 0.93682463 0.95534106 0.93341963 0.96167267 0.92694732 0.90527915\n",
            " 0.90097366 0.94470396 0.93690905 0.93904773 0.9327724  0.93243471\n",
            " 0.94971297 0.93676835 0.96389577 1.         0.93578343 0.95111999\n",
            " 0.97827555 0.96642841 0.98528253 0.98325642]\n",
            "0day input[[0.9396516]]\n",
            "1day input[0.63662202 0.63738181 0.61098604 0.62196083 0.64109635 0.65131135\n",
            " 0.6611183  0.65364701 0.68567087 0.69951598 0.71260131 0.70764858\n",
            " 0.76114363 0.78022287 0.83124156 0.81435727 0.77318775 0.7146837\n",
            " 0.68308195 0.69884061 0.65648919 0.70565061 0.72354795 0.69388789\n",
            " 0.74628546 0.71471184 0.69431    0.63634061 0.68035232 0.63923908\n",
            " 0.5543674  0.62339599 0.49833971 0.55706889 0.5164059  0.54496848\n",
            " 0.52465106 0.54418055 0.64686515 0.63684714 0.66954638 0.65685502\n",
            " 0.69304367 0.68744372 0.62967132 0.66456551 0.63203512 0.70095115\n",
            " 0.67458352 0.69687078 0.68561459 0.70503152 0.74470959 0.7359579\n",
            " 0.7749606  0.76826317 0.75343314 0.70407474 0.7509005  0.74487843\n",
            " 0.76058082 0.78165804 0.76556168 0.78554142 0.76815061 0.74141715\n",
            " 0.76535063 0.77225912 0.78365601 0.80357947 0.82505065 0.85352882\n",
            " 0.82392503 0.82139239 0.84958915 0.90139577 0.93060558 0.93682463\n",
            " 0.95534106 0.93341963 0.96167267 0.92694732 0.90527915 0.90097366\n",
            " 0.94470396 0.93690905 0.93904773 0.9327724  0.93243471 0.94971297\n",
            " 0.93676835 0.96389577 1.         0.93578343 0.95111999 0.97827555\n",
            " 0.96642841 0.98528253 0.98325642 0.93965161]\n",
            "1day input[[0.94037896]]\n",
            "2day input[0.63738181 0.61098604 0.62196083 0.64109635 0.65131135 0.6611183\n",
            " 0.65364701 0.68567087 0.69951598 0.71260131 0.70764858 0.76114363\n",
            " 0.78022287 0.83124156 0.81435727 0.77318775 0.7146837  0.68308195\n",
            " 0.69884061 0.65648919 0.70565061 0.72354795 0.69388789 0.74628546\n",
            " 0.71471184 0.69431    0.63634061 0.68035232 0.63923908 0.5543674\n",
            " 0.62339599 0.49833971 0.55706889 0.5164059  0.54496848 0.52465106\n",
            " 0.54418055 0.64686515 0.63684714 0.66954638 0.65685502 0.69304367\n",
            " 0.68744372 0.62967132 0.66456551 0.63203512 0.70095115 0.67458352\n",
            " 0.69687078 0.68561459 0.70503152 0.74470959 0.7359579  0.7749606\n",
            " 0.76826317 0.75343314 0.70407474 0.7509005  0.74487843 0.76058082\n",
            " 0.78165804 0.76556168 0.78554142 0.76815061 0.74141715 0.76535063\n",
            " 0.77225912 0.78365601 0.80357947 0.82505065 0.85352882 0.82392503\n",
            " 0.82139239 0.84958915 0.90139577 0.93060558 0.93682463 0.95534106\n",
            " 0.93341963 0.96167267 0.92694732 0.90527915 0.90097366 0.94470396\n",
            " 0.93690905 0.93904773 0.9327724  0.93243471 0.94971297 0.93676835\n",
            " 0.96389577 1.         0.93578343 0.95111999 0.97827555 0.96642841\n",
            " 0.98528253 0.98325642 0.93965161 0.94037896]\n",
            "2day input[[0.93790174]]\n",
            "3day input[0.61098604 0.62196083 0.64109635 0.65131135 0.6611183  0.65364701\n",
            " 0.68567087 0.69951598 0.71260131 0.70764858 0.76114363 0.78022287\n",
            " 0.83124156 0.81435727 0.77318775 0.7146837  0.68308195 0.69884061\n",
            " 0.65648919 0.70565061 0.72354795 0.69388789 0.74628546 0.71471184\n",
            " 0.69431    0.63634061 0.68035232 0.63923908 0.5543674  0.62339599\n",
            " 0.49833971 0.55706889 0.5164059  0.54496848 0.52465106 0.54418055\n",
            " 0.64686515 0.63684714 0.66954638 0.65685502 0.69304367 0.68744372\n",
            " 0.62967132 0.66456551 0.63203512 0.70095115 0.67458352 0.69687078\n",
            " 0.68561459 0.70503152 0.74470959 0.7359579  0.7749606  0.76826317\n",
            " 0.75343314 0.70407474 0.7509005  0.74487843 0.76058082 0.78165804\n",
            " 0.76556168 0.78554142 0.76815061 0.74141715 0.76535063 0.77225912\n",
            " 0.78365601 0.80357947 0.82505065 0.85352882 0.82392503 0.82139239\n",
            " 0.84958915 0.90139577 0.93060558 0.93682463 0.95534106 0.93341963\n",
            " 0.96167267 0.92694732 0.90527915 0.90097366 0.94470396 0.93690905\n",
            " 0.93904773 0.9327724  0.93243471 0.94971297 0.93676835 0.96389577\n",
            " 1.         0.93578343 0.95111999 0.97827555 0.96642841 0.98528253\n",
            " 0.98325642 0.93965161 0.94037896 0.93790174]\n",
            "3day input[[0.93330634]]\n",
            "4day input[0.62196083 0.64109635 0.65131135 0.6611183  0.65364701 0.68567087\n",
            " 0.69951598 0.71260131 0.70764858 0.76114363 0.78022287 0.83124156\n",
            " 0.81435727 0.77318775 0.7146837  0.68308195 0.69884061 0.65648919\n",
            " 0.70565061 0.72354795 0.69388789 0.74628546 0.71471184 0.69431\n",
            " 0.63634061 0.68035232 0.63923908 0.5543674  0.62339599 0.49833971\n",
            " 0.55706889 0.5164059  0.54496848 0.52465106 0.54418055 0.64686515\n",
            " 0.63684714 0.66954638 0.65685502 0.69304367 0.68744372 0.62967132\n",
            " 0.66456551 0.63203512 0.70095115 0.67458352 0.69687078 0.68561459\n",
            " 0.70503152 0.74470959 0.7359579  0.7749606  0.76826317 0.75343314\n",
            " 0.70407474 0.7509005  0.74487843 0.76058082 0.78165804 0.76556168\n",
            " 0.78554142 0.76815061 0.74141715 0.76535063 0.77225912 0.78365601\n",
            " 0.80357947 0.82505065 0.85352882 0.82392503 0.82139239 0.84958915\n",
            " 0.90139577 0.93060558 0.93682463 0.95534106 0.93341963 0.96167267\n",
            " 0.92694732 0.90527915 0.90097366 0.94470396 0.93690905 0.93904773\n",
            " 0.9327724  0.93243471 0.94971297 0.93676835 0.96389577 1.\n",
            " 0.93578343 0.95111999 0.97827555 0.96642841 0.98528253 0.98325642\n",
            " 0.93965161 0.94037896 0.93790174 0.93330634]\n",
            "4day input[[0.92761177]]\n",
            "5day input[0.64109635 0.65131135 0.6611183  0.65364701 0.68567087 0.69951598\n",
            " 0.71260131 0.70764858 0.76114363 0.78022287 0.83124156 0.81435727\n",
            " 0.77318775 0.7146837  0.68308195 0.69884061 0.65648919 0.70565061\n",
            " 0.72354795 0.69388789 0.74628546 0.71471184 0.69431    0.63634061\n",
            " 0.68035232 0.63923908 0.5543674  0.62339599 0.49833971 0.55706889\n",
            " 0.5164059  0.54496848 0.52465106 0.54418055 0.64686515 0.63684714\n",
            " 0.66954638 0.65685502 0.69304367 0.68744372 0.62967132 0.66456551\n",
            " 0.63203512 0.70095115 0.67458352 0.69687078 0.68561459 0.70503152\n",
            " 0.74470959 0.7359579  0.7749606  0.76826317 0.75343314 0.70407474\n",
            " 0.7509005  0.74487843 0.76058082 0.78165804 0.76556168 0.78554142\n",
            " 0.76815061 0.74141715 0.76535063 0.77225912 0.78365601 0.80357947\n",
            " 0.82505065 0.85352882 0.82392503 0.82139239 0.84958915 0.90139577\n",
            " 0.93060558 0.93682463 0.95534106 0.93341963 0.96167267 0.92694732\n",
            " 0.90527915 0.90097366 0.94470396 0.93690905 0.93904773 0.9327724\n",
            " 0.93243471 0.94971297 0.93676835 0.96389577 1.         0.93578343\n",
            " 0.95111999 0.97827555 0.96642841 0.98528253 0.98325642 0.93965161\n",
            " 0.94037896 0.93790174 0.93330634 0.92761177]\n",
            "5day input[[0.9215603]]\n",
            "6day input[0.65131135 0.6611183  0.65364701 0.68567087 0.69951598 0.71260131\n",
            " 0.70764858 0.76114363 0.78022287 0.83124156 0.81435727 0.77318775\n",
            " 0.7146837  0.68308195 0.69884061 0.65648919 0.70565061 0.72354795\n",
            " 0.69388789 0.74628546 0.71471184 0.69431    0.63634061 0.68035232\n",
            " 0.63923908 0.5543674  0.62339599 0.49833971 0.55706889 0.5164059\n",
            " 0.54496848 0.52465106 0.54418055 0.64686515 0.63684714 0.66954638\n",
            " 0.65685502 0.69304367 0.68744372 0.62967132 0.66456551 0.63203512\n",
            " 0.70095115 0.67458352 0.69687078 0.68561459 0.70503152 0.74470959\n",
            " 0.7359579  0.7749606  0.76826317 0.75343314 0.70407474 0.7509005\n",
            " 0.74487843 0.76058082 0.78165804 0.76556168 0.78554142 0.76815061\n",
            " 0.74141715 0.76535063 0.77225912 0.78365601 0.80357947 0.82505065\n",
            " 0.85352882 0.82392503 0.82139239 0.84958915 0.90139577 0.93060558\n",
            " 0.93682463 0.95534106 0.93341963 0.96167267 0.92694732 0.90527915\n",
            " 0.90097366 0.94470396 0.93690905 0.93904773 0.9327724  0.93243471\n",
            " 0.94971297 0.93676835 0.96389577 1.         0.93578343 0.95111999\n",
            " 0.97827555 0.96642841 0.98528253 0.98325642 0.93965161 0.94037896\n",
            " 0.93790174 0.93330634 0.92761177 0.92156029]\n",
            "6day input[[0.9156296]]\n",
            "7day input[0.6611183  0.65364701 0.68567087 0.69951598 0.71260131 0.70764858\n",
            " 0.76114363 0.78022287 0.83124156 0.81435727 0.77318775 0.7146837\n",
            " 0.68308195 0.69884061 0.65648919 0.70565061 0.72354795 0.69388789\n",
            " 0.74628546 0.71471184 0.69431    0.63634061 0.68035232 0.63923908\n",
            " 0.5543674  0.62339599 0.49833971 0.55706889 0.5164059  0.54496848\n",
            " 0.52465106 0.54418055 0.64686515 0.63684714 0.66954638 0.65685502\n",
            " 0.69304367 0.68744372 0.62967132 0.66456551 0.63203512 0.70095115\n",
            " 0.67458352 0.69687078 0.68561459 0.70503152 0.74470959 0.7359579\n",
            " 0.7749606  0.76826317 0.75343314 0.70407474 0.7509005  0.74487843\n",
            " 0.76058082 0.78165804 0.76556168 0.78554142 0.76815061 0.74141715\n",
            " 0.76535063 0.77225912 0.78365601 0.80357947 0.82505065 0.85352882\n",
            " 0.82392503 0.82139239 0.84958915 0.90139577 0.93060558 0.93682463\n",
            " 0.95534106 0.93341963 0.96167267 0.92694732 0.90527915 0.90097366\n",
            " 0.94470396 0.93690905 0.93904773 0.9327724  0.93243471 0.94971297\n",
            " 0.93676835 0.96389577 1.         0.93578343 0.95111999 0.97827555\n",
            " 0.96642841 0.98528253 0.98325642 0.93965161 0.94037896 0.93790174\n",
            " 0.93330634 0.92761177 0.92156029 0.91562963]\n",
            "7day input[[0.91010284]]\n",
            "8day input[0.65364701 0.68567087 0.69951598 0.71260131 0.70764858 0.76114363\n",
            " 0.78022287 0.83124156 0.81435727 0.77318775 0.7146837  0.68308195\n",
            " 0.69884061 0.65648919 0.70565061 0.72354795 0.69388789 0.74628546\n",
            " 0.71471184 0.69431    0.63634061 0.68035232 0.63923908 0.5543674\n",
            " 0.62339599 0.49833971 0.55706889 0.5164059  0.54496848 0.52465106\n",
            " 0.54418055 0.64686515 0.63684714 0.66954638 0.65685502 0.69304367\n",
            " 0.68744372 0.62967132 0.66456551 0.63203512 0.70095115 0.67458352\n",
            " 0.69687078 0.68561459 0.70503152 0.74470959 0.7359579  0.7749606\n",
            " 0.76826317 0.75343314 0.70407474 0.7509005  0.74487843 0.76058082\n",
            " 0.78165804 0.76556168 0.78554142 0.76815061 0.74141715 0.76535063\n",
            " 0.77225912 0.78365601 0.80357947 0.82505065 0.85352882 0.82392503\n",
            " 0.82139239 0.84958915 0.90139577 0.93060558 0.93682463 0.95534106\n",
            " 0.93341963 0.96167267 0.92694732 0.90527915 0.90097366 0.94470396\n",
            " 0.93690905 0.93904773 0.9327724  0.93243471 0.94971297 0.93676835\n",
            " 0.96389577 1.         0.93578343 0.95111999 0.97827555 0.96642841\n",
            " 0.98528253 0.98325642 0.93965161 0.94037896 0.93790174 0.93330634\n",
            " 0.92761177 0.92156029 0.91562963 0.91010284]\n",
            "8day input[[0.90513676]]\n",
            "9day input[0.68567087 0.69951598 0.71260131 0.70764858 0.76114363 0.78022287\n",
            " 0.83124156 0.81435727 0.77318775 0.7146837  0.68308195 0.69884061\n",
            " 0.65648919 0.70565061 0.72354795 0.69388789 0.74628546 0.71471184\n",
            " 0.69431    0.63634061 0.68035232 0.63923908 0.5543674  0.62339599\n",
            " 0.49833971 0.55706889 0.5164059  0.54496848 0.52465106 0.54418055\n",
            " 0.64686515 0.63684714 0.66954638 0.65685502 0.69304367 0.68744372\n",
            " 0.62967132 0.66456551 0.63203512 0.70095115 0.67458352 0.69687078\n",
            " 0.68561459 0.70503152 0.74470959 0.7359579  0.7749606  0.76826317\n",
            " 0.75343314 0.70407474 0.7509005  0.74487843 0.76058082 0.78165804\n",
            " 0.76556168 0.78554142 0.76815061 0.74141715 0.76535063 0.77225912\n",
            " 0.78365601 0.80357947 0.82505065 0.85352882 0.82392503 0.82139239\n",
            " 0.84958915 0.90139577 0.93060558 0.93682463 0.95534106 0.93341963\n",
            " 0.96167267 0.92694732 0.90527915 0.90097366 0.94470396 0.93690905\n",
            " 0.93904773 0.9327724  0.93243471 0.94971297 0.93676835 0.96389577\n",
            " 1.         0.93578343 0.95111999 0.97827555 0.96642841 0.98528253\n",
            " 0.98325642 0.93965161 0.94037896 0.93790174 0.93330634 0.92761177\n",
            " 0.92156029 0.91562963 0.91010284 0.90513676]\n",
            "9day input[[0.9008128]]\n",
            "10day input[0.69951598 0.71260131 0.70764858 0.76114363 0.78022287 0.83124156\n",
            " 0.81435727 0.77318775 0.7146837  0.68308195 0.69884061 0.65648919\n",
            " 0.70565061 0.72354795 0.69388789 0.74628546 0.71471184 0.69431\n",
            " 0.63634061 0.68035232 0.63923908 0.5543674  0.62339599 0.49833971\n",
            " 0.55706889 0.5164059  0.54496848 0.52465106 0.54418055 0.64686515\n",
            " 0.63684714 0.66954638 0.65685502 0.69304367 0.68744372 0.62967132\n",
            " 0.66456551 0.63203512 0.70095115 0.67458352 0.69687078 0.68561459\n",
            " 0.70503152 0.74470959 0.7359579  0.7749606  0.76826317 0.75343314\n",
            " 0.70407474 0.7509005  0.74487843 0.76058082 0.78165804 0.76556168\n",
            " 0.78554142 0.76815061 0.74141715 0.76535063 0.77225912 0.78365601\n",
            " 0.80357947 0.82505065 0.85352882 0.82392503 0.82139239 0.84958915\n",
            " 0.90139577 0.93060558 0.93682463 0.95534106 0.93341963 0.96167267\n",
            " 0.92694732 0.90527915 0.90097366 0.94470396 0.93690905 0.93904773\n",
            " 0.9327724  0.93243471 0.94971297 0.93676835 0.96389577 1.\n",
            " 0.93578343 0.95111999 0.97827555 0.96642841 0.98528253 0.98325642\n",
            " 0.93965161 0.94037896 0.93790174 0.93330634 0.92761177 0.92156029\n",
            " 0.91562963 0.91010284 0.90513676 0.9008128 ]\n",
            "10day input[[0.89716387]]\n",
            "11day input[0.71260131 0.70764858 0.76114363 0.78022287 0.83124156 0.81435727\n",
            " 0.77318775 0.7146837  0.68308195 0.69884061 0.65648919 0.70565061\n",
            " 0.72354795 0.69388789 0.74628546 0.71471184 0.69431    0.63634061\n",
            " 0.68035232 0.63923908 0.5543674  0.62339599 0.49833971 0.55706889\n",
            " 0.5164059  0.54496848 0.52465106 0.54418055 0.64686515 0.63684714\n",
            " 0.66954638 0.65685502 0.69304367 0.68744372 0.62967132 0.66456551\n",
            " 0.63203512 0.70095115 0.67458352 0.69687078 0.68561459 0.70503152\n",
            " 0.74470959 0.7359579  0.7749606  0.76826317 0.75343314 0.70407474\n",
            " 0.7509005  0.74487843 0.76058082 0.78165804 0.76556168 0.78554142\n",
            " 0.76815061 0.74141715 0.76535063 0.77225912 0.78365601 0.80357947\n",
            " 0.82505065 0.85352882 0.82392503 0.82139239 0.84958915 0.90139577\n",
            " 0.93060558 0.93682463 0.95534106 0.93341963 0.96167267 0.92694732\n",
            " 0.90527915 0.90097366 0.94470396 0.93690905 0.93904773 0.9327724\n",
            " 0.93243471 0.94971297 0.93676835 0.96389577 1.         0.93578343\n",
            " 0.95111999 0.97827555 0.96642841 0.98528253 0.98325642 0.93965161\n",
            " 0.94037896 0.93790174 0.93330634 0.92761177 0.92156029 0.91562963\n",
            " 0.91010284 0.90513676 0.9008128  0.89716387]\n",
            "11day input[[0.89419585]]\n",
            "12day input[0.70764858 0.76114363 0.78022287 0.83124156 0.81435727 0.77318775\n",
            " 0.7146837  0.68308195 0.69884061 0.65648919 0.70565061 0.72354795\n",
            " 0.69388789 0.74628546 0.71471184 0.69431    0.63634061 0.68035232\n",
            " 0.63923908 0.5543674  0.62339599 0.49833971 0.55706889 0.5164059\n",
            " 0.54496848 0.52465106 0.54418055 0.64686515 0.63684714 0.66954638\n",
            " 0.65685502 0.69304367 0.68744372 0.62967132 0.66456551 0.63203512\n",
            " 0.70095115 0.67458352 0.69687078 0.68561459 0.70503152 0.74470959\n",
            " 0.7359579  0.7749606  0.76826317 0.75343314 0.70407474 0.7509005\n",
            " 0.74487843 0.76058082 0.78165804 0.76556168 0.78554142 0.76815061\n",
            " 0.74141715 0.76535063 0.77225912 0.78365601 0.80357947 0.82505065\n",
            " 0.85352882 0.82392503 0.82139239 0.84958915 0.90139577 0.93060558\n",
            " 0.93682463 0.95534106 0.93341963 0.96167267 0.92694732 0.90527915\n",
            " 0.90097366 0.94470396 0.93690905 0.93904773 0.9327724  0.93243471\n",
            " 0.94971297 0.93676835 0.96389577 1.         0.93578343 0.95111999\n",
            " 0.97827555 0.96642841 0.98528253 0.98325642 0.93965161 0.94037896\n",
            " 0.93790174 0.93330634 0.92761177 0.92156029 0.91562963 0.91010284\n",
            " 0.90513676 0.9008128  0.89716387 0.89419585]\n",
            "12day input[[0.89189386]]\n",
            "13day input[0.76114363 0.78022287 0.83124156 0.81435727 0.77318775 0.7146837\n",
            " 0.68308195 0.69884061 0.65648919 0.70565061 0.72354795 0.69388789\n",
            " 0.74628546 0.71471184 0.69431    0.63634061 0.68035232 0.63923908\n",
            " 0.5543674  0.62339599 0.49833971 0.55706889 0.5164059  0.54496848\n",
            " 0.52465106 0.54418055 0.64686515 0.63684714 0.66954638 0.65685502\n",
            " 0.69304367 0.68744372 0.62967132 0.66456551 0.63203512 0.70095115\n",
            " 0.67458352 0.69687078 0.68561459 0.70503152 0.74470959 0.7359579\n",
            " 0.7749606  0.76826317 0.75343314 0.70407474 0.7509005  0.74487843\n",
            " 0.76058082 0.78165804 0.76556168 0.78554142 0.76815061 0.74141715\n",
            " 0.76535063 0.77225912 0.78365601 0.80357947 0.82505065 0.85352882\n",
            " 0.82392503 0.82139239 0.84958915 0.90139577 0.93060558 0.93682463\n",
            " 0.95534106 0.93341963 0.96167267 0.92694732 0.90527915 0.90097366\n",
            " 0.94470396 0.93690905 0.93904773 0.9327724  0.93243471 0.94971297\n",
            " 0.93676835 0.96389577 1.         0.93578343 0.95111999 0.97827555\n",
            " 0.96642841 0.98528253 0.98325642 0.93965161 0.94037896 0.93790174\n",
            " 0.93330634 0.92761177 0.92156029 0.91562963 0.91010284 0.90513676\n",
            " 0.9008128  0.89716387 0.89419585 0.89189386]\n",
            "13day input[[0.8902287]]\n",
            "14day input[0.78022287 0.83124156 0.81435727 0.77318775 0.7146837  0.68308195\n",
            " 0.69884061 0.65648919 0.70565061 0.72354795 0.69388789 0.74628546\n",
            " 0.71471184 0.69431    0.63634061 0.68035232 0.63923908 0.5543674\n",
            " 0.62339599 0.49833971 0.55706889 0.5164059  0.54496848 0.52465106\n",
            " 0.54418055 0.64686515 0.63684714 0.66954638 0.65685502 0.69304367\n",
            " 0.68744372 0.62967132 0.66456551 0.63203512 0.70095115 0.67458352\n",
            " 0.69687078 0.68561459 0.70503152 0.74470959 0.7359579  0.7749606\n",
            " 0.76826317 0.75343314 0.70407474 0.7509005  0.74487843 0.76058082\n",
            " 0.78165804 0.76556168 0.78554142 0.76815061 0.74141715 0.76535063\n",
            " 0.77225912 0.78365601 0.80357947 0.82505065 0.85352882 0.82392503\n",
            " 0.82139239 0.84958915 0.90139577 0.93060558 0.93682463 0.95534106\n",
            " 0.93341963 0.96167267 0.92694732 0.90527915 0.90097366 0.94470396\n",
            " 0.93690905 0.93904773 0.9327724  0.93243471 0.94971297 0.93676835\n",
            " 0.96389577 1.         0.93578343 0.95111999 0.97827555 0.96642841\n",
            " 0.98528253 0.98325642 0.93965161 0.94037896 0.93790174 0.93330634\n",
            " 0.92761177 0.92156029 0.91562963 0.91010284 0.90513676 0.9008128\n",
            " 0.89716387 0.89419585 0.89189386 0.89022869]\n",
            "14day input[[0.88915473]]\n",
            "15day input[0.83124156 0.81435727 0.77318775 0.7146837  0.68308195 0.69884061\n",
            " 0.65648919 0.70565061 0.72354795 0.69388789 0.74628546 0.71471184\n",
            " 0.69431    0.63634061 0.68035232 0.63923908 0.5543674  0.62339599\n",
            " 0.49833971 0.55706889 0.5164059  0.54496848 0.52465106 0.54418055\n",
            " 0.64686515 0.63684714 0.66954638 0.65685502 0.69304367 0.68744372\n",
            " 0.62967132 0.66456551 0.63203512 0.70095115 0.67458352 0.69687078\n",
            " 0.68561459 0.70503152 0.74470959 0.7359579  0.7749606  0.76826317\n",
            " 0.75343314 0.70407474 0.7509005  0.74487843 0.76058082 0.78165804\n",
            " 0.76556168 0.78554142 0.76815061 0.74141715 0.76535063 0.77225912\n",
            " 0.78365601 0.80357947 0.82505065 0.85352882 0.82392503 0.82139239\n",
            " 0.84958915 0.90139577 0.93060558 0.93682463 0.95534106 0.93341963\n",
            " 0.96167267 0.92694732 0.90527915 0.90097366 0.94470396 0.93690905\n",
            " 0.93904773 0.9327724  0.93243471 0.94971297 0.93676835 0.96389577\n",
            " 1.         0.93578343 0.95111999 0.97827555 0.96642841 0.98528253\n",
            " 0.98325642 0.93965161 0.94037896 0.93790174 0.93330634 0.92761177\n",
            " 0.92156029 0.91562963 0.91010284 0.90513676 0.9008128  0.89716387\n",
            " 0.89419585 0.89189386 0.89022869 0.88915473]\n",
            "15day input[[0.88862205]]\n",
            "16day input[0.81435727 0.77318775 0.7146837  0.68308195 0.69884061 0.65648919\n",
            " 0.70565061 0.72354795 0.69388789 0.74628546 0.71471184 0.69431\n",
            " 0.63634061 0.68035232 0.63923908 0.5543674  0.62339599 0.49833971\n",
            " 0.55706889 0.5164059  0.54496848 0.52465106 0.54418055 0.64686515\n",
            " 0.63684714 0.66954638 0.65685502 0.69304367 0.68744372 0.62967132\n",
            " 0.66456551 0.63203512 0.70095115 0.67458352 0.69687078 0.68561459\n",
            " 0.70503152 0.74470959 0.7359579  0.7749606  0.76826317 0.75343314\n",
            " 0.70407474 0.7509005  0.74487843 0.76058082 0.78165804 0.76556168\n",
            " 0.78554142 0.76815061 0.74141715 0.76535063 0.77225912 0.78365601\n",
            " 0.80357947 0.82505065 0.85352882 0.82392503 0.82139239 0.84958915\n",
            " 0.90139577 0.93060558 0.93682463 0.95534106 0.93341963 0.96167267\n",
            " 0.92694732 0.90527915 0.90097366 0.94470396 0.93690905 0.93904773\n",
            " 0.9327724  0.93243471 0.94971297 0.93676835 0.96389577 1.\n",
            " 0.93578343 0.95111999 0.97827555 0.96642841 0.98528253 0.98325642\n",
            " 0.93965161 0.94037896 0.93790174 0.93330634 0.92761177 0.92156029\n",
            " 0.91562963 0.91010284 0.90513676 0.9008128  0.89716387 0.89419585\n",
            " 0.89189386 0.89022869 0.88915473 0.88862205]\n",
            "16day input[[0.88856983]]\n",
            "17day input[0.77318775 0.7146837  0.68308195 0.69884061 0.65648919 0.70565061\n",
            " 0.72354795 0.69388789 0.74628546 0.71471184 0.69431    0.63634061\n",
            " 0.68035232 0.63923908 0.5543674  0.62339599 0.49833971 0.55706889\n",
            " 0.5164059  0.54496848 0.52465106 0.54418055 0.64686515 0.63684714\n",
            " 0.66954638 0.65685502 0.69304367 0.68744372 0.62967132 0.66456551\n",
            " 0.63203512 0.70095115 0.67458352 0.69687078 0.68561459 0.70503152\n",
            " 0.74470959 0.7359579  0.7749606  0.76826317 0.75343314 0.70407474\n",
            " 0.7509005  0.74487843 0.76058082 0.78165804 0.76556168 0.78554142\n",
            " 0.76815061 0.74141715 0.76535063 0.77225912 0.78365601 0.80357947\n",
            " 0.82505065 0.85352882 0.82392503 0.82139239 0.84958915 0.90139577\n",
            " 0.93060558 0.93682463 0.95534106 0.93341963 0.96167267 0.92694732\n",
            " 0.90527915 0.90097366 0.94470396 0.93690905 0.93904773 0.9327724\n",
            " 0.93243471 0.94971297 0.93676835 0.96389577 1.         0.93578343\n",
            " 0.95111999 0.97827555 0.96642841 0.98528253 0.98325642 0.93965161\n",
            " 0.94037896 0.93790174 0.93330634 0.92761177 0.92156029 0.91562963\n",
            " 0.91010284 0.90513676 0.9008128  0.89716387 0.89419585 0.89189386\n",
            " 0.89022869 0.88915473 0.88862205 0.88856983]\n",
            "17day input[[0.8889372]]\n",
            "18day input[0.7146837  0.68308195 0.69884061 0.65648919 0.70565061 0.72354795\n",
            " 0.69388789 0.74628546 0.71471184 0.69431    0.63634061 0.68035232\n",
            " 0.63923908 0.5543674  0.62339599 0.49833971 0.55706889 0.5164059\n",
            " 0.54496848 0.52465106 0.54418055 0.64686515 0.63684714 0.66954638\n",
            " 0.65685502 0.69304367 0.68744372 0.62967132 0.66456551 0.63203512\n",
            " 0.70095115 0.67458352 0.69687078 0.68561459 0.70503152 0.74470959\n",
            " 0.7359579  0.7749606  0.76826317 0.75343314 0.70407474 0.7509005\n",
            " 0.74487843 0.76058082 0.78165804 0.76556168 0.78554142 0.76815061\n",
            " 0.74141715 0.76535063 0.77225912 0.78365601 0.80357947 0.82505065\n",
            " 0.85352882 0.82392503 0.82139239 0.84958915 0.90139577 0.93060558\n",
            " 0.93682463 0.95534106 0.93341963 0.96167267 0.92694732 0.90527915\n",
            " 0.90097366 0.94470396 0.93690905 0.93904773 0.9327724  0.93243471\n",
            " 0.94971297 0.93676835 0.96389577 1.         0.93578343 0.95111999\n",
            " 0.97827555 0.96642841 0.98528253 0.98325642 0.93965161 0.94037896\n",
            " 0.93790174 0.93330634 0.92761177 0.92156029 0.91562963 0.91010284\n",
            " 0.90513676 0.9008128  0.89716387 0.89419585 0.89189386 0.89022869\n",
            " 0.88915473 0.88862205 0.88856983 0.88893718]\n",
            "18day input[[0.88965875]]\n",
            "19day input[0.68308195 0.69884061 0.65648919 0.70565061 0.72354795 0.69388789\n",
            " 0.74628546 0.71471184 0.69431    0.63634061 0.68035232 0.63923908\n",
            " 0.5543674  0.62339599 0.49833971 0.55706889 0.5164059  0.54496848\n",
            " 0.52465106 0.54418055 0.64686515 0.63684714 0.66954638 0.65685502\n",
            " 0.69304367 0.68744372 0.62967132 0.66456551 0.63203512 0.70095115\n",
            " 0.67458352 0.69687078 0.68561459 0.70503152 0.74470959 0.7359579\n",
            " 0.7749606  0.76826317 0.75343314 0.70407474 0.7509005  0.74487843\n",
            " 0.76058082 0.78165804 0.76556168 0.78554142 0.76815061 0.74141715\n",
            " 0.76535063 0.77225912 0.78365601 0.80357947 0.82505065 0.85352882\n",
            " 0.82392503 0.82139239 0.84958915 0.90139577 0.93060558 0.93682463\n",
            " 0.95534106 0.93341963 0.96167267 0.92694732 0.90527915 0.90097366\n",
            " 0.94470396 0.93690905 0.93904773 0.9327724  0.93243471 0.94971297\n",
            " 0.93676835 0.96389577 1.         0.93578343 0.95111999 0.97827555\n",
            " 0.96642841 0.98528253 0.98325642 0.93965161 0.94037896 0.93790174\n",
            " 0.93330634 0.92761177 0.92156029 0.91562963 0.91010284 0.90513676\n",
            " 0.9008128  0.89716387 0.89419585 0.89189386 0.89022869 0.88915473\n",
            " 0.88862205 0.88856983 0.88893718 0.88965875]\n",
            "19day input[[0.890668]]\n",
            "20day input[0.69884061 0.65648919 0.70565061 0.72354795 0.69388789 0.74628546\n",
            " 0.71471184 0.69431    0.63634061 0.68035232 0.63923908 0.5543674\n",
            " 0.62339599 0.49833971 0.55706889 0.5164059  0.54496848 0.52465106\n",
            " 0.54418055 0.64686515 0.63684714 0.66954638 0.65685502 0.69304367\n",
            " 0.68744372 0.62967132 0.66456551 0.63203512 0.70095115 0.67458352\n",
            " 0.69687078 0.68561459 0.70503152 0.74470959 0.7359579  0.7749606\n",
            " 0.76826317 0.75343314 0.70407474 0.7509005  0.74487843 0.76058082\n",
            " 0.78165804 0.76556168 0.78554142 0.76815061 0.74141715 0.76535063\n",
            " 0.77225912 0.78365601 0.80357947 0.82505065 0.85352882 0.82392503\n",
            " 0.82139239 0.84958915 0.90139577 0.93060558 0.93682463 0.95534106\n",
            " 0.93341963 0.96167267 0.92694732 0.90527915 0.90097366 0.94470396\n",
            " 0.93690905 0.93904773 0.9327724  0.93243471 0.94971297 0.93676835\n",
            " 0.96389577 1.         0.93578343 0.95111999 0.97827555 0.96642841\n",
            " 0.98528253 0.98325642 0.93965161 0.94037896 0.93790174 0.93330634\n",
            " 0.92761177 0.92156029 0.91562963 0.91010284 0.90513676 0.9008128\n",
            " 0.89716387 0.89419585 0.89189386 0.89022869 0.88915473 0.88862205\n",
            " 0.88856983 0.88893718 0.88965875 0.89066797]\n",
            "20day input[[0.8918981]]\n",
            "21day input[0.65648919 0.70565061 0.72354795 0.69388789 0.74628546 0.71471184\n",
            " 0.69431    0.63634061 0.68035232 0.63923908 0.5543674  0.62339599\n",
            " 0.49833971 0.55706889 0.5164059  0.54496848 0.52465106 0.54418055\n",
            " 0.64686515 0.63684714 0.66954638 0.65685502 0.69304367 0.68744372\n",
            " 0.62967132 0.66456551 0.63203512 0.70095115 0.67458352 0.69687078\n",
            " 0.68561459 0.70503152 0.74470959 0.7359579  0.7749606  0.76826317\n",
            " 0.75343314 0.70407474 0.7509005  0.74487843 0.76058082 0.78165804\n",
            " 0.76556168 0.78554142 0.76815061 0.74141715 0.76535063 0.77225912\n",
            " 0.78365601 0.80357947 0.82505065 0.85352882 0.82392503 0.82139239\n",
            " 0.84958915 0.90139577 0.93060558 0.93682463 0.95534106 0.93341963\n",
            " 0.96167267 0.92694732 0.90527915 0.90097366 0.94470396 0.93690905\n",
            " 0.93904773 0.9327724  0.93243471 0.94971297 0.93676835 0.96389577\n",
            " 1.         0.93578343 0.95111999 0.97827555 0.96642841 0.98528253\n",
            " 0.98325642 0.93965161 0.94037896 0.93790174 0.93330634 0.92761177\n",
            " 0.92156029 0.91562963 0.91010284 0.90513676 0.9008128  0.89716387\n",
            " 0.89419585 0.89189386 0.89022869 0.88915473 0.88862205 0.88856983\n",
            " 0.88893718 0.88965875 0.89066797 0.8918981 ]\n",
            "21day input[[0.89328414]]\n",
            "22day input[0.70565061 0.72354795 0.69388789 0.74628546 0.71471184 0.69431\n",
            " 0.63634061 0.68035232 0.63923908 0.5543674  0.62339599 0.49833971\n",
            " 0.55706889 0.5164059  0.54496848 0.52465106 0.54418055 0.64686515\n",
            " 0.63684714 0.66954638 0.65685502 0.69304367 0.68744372 0.62967132\n",
            " 0.66456551 0.63203512 0.70095115 0.67458352 0.69687078 0.68561459\n",
            " 0.70503152 0.74470959 0.7359579  0.7749606  0.76826317 0.75343314\n",
            " 0.70407474 0.7509005  0.74487843 0.76058082 0.78165804 0.76556168\n",
            " 0.78554142 0.76815061 0.74141715 0.76535063 0.77225912 0.78365601\n",
            " 0.80357947 0.82505065 0.85352882 0.82392503 0.82139239 0.84958915\n",
            " 0.90139577 0.93060558 0.93682463 0.95534106 0.93341963 0.96167267\n",
            " 0.92694732 0.90527915 0.90097366 0.94470396 0.93690905 0.93904773\n",
            " 0.9327724  0.93243471 0.94971297 0.93676835 0.96389577 1.\n",
            " 0.93578343 0.95111999 0.97827555 0.96642841 0.98528253 0.98325642\n",
            " 0.93965161 0.94037896 0.93790174 0.93330634 0.92761177 0.92156029\n",
            " 0.91562963 0.91010284 0.90513676 0.9008128  0.89716387 0.89419585\n",
            " 0.89189386 0.89022869 0.88915473 0.88862205 0.88856983 0.88893718\n",
            " 0.88965875 0.89066797 0.8918981  0.89328414]\n",
            "22day input[[0.8947695]]\n",
            "23day input[0.72354795 0.69388789 0.74628546 0.71471184 0.69431    0.63634061\n",
            " 0.68035232 0.63923908 0.5543674  0.62339599 0.49833971 0.55706889\n",
            " 0.5164059  0.54496848 0.52465106 0.54418055 0.64686515 0.63684714\n",
            " 0.66954638 0.65685502 0.69304367 0.68744372 0.62967132 0.66456551\n",
            " 0.63203512 0.70095115 0.67458352 0.69687078 0.68561459 0.70503152\n",
            " 0.74470959 0.7359579  0.7749606  0.76826317 0.75343314 0.70407474\n",
            " 0.7509005  0.74487843 0.76058082 0.78165804 0.76556168 0.78554142\n",
            " 0.76815061 0.74141715 0.76535063 0.77225912 0.78365601 0.80357947\n",
            " 0.82505065 0.85352882 0.82392503 0.82139239 0.84958915 0.90139577\n",
            " 0.93060558 0.93682463 0.95534106 0.93341963 0.96167267 0.92694732\n",
            " 0.90527915 0.90097366 0.94470396 0.93690905 0.93904773 0.9327724\n",
            " 0.93243471 0.94971297 0.93676835 0.96389577 1.         0.93578343\n",
            " 0.95111999 0.97827555 0.96642841 0.98528253 0.98325642 0.93965161\n",
            " 0.94037896 0.93790174 0.93330634 0.92761177 0.92156029 0.91562963\n",
            " 0.91010284 0.90513676 0.9008128  0.89716387 0.89419585 0.89189386\n",
            " 0.89022869 0.88915473 0.88862205 0.88856983 0.88893718 0.88965875\n",
            " 0.89066797 0.8918981  0.89328414 0.89476949]\n",
            "23day input[[0.89629626]]\n",
            "24day input[0.69388789 0.74628546 0.71471184 0.69431    0.63634061 0.68035232\n",
            " 0.63923908 0.5543674  0.62339599 0.49833971 0.55706889 0.5164059\n",
            " 0.54496848 0.52465106 0.54418055 0.64686515 0.63684714 0.66954638\n",
            " 0.65685502 0.69304367 0.68744372 0.62967132 0.66456551 0.63203512\n",
            " 0.70095115 0.67458352 0.69687078 0.68561459 0.70503152 0.74470959\n",
            " 0.7359579  0.7749606  0.76826317 0.75343314 0.70407474 0.7509005\n",
            " 0.74487843 0.76058082 0.78165804 0.76556168 0.78554142 0.76815061\n",
            " 0.74141715 0.76535063 0.77225912 0.78365601 0.80357947 0.82505065\n",
            " 0.85352882 0.82392503 0.82139239 0.84958915 0.90139577 0.93060558\n",
            " 0.93682463 0.95534106 0.93341963 0.96167267 0.92694732 0.90527915\n",
            " 0.90097366 0.94470396 0.93690905 0.93904773 0.9327724  0.93243471\n",
            " 0.94971297 0.93676835 0.96389577 1.         0.93578343 0.95111999\n",
            " 0.97827555 0.96642841 0.98528253 0.98325642 0.93965161 0.94037896\n",
            " 0.93790174 0.93330634 0.92761177 0.92156029 0.91562963 0.91010284\n",
            " 0.90513676 0.9008128  0.89716387 0.89419585 0.89189386 0.89022869\n",
            " 0.88915473 0.88862205 0.88856983 0.88893718 0.88965875 0.89066797\n",
            " 0.8918981  0.89328414 0.89476949 0.89629626]\n",
            "24day input[[0.89781713]]\n",
            "25day input[0.74628546 0.71471184 0.69431    0.63634061 0.68035232 0.63923908\n",
            " 0.5543674  0.62339599 0.49833971 0.55706889 0.5164059  0.54496848\n",
            " 0.52465106 0.54418055 0.64686515 0.63684714 0.66954638 0.65685502\n",
            " 0.69304367 0.68744372 0.62967132 0.66456551 0.63203512 0.70095115\n",
            " 0.67458352 0.69687078 0.68561459 0.70503152 0.74470959 0.7359579\n",
            " 0.7749606  0.76826317 0.75343314 0.70407474 0.7509005  0.74487843\n",
            " 0.76058082 0.78165804 0.76556168 0.78554142 0.76815061 0.74141715\n",
            " 0.76535063 0.77225912 0.78365601 0.80357947 0.82505065 0.85352882\n",
            " 0.82392503 0.82139239 0.84958915 0.90139577 0.93060558 0.93682463\n",
            " 0.95534106 0.93341963 0.96167267 0.92694732 0.90527915 0.90097366\n",
            " 0.94470396 0.93690905 0.93904773 0.9327724  0.93243471 0.94971297\n",
            " 0.93676835 0.96389577 1.         0.93578343 0.95111999 0.97827555\n",
            " 0.96642841 0.98528253 0.98325642 0.93965161 0.94037896 0.93790174\n",
            " 0.93330634 0.92761177 0.92156029 0.91562963 0.91010284 0.90513676\n",
            " 0.9008128  0.89716387 0.89419585 0.89189386 0.89022869 0.88915473\n",
            " 0.88862205 0.88856983 0.88893718 0.88965875 0.89066797 0.8918981\n",
            " 0.89328414 0.89476949 0.89629626 0.89781713]\n",
            "25day input[[0.8992911]]\n",
            "26day input[0.71471184 0.69431    0.63634061 0.68035232 0.63923908 0.5543674\n",
            " 0.62339599 0.49833971 0.55706889 0.5164059  0.54496848 0.52465106\n",
            " 0.54418055 0.64686515 0.63684714 0.66954638 0.65685502 0.69304367\n",
            " 0.68744372 0.62967132 0.66456551 0.63203512 0.70095115 0.67458352\n",
            " 0.69687078 0.68561459 0.70503152 0.74470959 0.7359579  0.7749606\n",
            " 0.76826317 0.75343314 0.70407474 0.7509005  0.74487843 0.76058082\n",
            " 0.78165804 0.76556168 0.78554142 0.76815061 0.74141715 0.76535063\n",
            " 0.77225912 0.78365601 0.80357947 0.82505065 0.85352882 0.82392503\n",
            " 0.82139239 0.84958915 0.90139577 0.93060558 0.93682463 0.95534106\n",
            " 0.93341963 0.96167267 0.92694732 0.90527915 0.90097366 0.94470396\n",
            " 0.93690905 0.93904773 0.9327724  0.93243471 0.94971297 0.93676835\n",
            " 0.96389577 1.         0.93578343 0.95111999 0.97827555 0.96642841\n",
            " 0.98528253 0.98325642 0.93965161 0.94037896 0.93790174 0.93330634\n",
            " 0.92761177 0.92156029 0.91562963 0.91010284 0.90513676 0.9008128\n",
            " 0.89716387 0.89419585 0.89189386 0.89022869 0.88915473 0.88862205\n",
            " 0.88856983 0.88893718 0.88965875 0.89066797 0.8918981  0.89328414\n",
            " 0.89476949 0.89629626 0.89781713 0.8992911 ]\n",
            "26day input[[0.9006794]]\n",
            "27day input[0.69431    0.63634061 0.68035232 0.63923908 0.5543674  0.62339599\n",
            " 0.49833971 0.55706889 0.5164059  0.54496848 0.52465106 0.54418055\n",
            " 0.64686515 0.63684714 0.66954638 0.65685502 0.69304367 0.68744372\n",
            " 0.62967132 0.66456551 0.63203512 0.70095115 0.67458352 0.69687078\n",
            " 0.68561459 0.70503152 0.74470959 0.7359579  0.7749606  0.76826317\n",
            " 0.75343314 0.70407474 0.7509005  0.74487843 0.76058082 0.78165804\n",
            " 0.76556168 0.78554142 0.76815061 0.74141715 0.76535063 0.77225912\n",
            " 0.78365601 0.80357947 0.82505065 0.85352882 0.82392503 0.82139239\n",
            " 0.84958915 0.90139577 0.93060558 0.93682463 0.95534106 0.93341963\n",
            " 0.96167267 0.92694732 0.90527915 0.90097366 0.94470396 0.93690905\n",
            " 0.93904773 0.9327724  0.93243471 0.94971297 0.93676835 0.96389577\n",
            " 1.         0.93578343 0.95111999 0.97827555 0.96642841 0.98528253\n",
            " 0.98325642 0.93965161 0.94037896 0.93790174 0.93330634 0.92761177\n",
            " 0.92156029 0.91562963 0.91010284 0.90513676 0.9008128  0.89716387\n",
            " 0.89419585 0.89189386 0.89022869 0.88915473 0.88862205 0.88856983\n",
            " 0.88893718 0.88965875 0.89066797 0.8918981  0.89328414 0.89476949\n",
            " 0.89629626 0.89781713 0.8992911  0.90067941]\n",
            "27day input[[0.90195525]]\n",
            "28day input[0.63634061 0.68035232 0.63923908 0.5543674  0.62339599 0.49833971\n",
            " 0.55706889 0.5164059  0.54496848 0.52465106 0.54418055 0.64686515\n",
            " 0.63684714 0.66954638 0.65685502 0.69304367 0.68744372 0.62967132\n",
            " 0.66456551 0.63203512 0.70095115 0.67458352 0.69687078 0.68561459\n",
            " 0.70503152 0.74470959 0.7359579  0.7749606  0.76826317 0.75343314\n",
            " 0.70407474 0.7509005  0.74487843 0.76058082 0.78165804 0.76556168\n",
            " 0.78554142 0.76815061 0.74141715 0.76535063 0.77225912 0.78365601\n",
            " 0.80357947 0.82505065 0.85352882 0.82392503 0.82139239 0.84958915\n",
            " 0.90139577 0.93060558 0.93682463 0.95534106 0.93341963 0.96167267\n",
            " 0.92694732 0.90527915 0.90097366 0.94470396 0.93690905 0.93904773\n",
            " 0.9327724  0.93243471 0.94971297 0.93676835 0.96389577 1.\n",
            " 0.93578343 0.95111999 0.97827555 0.96642841 0.98528253 0.98325642\n",
            " 0.93965161 0.94037896 0.93790174 0.93330634 0.92761177 0.92156029\n",
            " 0.91562963 0.91010284 0.90513676 0.9008128  0.89716387 0.89419585\n",
            " 0.89189386 0.89022869 0.88915473 0.88862205 0.88856983 0.88893718\n",
            " 0.88965875 0.89066797 0.8918981  0.89328414 0.89476949 0.89629626\n",
            " 0.89781713 0.8992911  0.90067941 0.90195525]\n",
            "28day input[[0.90309584]]\n",
            "29day input[0.68035232 0.63923908 0.5543674  0.62339599 0.49833971 0.55706889\n",
            " 0.5164059  0.54496848 0.52465106 0.54418055 0.64686515 0.63684714\n",
            " 0.66954638 0.65685502 0.69304367 0.68744372 0.62967132 0.66456551\n",
            " 0.63203512 0.70095115 0.67458352 0.69687078 0.68561459 0.70503152\n",
            " 0.74470959 0.7359579  0.7749606  0.76826317 0.75343314 0.70407474\n",
            " 0.7509005  0.74487843 0.76058082 0.78165804 0.76556168 0.78554142\n",
            " 0.76815061 0.74141715 0.76535063 0.77225912 0.78365601 0.80357947\n",
            " 0.82505065 0.85352882 0.82392503 0.82139239 0.84958915 0.90139577\n",
            " 0.93060558 0.93682463 0.95534106 0.93341963 0.96167267 0.92694732\n",
            " 0.90527915 0.90097366 0.94470396 0.93690905 0.93904773 0.9327724\n",
            " 0.93243471 0.94971297 0.93676835 0.96389577 1.         0.93578343\n",
            " 0.95111999 0.97827555 0.96642841 0.98528253 0.98325642 0.93965161\n",
            " 0.94037896 0.93790174 0.93330634 0.92761177 0.92156029 0.91562963\n",
            " 0.91010284 0.90513676 0.9008128  0.89716387 0.89419585 0.89189386\n",
            " 0.89022869 0.88915473 0.88862205 0.88856983 0.88893718 0.88965875\n",
            " 0.89066797 0.8918981  0.89328414 0.89476949 0.89629626 0.89781713\n",
            " 0.8992911  0.90067941 0.90195525 0.90309584]\n",
            "29day input[[0.9040868]]\n"
          ],
          "name": "stdout"
        }
      ]
    },
    {
      "cell_type": "code",
      "metadata": {
        "id": "tDoMp99jPKCW",
        "colab_type": "code",
        "colab": {}
      },
      "source": [
        "day_new=np.arange(1,101)\n",
        "day_predict=np.arange(101,131)"
      ],
      "execution_count": 33,
      "outputs": []
    },
    {
      "cell_type": "code",
      "metadata": {
        "id": "z03gJV9YPKBE",
        "colab_type": "code",
        "colab": {}
      },
      "source": [
        "import matplotlib.pyplot as plt"
      ],
      "execution_count": 34,
      "outputs": []
    },
    {
      "cell_type": "code",
      "metadata": {
        "id": "jtF8LanpPJ8G",
        "colab_type": "code",
        "colab": {
          "base_uri": "https://localhost:8080/",
          "height": 36
        },
        "outputId": "b62b7cc9-22eb-4b50-a942-c526fe5fce2b"
      },
      "source": [
        "len(df1)"
      ],
      "execution_count": 36,
      "outputs": [
        {
          "output_type": "execute_result",
          "data": {
            "text/plain": [
              "1258"
            ]
          },
          "metadata": {
            "tags": []
          },
          "execution_count": 36
        }
      ]
    },
    {
      "cell_type": "code",
      "metadata": {
        "id": "lOCWD2sXPJ66",
        "colab_type": "code",
        "colab": {}
      },
      "source": [
        "df3=df1.tolist()\n",
        "df3.extend(output)"
      ],
      "execution_count": 37,
      "outputs": []
    },
    {
      "cell_type": "code",
      "metadata": {
        "id": "S1FOiqWkPJ31",
        "colab_type": "code",
        "colab": {
          "base_uri": "https://localhost:8080/",
          "height": 284
        },
        "outputId": "64518265-7a20-4c6f-e402-32cb9aafbe7a"
      },
      "source": [
        "plt.plot(day_new,scaler.inverse_transform(df1[1158:]))\n",
        "plt.plot(day_predict,scaler.inverse_transform(output))"
      ],
      "execution_count": 39,
      "outputs": [
        {
          "output_type": "execute_result",
          "data": {
            "text/plain": [
              "[<matplotlib.lines.Line2D at 0x7fb903936048>]"
            ]
          },
          "metadata": {
            "tags": []
          },
          "execution_count": 39
        },
        {
          "output_type": "display_data",
          "data": {
            "image/png": "[encoded data removed]",
            "text/plain": [
              "<Figure size 432x288 with 1 Axes>"
            ]
          },
          "metadata": {
            "tags": [],
            "needs_background": "light"
          }
        }
      ]
    },
    {
      "cell_type": "code",
      "metadata": {
        "id": "idD4NXLdPJ1H",
        "colab_type": "code",
        "colab": {
          "base_uri": "https://localhost:8080/",
          "height": 284
        },
        "outputId": "48dea35e-559c-48b8-ca26-872c56b39c99"
      },
      "source": [
        "plt.plot(df3[1000:])"
      ],
      "execution_count": 40,
      "outputs": [
        {
          "output_type": "execute_result",
          "data": {
            "text/plain": [
              "[<matplotlib.lines.Line2D at 0x7fb903957198>]"
            ]
          },
          "metadata": {
            "tags": []
          },
          "execution_count": 40
        },
        {
          "output_type": "display_data",
          "data": {
            "image/png": "[encoded data removed]",
            "text/plain": [
              "<Figure size 432x288 with 1 Axes>"
            ]
          },
          "metadata": {
            "tags": [],
            "needs_background": "light"
          }
        }
      ]
    },
    {
      "cell_type": "code",
      "metadata": {
        "id": "QZa-seyjPJww",
        "colab_type": "code",
        "colab": {}
      },
      "source": [
        ""
      ],
      "execution_count": null,
      "outputs": []
    },
    {
      "cell_type": "code",
      "metadata": {
        "id": "MJNwl6DJPJum",
        "colab_type": "code",
        "colab": {}
      },
      "source": [
        ""
      ],
      "execution_count": null,
      "outputs": []
    }
  ]
}